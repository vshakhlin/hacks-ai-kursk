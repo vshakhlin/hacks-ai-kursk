{
  "cells": [
    {
      "cell_type": "markdown",
      "metadata": {
        "id": "HGy_u2OaPFOY"
      },
      "source": [
        "## Установка библиотек"
      ]
    },
    {
      "cell_type": "code",
      "source": [
        "!pip install keybert"
      ],
      "metadata": {
        "colab": {
          "base_uri": "https://localhost:8080/"
        },
        "id": "wLU6Fp-LFbCi",
        "outputId": "8e878006-a6ee-4e1c-b6e0-d853b0dd424a"
      },
      "execution_count": 1,
      "outputs": [
        {
          "output_type": "stream",
          "name": "stdout",
          "text": [
            "Looking in indexes: https://pypi.org/simple, https://us-python.pkg.dev/colab-wheels/public/simple/\n",
            "Collecting keybert\n",
            "  Downloading keybert-0.5.1.tar.gz (19 kB)\n",
            "Collecting sentence-transformers>=0.3.8\n",
            "  Downloading sentence-transformers-2.2.2.tar.gz (85 kB)\n",
            "\u001b[K     |████████████████████████████████| 85 kB 4.1 MB/s \n",
            "\u001b[?25hRequirement already satisfied: scikit-learn>=0.22.2 in /usr/local/lib/python3.7/dist-packages (from keybert) (1.0.2)\n",
            "Requirement already satisfied: numpy>=1.18.5 in /usr/local/lib/python3.7/dist-packages (from keybert) (1.21.6)\n",
            "Collecting rich>=10.4.0\n",
            "  Downloading rich-12.5.1-py3-none-any.whl (235 kB)\n",
            "\u001b[K     |████████████████████████████████| 235 kB 17.2 MB/s \n",
            "\u001b[?25hCollecting commonmark<0.10.0,>=0.9.0\n",
            "  Downloading commonmark-0.9.1-py2.py3-none-any.whl (51 kB)\n",
            "\u001b[K     |████████████████████████████████| 51 kB 8.5 MB/s \n",
            "\u001b[?25hRequirement already satisfied: pygments<3.0.0,>=2.6.0 in /usr/local/lib/python3.7/dist-packages (from rich>=10.4.0->keybert) (2.6.1)\n",
            "Requirement already satisfied: typing-extensions<5.0,>=4.0.0 in /usr/local/lib/python3.7/dist-packages (from rich>=10.4.0->keybert) (4.1.1)\n",
            "Requirement already satisfied: threadpoolctl>=2.0.0 in /usr/local/lib/python3.7/dist-packages (from scikit-learn>=0.22.2->keybert) (3.1.0)\n",
            "Requirement already satisfied: joblib>=0.11 in /usr/local/lib/python3.7/dist-packages (from scikit-learn>=0.22.2->keybert) (1.1.0)\n",
            "Requirement already satisfied: scipy>=1.1.0 in /usr/local/lib/python3.7/dist-packages (from scikit-learn>=0.22.2->keybert) (1.7.3)\n",
            "Collecting transformers<5.0.0,>=4.6.0\n",
            "  Downloading transformers-4.20.1-py3-none-any.whl (4.4 MB)\n",
            "\u001b[K     |████████████████████████████████| 4.4 MB 66.9 MB/s \n",
            "\u001b[?25hRequirement already satisfied: tqdm in /usr/local/lib/python3.7/dist-packages (from sentence-transformers>=0.3.8->keybert) (4.64.0)\n",
            "Requirement already satisfied: torch>=1.6.0 in /usr/local/lib/python3.7/dist-packages (from sentence-transformers>=0.3.8->keybert) (1.12.0+cu113)\n",
            "Requirement already satisfied: torchvision in /usr/local/lib/python3.7/dist-packages (from sentence-transformers>=0.3.8->keybert) (0.13.0+cu113)\n",
            "Requirement already satisfied: nltk in /usr/local/lib/python3.7/dist-packages (from sentence-transformers>=0.3.8->keybert) (3.7)\n",
            "Collecting sentencepiece\n",
            "  Downloading sentencepiece-0.1.96-cp37-cp37m-manylinux_2_17_x86_64.manylinux2014_x86_64.whl (1.2 MB)\n",
            "\u001b[K     |████████████████████████████████| 1.2 MB 59.1 MB/s \n",
            "\u001b[?25hCollecting huggingface-hub>=0.4.0\n",
            "  Downloading huggingface_hub-0.8.1-py3-none-any.whl (101 kB)\n",
            "\u001b[K     |████████████████████████████████| 101 kB 14.2 MB/s \n",
            "\u001b[?25hRequirement already satisfied: importlib-metadata in /usr/local/lib/python3.7/dist-packages (from huggingface-hub>=0.4.0->sentence-transformers>=0.3.8->keybert) (4.12.0)\n",
            "Requirement already satisfied: packaging>=20.9 in /usr/local/lib/python3.7/dist-packages (from huggingface-hub>=0.4.0->sentence-transformers>=0.3.8->keybert) (21.3)\n",
            "Requirement already satisfied: requests in /usr/local/lib/python3.7/dist-packages (from huggingface-hub>=0.4.0->sentence-transformers>=0.3.8->keybert) (2.23.0)\n",
            "Collecting pyyaml>=5.1\n",
            "  Downloading PyYAML-6.0-cp37-cp37m-manylinux_2_5_x86_64.manylinux1_x86_64.manylinux_2_12_x86_64.manylinux2010_x86_64.whl (596 kB)\n",
            "\u001b[K     |████████████████████████████████| 596 kB 72.3 MB/s \n",
            "\u001b[?25hRequirement already satisfied: filelock in /usr/local/lib/python3.7/dist-packages (from huggingface-hub>=0.4.0->sentence-transformers>=0.3.8->keybert) (3.7.1)\n",
            "Requirement already satisfied: pyparsing!=3.0.5,>=2.0.2 in /usr/local/lib/python3.7/dist-packages (from packaging>=20.9->huggingface-hub>=0.4.0->sentence-transformers>=0.3.8->keybert) (3.0.9)\n",
            "Collecting tokenizers!=0.11.3,<0.13,>=0.11.1\n",
            "  Downloading tokenizers-0.12.1-cp37-cp37m-manylinux_2_12_x86_64.manylinux2010_x86_64.whl (6.6 MB)\n",
            "\u001b[K     |████████████████████████████████| 6.6 MB 52.6 MB/s \n",
            "\u001b[?25hRequirement already satisfied: regex!=2019.12.17 in /usr/local/lib/python3.7/dist-packages (from transformers<5.0.0,>=4.6.0->sentence-transformers>=0.3.8->keybert) (2022.6.2)\n",
            "Requirement already satisfied: zipp>=0.5 in /usr/local/lib/python3.7/dist-packages (from importlib-metadata->huggingface-hub>=0.4.0->sentence-transformers>=0.3.8->keybert) (3.8.1)\n",
            "Requirement already satisfied: click in /usr/local/lib/python3.7/dist-packages (from nltk->sentence-transformers>=0.3.8->keybert) (7.1.2)\n",
            "Requirement already satisfied: chardet<4,>=3.0.2 in /usr/local/lib/python3.7/dist-packages (from requests->huggingface-hub>=0.4.0->sentence-transformers>=0.3.8->keybert) (3.0.4)\n",
            "Requirement already satisfied: urllib3!=1.25.0,!=1.25.1,<1.26,>=1.21.1 in /usr/local/lib/python3.7/dist-packages (from requests->huggingface-hub>=0.4.0->sentence-transformers>=0.3.8->keybert) (1.24.3)\n",
            "Requirement already satisfied: certifi>=2017.4.17 in /usr/local/lib/python3.7/dist-packages (from requests->huggingface-hub>=0.4.0->sentence-transformers>=0.3.8->keybert) (2022.6.15)\n",
            "Requirement already satisfied: idna<3,>=2.5 in /usr/local/lib/python3.7/dist-packages (from requests->huggingface-hub>=0.4.0->sentence-transformers>=0.3.8->keybert) (2.10)\n",
            "Requirement already satisfied: pillow!=8.3.*,>=5.3.0 in /usr/local/lib/python3.7/dist-packages (from torchvision->sentence-transformers>=0.3.8->keybert) (7.1.2)\n",
            "Building wheels for collected packages: keybert, sentence-transformers\n",
            "  Building wheel for keybert (setup.py) ... \u001b[?25l\u001b[?25hdone\n",
            "  Created wheel for keybert: filename=keybert-0.5.1-py3-none-any.whl size=21332 sha256=50e72097d8d45dd482a84a7fc0498d89b039e05f0ca4c2be03b5e51fcb40da14\n",
            "  Stored in directory: /root/.cache/pip/wheels/8e/95/c5/f5ceed2a9f9e80bc1a706a10a6fb03d726df7a3dd11800a58b\n",
            "  Building wheel for sentence-transformers (setup.py) ... \u001b[?25l\u001b[?25hdone\n",
            "  Created wheel for sentence-transformers: filename=sentence_transformers-2.2.2-py3-none-any.whl size=125938 sha256=cf8ea09b02e2134f70232cd26ed4bbe85e503efb593234f19e9a6290a041415d\n",
            "  Stored in directory: /root/.cache/pip/wheels/bf/06/fb/d59c1e5bd1dac7f6cf61ec0036cc3a10ab8fecaa6b2c3d3ee9\n",
            "Successfully built keybert sentence-transformers\n",
            "Installing collected packages: pyyaml, tokenizers, huggingface-hub, transformers, sentencepiece, commonmark, sentence-transformers, rich, keybert\n",
            "  Attempting uninstall: pyyaml\n",
            "    Found existing installation: PyYAML 3.13\n",
            "    Uninstalling PyYAML-3.13:\n",
            "      Successfully uninstalled PyYAML-3.13\n",
            "Successfully installed commonmark-0.9.1 huggingface-hub-0.8.1 keybert-0.5.1 pyyaml-6.0 rich-12.5.1 sentence-transformers-2.2.2 sentencepiece-0.1.96 tokenizers-0.12.1 transformers-4.20.1\n"
          ]
        }
      ]
    },
    {
      "cell_type": "code",
      "execution_count": 2,
      "metadata": {
        "colab": {
          "base_uri": "https://localhost:8080/"
        },
        "id": "fgX-depP_3I7",
        "outputId": "3b522345-a488-497b-f312-405838e357ee"
      },
      "outputs": [
        {
          "output_type": "stream",
          "name": "stdout",
          "text": [
            "\u001b[K     |████████████████████████████████| 55 kB 2.2 MB/s \n",
            "\u001b[K     |████████████████████████████████| 8.2 MB 15.3 MB/s \n",
            "\u001b[?25h"
          ]
        }
      ],
      "source": [
        "!pip install -q pymorphy2 # установка лемматизатора pymorphy2"
      ]
    },
    {
      "cell_type": "markdown",
      "metadata": {
        "id": "9jatVNGXPMdp"
      },
      "source": [
        "## Подготовка данных"
      ]
    },
    {
      "cell_type": "code",
      "execution_count": 3,
      "metadata": {
        "id": "D8MLL1JAJIJL"
      },
      "outputs": [],
      "source": [
        "import pandas as pd\n",
        "import matplotlib.pyplot as plt\n",
        "import numpy as np\n",
        "import pymorphy2 # Импортируем для работы с леммами"
      ]
    },
    {
      "cell_type": "code",
      "source": [
        "from keybert import KeyBERT"
      ],
      "metadata": {
        "id": "fLqMtDeBFigC"
      },
      "execution_count": 4,
      "outputs": []
    },
    {
      "cell_type": "code",
      "execution_count": 5,
      "metadata": {
        "id": "6vaQZKQsKGX7"
      },
      "outputs": [],
      "source": [
        "from bs4 import BeautifulSoup\n"
      ]
    },
    {
      "cell_type": "code",
      "source": [
        "import nltk\n",
        "import re"
      ],
      "metadata": {
        "id": "80YKmtESRkx_"
      },
      "execution_count": 6,
      "outputs": []
    },
    {
      "cell_type": "code",
      "source": [
        "kw_model = KeyBERT(model=\"DeepPavlov/distilrubert-base-cased-conversational\")"
      ],
      "metadata": {
        "colab": {
          "base_uri": "https://localhost:8080/",
          "height": 335,
          "referenced_widgets": [
            "3f9864f7448c45d79dd0cb5927431bb9",
            "12ccf4f6b09945d18049ce8942bf48a0",
            "2c6a0a61f8b34ce3b88bbcf2a4a927ab",
            "60a8eec06f964d8c8b02c861d5c9ffa7",
            "8415c5a0b79c4be797a909e44c975f53",
            "d7b993dd872245c092f1518e1a5d64e1",
            "52b25dd5622b4fa0bcc00f0dfa05409f",
            "740d00d09d834f64bc0ae3690eb3cfed",
            "8b537e95198b440093f3f07eb4de44a3",
            "75da6ea9876e427288addcf86f64c220",
            "8fd7b392c36c4e4b82cfaa0fc7f722aa",
            "c283a8cfc3684b2ca8820540be020ca8",
            "5767433a05a748c99929e0765dc7e9ef",
            "4cc37d6284804663a7d15f5eba73ccb6",
            "1fb9363edaee4a0d85c9bae179125857",
            "b120abe4115f49ab865d6b1b71578235",
            "ed267096c17d4510bfb460a3a4f2595c",
            "726e107991b84eb0abd6bc84cc6d711e",
            "611eccf7ca7e4a0a89d4b8d6732657a1",
            "c296e0abcacb42a999e579a459d7b2c6",
            "652492647d7a444b918149dff17d3c04",
            "7aa5a972813242e1ab4327da1abad055",
            "2f666bf56e1f43a7803d409a5f9b2801",
            "1646235e17034d57ac85129b6703d216",
            "0e677488143e480993541d4f1c8f453b",
            "da13f3cb72c349b4ab0d237c30fa3c6c",
            "3a15abc7172e4e38a1914c73e19778f4",
            "dc0a2bd8348d4badb019fcc17a5b672f",
            "4b3c531b13a546feab8a0f7656498e2d",
            "fe30b24998d344608a363f24077a24fb",
            "42c075a44a734405a335d907537b1639",
            "f94f858190b546b2b6f9f18fa171cbbd",
            "496188686a7a4f7aa93de3194a9d471c",
            "bce1b3a6f0e141859155a05f3dc7092c",
            "f5569ec32e934c1d8be590c1907dcd71",
            "cda4dcd2da9948f5958a79744b9fd82c",
            "51406694f2194bce9b86d162888ae247",
            "9f1e567c43db4545aa4649c743337954",
            "c3d5f6fc33f349e2bddba63d9b71b739",
            "3b6dd1dfaf464b66843dfe3a52559657",
            "dbfd06c5eba74bf1ac64c1a304bb4798",
            "06b8d825ac7e4a0184d39bdb0e76f752",
            "e983dfbcbbe042d2b34289b5e977b641",
            "5ad75d6aa75c431381d23b83f55c4d7c",
            "07c0f89356904649b363cbce1480de68",
            "fcb7434414644df6af4b06e4379bae46",
            "7ecc2e293fa046178ab9323a8a4dd4bd",
            "e62a7f6f87c047338f6cfc6dc5b941b0",
            "0a1007a3492c44c2a040c66e3ee832cb",
            "71a44b1493b3473f80f4a9eac4d3c658",
            "884b6ecf7447452ebf356d10f9b6f4cc",
            "5cee584043f34b9e912beff791249865",
            "4498655449964f8d9cda3b9e44bef441",
            "a60a47c9abef4f7bb309f7069a268a0f",
            "1e9ba0d48158482dae804673ee21c08b",
            "396276275c254166beaa5e72cf173c94",
            "bfd0b2546bb941c5890ce3def45da4af",
            "86cd8dd3a90a4b01b23fe81ca47f69ba",
            "6fb8c85ba69b45179b0ef26363339be1",
            "ba001b5071c84239b2a6393c0932dfd7",
            "af294f93d6134909a52f45d563380eff",
            "7f084ff0116940c0bccdc51a4262ecae",
            "5529ec4d8fe84c17a3ca90533a67af02",
            "a01239c9ca60416588d4ea0758f86dcb",
            "912a7150f31146ed99d58b3ee559a967",
            "ae88abaf7fe04a86b126eb1be4851592",
            "a4470092e8214f8d811db6b02fa59687",
            "f062c8f574d943e182163b9d0ccc5398",
            "397a992f3861440e8985a228a39729c0",
            "99081521d7a74cf68f6c460236d0eadd",
            "70616076c99b46bd87259cc2cd231c13",
            "6730af8ca1fe4ff9a4158c4fd78c7137",
            "0d2a0c01fcc445858e7af4a76787e2b9",
            "c91e9025c93a4139a481ad45677dbc8b",
            "8d773d0e6034404e8c98641241d88add",
            "e8187a79aa6f43f6b9f11c8368b2f850",
            "b50d461d75e3456d911d1dd397b1086b"
          ]
        },
        "id": "NTtmR20vGR5c",
        "outputId": "5a0e82d9-3b04-444e-f0c1-272d58c2c38f"
      },
      "execution_count": 7,
      "outputs": [
        {
          "output_type": "display_data",
          "data": {
            "text/plain": [
              "Downloading:   0%|          | 0.00/690 [00:00<?, ?B/s]"
            ],
            "application/vnd.jupyter.widget-view+json": {
              "version_major": 2,
              "version_minor": 0,
              "model_id": "3f9864f7448c45d79dd0cb5927431bb9"
            }
          },
          "metadata": {}
        },
        {
          "output_type": "display_data",
          "data": {
            "text/plain": [
              "Downloading:   0%|          | 0.00/3.22k [00:00<?, ?B/s]"
            ],
            "application/vnd.jupyter.widget-view+json": {
              "version_major": 2,
              "version_minor": 0,
              "model_id": "c283a8cfc3684b2ca8820540be020ca8"
            }
          },
          "metadata": {}
        },
        {
          "output_type": "display_data",
          "data": {
            "text/plain": [
              "Downloading:   0%|          | 0.00/538 [00:00<?, ?B/s]"
            ],
            "application/vnd.jupyter.widget-view+json": {
              "version_major": 2,
              "version_minor": 0,
              "model_id": "2f666bf56e1f43a7803d409a5f9b2801"
            }
          },
          "metadata": {}
        },
        {
          "output_type": "display_data",
          "data": {
            "text/plain": [
              "Downloading:   0%|          | 0.00/542M [00:00<?, ?B/s]"
            ],
            "application/vnd.jupyter.widget-view+json": {
              "version_major": 2,
              "version_minor": 0,
              "model_id": "bce1b3a6f0e141859155a05f3dc7092c"
            }
          },
          "metadata": {}
        },
        {
          "output_type": "display_data",
          "data": {
            "text/plain": [
              "Downloading:   0%|          | 0.00/112 [00:00<?, ?B/s]"
            ],
            "application/vnd.jupyter.widget-view+json": {
              "version_major": 2,
              "version_minor": 0,
              "model_id": "07c0f89356904649b363cbce1480de68"
            }
          },
          "metadata": {}
        },
        {
          "output_type": "display_data",
          "data": {
            "text/plain": [
              "Downloading:   0%|          | 0.00/24.0 [00:00<?, ?B/s]"
            ],
            "application/vnd.jupyter.widget-view+json": {
              "version_major": 2,
              "version_minor": 0,
              "model_id": "396276275c254166beaa5e72cf173c94"
            }
          },
          "metadata": {}
        },
        {
          "output_type": "display_data",
          "data": {
            "text/plain": [
              "Downloading:   0%|          | 0.00/1.40M [00:00<?, ?B/s]"
            ],
            "application/vnd.jupyter.widget-view+json": {
              "version_major": 2,
              "version_minor": 0,
              "model_id": "a4470092e8214f8d811db6b02fa59687"
            }
          },
          "metadata": {}
        },
        {
          "output_type": "stream",
          "name": "stderr",
          "text": [
            "No sentence-transformers model found with name /root/.cache/torch/sentence_transformers/DeepPavlov_distilrubert-base-cased-conversational. Creating a new one with MEAN pooling.\n",
            "Some weights of the model checkpoint at /root/.cache/torch/sentence_transformers/DeepPavlov_distilrubert-base-cased-conversational were not used when initializing DistilBertModel: ['vocab_projector.bias', 'vocab_layer_norm.bias', 'vocab_transform.bias', 'vocab_layer_norm.weight', 'vocab_transform.weight', 'vocab_projector.weight']\n",
            "- This IS expected if you are initializing DistilBertModel from the checkpoint of a model trained on another task or with another architecture (e.g. initializing a BertForSequenceClassification model from a BertForPreTraining model).\n",
            "- This IS NOT expected if you are initializing DistilBertModel from the checkpoint of a model that you expect to be exactly identical (initializing a BertForSequenceClassification model from a BertForSequenceClassification model).\n"
          ]
        }
      ]
    },
    {
      "cell_type": "code",
      "source": [
        "nltk.download() ## omw-1.4 book\n",
        " "
      ],
      "metadata": {
        "colab": {
          "base_uri": "https://localhost:8080/"
        },
        "id": "fd7Oil5h3WYj",
        "outputId": "8e75142d-bddd-4851-81bc-763e19bde401"
      },
      "execution_count": 8,
      "outputs": [
        {
          "name": "stdout",
          "output_type": "stream",
          "text": [
            "NLTK Downloader\n",
            "---------------------------------------------------------------------------\n",
            "    d) Download   l) List    u) Update   c) Config   h) Help   q) Quit\n",
            "---------------------------------------------------------------------------\n",
            "Downloader> d\n",
            "\n",
            "Download which package (l=list; x=cancel)?\n",
            "  Identifier> omw-1.4\n"
          ]
        },
        {
          "output_type": "stream",
          "name": "stderr",
          "text": [
            "    Downloading package omw-1.4 to /root/nltk_data...\n"
          ]
        },
        {
          "name": "stdout",
          "output_type": "stream",
          "text": [
            "\n",
            "---------------------------------------------------------------------------\n",
            "    d) Download   l) List    u) Update   c) Config   h) Help   q) Quit\n",
            "---------------------------------------------------------------------------\n",
            "Downloader> d\n",
            "\n",
            "Download which package (l=list; x=cancel)?\n",
            "  Identifier> book\n"
          ]
        },
        {
          "output_type": "stream",
          "name": "stderr",
          "text": [
            "    Downloading collection 'book'\n",
            "       | \n",
            "       | Downloading package abc to /root/nltk_data...\n",
            "       |   Unzipping corpora/abc.zip.\n",
            "       | Downloading package brown to /root/nltk_data...\n",
            "       |   Unzipping corpora/brown.zip.\n",
            "       | Downloading package chat80 to /root/nltk_data...\n",
            "       |   Unzipping corpora/chat80.zip.\n",
            "       | Downloading package cmudict to /root/nltk_data...\n",
            "       |   Unzipping corpora/cmudict.zip.\n",
            "       | Downloading package conll2000 to /root/nltk_data...\n",
            "       |   Unzipping corpora/conll2000.zip.\n",
            "       | Downloading package conll2002 to /root/nltk_data...\n",
            "       |   Unzipping corpora/conll2002.zip.\n",
            "       | Downloading package dependency_treebank to /root/nltk_data...\n",
            "       |   Unzipping corpora/dependency_treebank.zip.\n",
            "       | Downloading package genesis to /root/nltk_data...\n",
            "       |   Unzipping corpora/genesis.zip.\n",
            "       | Downloading package gutenberg to /root/nltk_data...\n",
            "       |   Unzipping corpora/gutenberg.zip.\n",
            "       | Downloading package ieer to /root/nltk_data...\n",
            "       |   Unzipping corpora/ieer.zip.\n",
            "       | Downloading package inaugural to /root/nltk_data...\n",
            "       |   Unzipping corpora/inaugural.zip.\n",
            "       | Downloading package movie_reviews to /root/nltk_data...\n",
            "       |   Unzipping corpora/movie_reviews.zip.\n",
            "       | Downloading package nps_chat to /root/nltk_data...\n",
            "       |   Unzipping corpora/nps_chat.zip.\n",
            "       | Downloading package names to /root/nltk_data...\n",
            "       |   Unzipping corpora/names.zip.\n",
            "       | Downloading package ppattach to /root/nltk_data...\n",
            "       |   Unzipping corpora/ppattach.zip.\n",
            "       | Downloading package reuters to /root/nltk_data...\n",
            "       | Downloading package senseval to /root/nltk_data...\n",
            "       |   Unzipping corpora/senseval.zip.\n",
            "       | Downloading package state_union to /root/nltk_data...\n",
            "       |   Unzipping corpora/state_union.zip.\n",
            "       | Downloading package stopwords to /root/nltk_data...\n",
            "       |   Unzipping corpora/stopwords.zip.\n",
            "       | Downloading package swadesh to /root/nltk_data...\n",
            "       |   Unzipping corpora/swadesh.zip.\n",
            "       | Downloading package timit to /root/nltk_data...\n",
            "       |   Unzipping corpora/timit.zip.\n",
            "       | Downloading package treebank to /root/nltk_data...\n",
            "       |   Unzipping corpora/treebank.zip.\n",
            "       | Downloading package toolbox to /root/nltk_data...\n",
            "       |   Unzipping corpora/toolbox.zip.\n",
            "       | Downloading package udhr to /root/nltk_data...\n",
            "       |   Unzipping corpora/udhr.zip.\n",
            "       | Downloading package udhr2 to /root/nltk_data...\n",
            "       |   Unzipping corpora/udhr2.zip.\n",
            "       | Downloading package unicode_samples to /root/nltk_data...\n",
            "       |   Unzipping corpora/unicode_samples.zip.\n",
            "       | Downloading package webtext to /root/nltk_data...\n",
            "       |   Unzipping corpora/webtext.zip.\n",
            "       | Downloading package wordnet to /root/nltk_data...\n",
            "       | Downloading package wordnet_ic to /root/nltk_data...\n",
            "       |   Unzipping corpora/wordnet_ic.zip.\n",
            "       | Downloading package words to /root/nltk_data...\n",
            "       |   Unzipping corpora/words.zip.\n",
            "       | Downloading package maxent_treebank_pos_tagger to\n",
            "       |     /root/nltk_data...\n",
            "       |   Unzipping taggers/maxent_treebank_pos_tagger.zip.\n",
            "       | Downloading package maxent_ne_chunker to /root/nltk_data...\n",
            "       |   Unzipping chunkers/maxent_ne_chunker.zip.\n",
            "       | Downloading package universal_tagset to /root/nltk_data...\n",
            "       |   Unzipping taggers/universal_tagset.zip.\n",
            "       | Downloading package punkt to /root/nltk_data...\n",
            "       |   Unzipping tokenizers/punkt.zip.\n",
            "       | Downloading package book_grammars to /root/nltk_data...\n",
            "       |   Unzipping grammars/book_grammars.zip.\n",
            "       | Downloading package city_database to /root/nltk_data...\n",
            "       |   Unzipping corpora/city_database.zip.\n",
            "       | Downloading package tagsets to /root/nltk_data...\n",
            "       |   Unzipping help/tagsets.zip.\n",
            "       | Downloading package panlex_swadesh to /root/nltk_data...\n",
            "       | Downloading package averaged_perceptron_tagger to\n",
            "       |     /root/nltk_data...\n",
            "       |   Unzipping taggers/averaged_perceptron_tagger.zip.\n",
            "       | \n",
            "     Done downloading collection book\n"
          ]
        },
        {
          "name": "stdout",
          "output_type": "stream",
          "text": [
            "\n",
            "---------------------------------------------------------------------------\n",
            "    d) Download   l) List    u) Update   c) Config   h) Help   q) Quit\n",
            "---------------------------------------------------------------------------\n",
            "Downloader> q\n"
          ]
        },
        {
          "output_type": "execute_result",
          "data": {
            "text/plain": [
              "True"
            ]
          },
          "metadata": {},
          "execution_count": 8
        }
      ]
    },
    {
      "cell_type": "code",
      "source": [
        "lst_stopwords = nltk.corpus.stopwords.words(\"russian\")\n",
        "lst_stopwords"
      ],
      "metadata": {
        "colab": {
          "base_uri": "https://localhost:8080/"
        },
        "id": "MlXiDXRY3rK7",
        "outputId": "9ba4a5a7-2f92-4375-ab3d-8bb010384d72"
      },
      "execution_count": 9,
      "outputs": [
        {
          "output_type": "execute_result",
          "data": {
            "text/plain": [
              "['и',\n",
              " 'в',\n",
              " 'во',\n",
              " 'не',\n",
              " 'что',\n",
              " 'он',\n",
              " 'на',\n",
              " 'я',\n",
              " 'с',\n",
              " 'со',\n",
              " 'как',\n",
              " 'а',\n",
              " 'то',\n",
              " 'все',\n",
              " 'она',\n",
              " 'так',\n",
              " 'его',\n",
              " 'но',\n",
              " 'да',\n",
              " 'ты',\n",
              " 'к',\n",
              " 'у',\n",
              " 'же',\n",
              " 'вы',\n",
              " 'за',\n",
              " 'бы',\n",
              " 'по',\n",
              " 'только',\n",
              " 'ее',\n",
              " 'мне',\n",
              " 'было',\n",
              " 'вот',\n",
              " 'от',\n",
              " 'меня',\n",
              " 'еще',\n",
              " 'нет',\n",
              " 'о',\n",
              " 'из',\n",
              " 'ему',\n",
              " 'теперь',\n",
              " 'когда',\n",
              " 'даже',\n",
              " 'ну',\n",
              " 'вдруг',\n",
              " 'ли',\n",
              " 'если',\n",
              " 'уже',\n",
              " 'или',\n",
              " 'ни',\n",
              " 'быть',\n",
              " 'был',\n",
              " 'него',\n",
              " 'до',\n",
              " 'вас',\n",
              " 'нибудь',\n",
              " 'опять',\n",
              " 'уж',\n",
              " 'вам',\n",
              " 'ведь',\n",
              " 'там',\n",
              " 'потом',\n",
              " 'себя',\n",
              " 'ничего',\n",
              " 'ей',\n",
              " 'может',\n",
              " 'они',\n",
              " 'тут',\n",
              " 'где',\n",
              " 'есть',\n",
              " 'надо',\n",
              " 'ней',\n",
              " 'для',\n",
              " 'мы',\n",
              " 'тебя',\n",
              " 'их',\n",
              " 'чем',\n",
              " 'была',\n",
              " 'сам',\n",
              " 'чтоб',\n",
              " 'без',\n",
              " 'будто',\n",
              " 'чего',\n",
              " 'раз',\n",
              " 'тоже',\n",
              " 'себе',\n",
              " 'под',\n",
              " 'будет',\n",
              " 'ж',\n",
              " 'тогда',\n",
              " 'кто',\n",
              " 'этот',\n",
              " 'того',\n",
              " 'потому',\n",
              " 'этого',\n",
              " 'какой',\n",
              " 'совсем',\n",
              " 'ним',\n",
              " 'здесь',\n",
              " 'этом',\n",
              " 'один',\n",
              " 'почти',\n",
              " 'мой',\n",
              " 'тем',\n",
              " 'чтобы',\n",
              " 'нее',\n",
              " 'сейчас',\n",
              " 'были',\n",
              " 'куда',\n",
              " 'зачем',\n",
              " 'всех',\n",
              " 'никогда',\n",
              " 'можно',\n",
              " 'при',\n",
              " 'наконец',\n",
              " 'два',\n",
              " 'об',\n",
              " 'другой',\n",
              " 'хоть',\n",
              " 'после',\n",
              " 'над',\n",
              " 'больше',\n",
              " 'тот',\n",
              " 'через',\n",
              " 'эти',\n",
              " 'нас',\n",
              " 'про',\n",
              " 'всего',\n",
              " 'них',\n",
              " 'какая',\n",
              " 'много',\n",
              " 'разве',\n",
              " 'три',\n",
              " 'эту',\n",
              " 'моя',\n",
              " 'впрочем',\n",
              " 'хорошо',\n",
              " 'свою',\n",
              " 'этой',\n",
              " 'перед',\n",
              " 'иногда',\n",
              " 'лучше',\n",
              " 'чуть',\n",
              " 'том',\n",
              " 'нельзя',\n",
              " 'такой',\n",
              " 'им',\n",
              " 'более',\n",
              " 'всегда',\n",
              " 'конечно',\n",
              " 'всю',\n",
              " 'между']"
            ]
          },
          "metadata": {},
          "execution_count": 9
        }
      ]
    },
    {
      "cell_type": "code",
      "source": [
        "lst_stopwords.extend(['1', '2', '3', '4', '05', '5','6','7','8','9','10','2020','2021', 'г', 'год','наш', 'ответ', 'просьба', 'который', 'данный', 'принять', 'мера', 'последний', 'время', 'течение', 'сутки', 'сегодня', 'весь', 'далее', 'район', 'адрес', 'область', 'это', 'всё', 'также', 'год', 'дом', 'просить', 'улица', 'проблема', 'курск', 'спасибо', 'курский', 'ул', 'здравствуйте', 'здравствуйт', 'добрый', 'день'])"
      ],
      "metadata": {
        "id": "1IxW-Kq7SnMo"
      },
      "execution_count": 10,
      "outputs": []
    },
    {
      "cell_type": "code",
      "source": [
        "'''\n",
        "Preprocess a string.\n",
        ":parameter\n",
        "    :param text: string - name of column containing text\n",
        "    :param lst_stopwords: list - list of stopwords to remove\n",
        "    :param flg_stemm: bool - whether stemming is to be applied\n",
        "    :param flg_lemm: bool - whether lemmitisation is to be applied\n",
        ":return\n",
        "    cleaned text\n",
        "'''\n",
        "def utils_preprocess_text(text, flg_stemm=False, flg_lemm=True, lst_stopwords=None):\n",
        "    ## clean (convert to lowercase and remove punctuations and characters and then strip)\n",
        "    text = re.sub(r'[^\\w\\s]', '', str(text).lower().strip())\n",
        "            \n",
        "    ## Tokenize (convert from string to list)\n",
        "    lst_text = text.split()    \n",
        "    ## remove Stopwords\n",
        "    if lst_stopwords is not None:\n",
        "        lst_text = [word for word in lst_text if word not in \n",
        "                    lst_stopwords]\n",
        "                \n",
        "    ## Stemming (remove -ing, -ly, ...)\n",
        "    if flg_stemm == True:\n",
        "        ps = nltk.stem.porter.PorterStemmer()\n",
        "        lst_text = [ps.stem(word) for word in lst_text]\n",
        "                \n",
        "    ## Lemmatisation (convert the word into root word)\n",
        "    if flg_lemm == True:\n",
        "        lem = nltk.stem.wordnet.WordNetLemmatizer()\n",
        "        lst_text = [lem.lemmatize(word) for word in lst_text]\n",
        "            \n",
        "    ## back to string from list\n",
        "    text = \" \".join(lst_text)\n",
        "    return text"
      ],
      "metadata": {
        "id": "IgVJ9GSB-10O"
      },
      "execution_count": 11,
      "outputs": []
    },
    {
      "cell_type": "code",
      "execution_count": null,
      "metadata": {
        "id": "R54dv1PQKifo"
      },
      "outputs": [],
      "source": [
        ""
      ]
    },
    {
      "cell_type": "code",
      "execution_count": 12,
      "metadata": {
        "id": "2scLoULoXkT0"
      },
      "outputs": [],
      "source": [
        "df = pd.read_csv(\"/content/train_dataset_train.csv\")"
      ]
    },
    {
      "cell_type": "code",
      "execution_count": 13,
      "metadata": {
        "id": "8TaWUaqbI1tU"
      },
      "outputs": [],
      "source": [
        "df_test = pd.read_csv(\"/content/test_dataset_test.csv\")"
      ]
    },
    {
      "cell_type": "code",
      "execution_count": 14,
      "metadata": {
        "id": "jP87_rwzAIMm"
      },
      "outputs": [],
      "source": [
        "df_test.drop('Тематика', axis = 1, inplace=True)"
      ]
    },
    {
      "cell_type": "code",
      "source": [
        "df_test.drop('Ответственное лицо', axis = 1, inplace=True)"
      ],
      "metadata": {
        "id": "-eu4CDWYxG-H"
      },
      "execution_count": 15,
      "outputs": []
    },
    {
      "cell_type": "code",
      "source": [
        "df_test"
      ],
      "metadata": {
        "colab": {
          "base_uri": "https://localhost:8080/",
          "height": 423
        },
        "id": "AagkCD06xxwz",
        "outputId": "559e8527-2a23-4774-d7a9-668989b3c0c2"
      },
      "execution_count": 16,
      "outputs": [
        {
          "output_type": "execute_result",
          "data": {
            "text/plain": [
              "       id                                    Текст Сообщения\n",
              "0     843  <p>Здравствуйте. На улице Мира &nbsp;было заме...\n",
              "1    1422  <p>Уже вторую неделю не горит уличное освещени...\n",
              "2    2782  Не работает освещение во дворе дома 11а по Эне...\n",
              "3    2704  После покоса сорной растительности на газоне м...\n",
              "4       1  <p>Прошу принять меры к водителю маршрута 263:...\n",
              "..    ...                                                ...\n",
              "995  2619  Добрый день! Я и моя семья жители пос Волокно,...\n",
              "996  2518  На Лазарева 5 г.Щигры ветка тополя скоро выбье...\n",
              "997  2524  Перед входом  Комитет образования  Курска  ямы...\n",
              "998  1577  <p>Доброго времени суток</p><p>У меня на пол г...\n",
              "999  2567  Добрый день, я многодетная мама. Младшему ребё...\n",
              "\n",
              "[1000 rows x 2 columns]"
            ],
            "text/html": [
              "\n",
              "  <div id=\"df-0bc45403-b8bd-4fd9-8090-1f7ed4240cf9\">\n",
              "    <div class=\"colab-df-container\">\n",
              "      <div>\n",
              "<style scoped>\n",
              "    .dataframe tbody tr th:only-of-type {\n",
              "        vertical-align: middle;\n",
              "    }\n",
              "\n",
              "    .dataframe tbody tr th {\n",
              "        vertical-align: top;\n",
              "    }\n",
              "\n",
              "    .dataframe thead th {\n",
              "        text-align: right;\n",
              "    }\n",
              "</style>\n",
              "<table border=\"1\" class=\"dataframe\">\n",
              "  <thead>\n",
              "    <tr style=\"text-align: right;\">\n",
              "      <th></th>\n",
              "      <th>id</th>\n",
              "      <th>Текст Сообщения</th>\n",
              "    </tr>\n",
              "  </thead>\n",
              "  <tbody>\n",
              "    <tr>\n",
              "      <th>0</th>\n",
              "      <td>843</td>\n",
              "      <td>&lt;p&gt;Здравствуйте. На улице Мира &amp;nbsp;было заме...</td>\n",
              "    </tr>\n",
              "    <tr>\n",
              "      <th>1</th>\n",
              "      <td>1422</td>\n",
              "      <td>&lt;p&gt;Уже вторую неделю не горит уличное освещени...</td>\n",
              "    </tr>\n",
              "    <tr>\n",
              "      <th>2</th>\n",
              "      <td>2782</td>\n",
              "      <td>Не работает освещение во дворе дома 11а по Эне...</td>\n",
              "    </tr>\n",
              "    <tr>\n",
              "      <th>3</th>\n",
              "      <td>2704</td>\n",
              "      <td>После покоса сорной растительности на газоне м...</td>\n",
              "    </tr>\n",
              "    <tr>\n",
              "      <th>4</th>\n",
              "      <td>1</td>\n",
              "      <td>&lt;p&gt;Прошу принять меры к водителю маршрута 263:...</td>\n",
              "    </tr>\n",
              "    <tr>\n",
              "      <th>...</th>\n",
              "      <td>...</td>\n",
              "      <td>...</td>\n",
              "    </tr>\n",
              "    <tr>\n",
              "      <th>995</th>\n",
              "      <td>2619</td>\n",
              "      <td>Добрый день! Я и моя семья жители пос Волокно,...</td>\n",
              "    </tr>\n",
              "    <tr>\n",
              "      <th>996</th>\n",
              "      <td>2518</td>\n",
              "      <td>На Лазарева 5 г.Щигры ветка тополя скоро выбье...</td>\n",
              "    </tr>\n",
              "    <tr>\n",
              "      <th>997</th>\n",
              "      <td>2524</td>\n",
              "      <td>Перед входом  Комитет образования  Курска  ямы...</td>\n",
              "    </tr>\n",
              "    <tr>\n",
              "      <th>998</th>\n",
              "      <td>1577</td>\n",
              "      <td>&lt;p&gt;Доброго времени суток&lt;/p&gt;&lt;p&gt;У меня на пол г...</td>\n",
              "    </tr>\n",
              "    <tr>\n",
              "      <th>999</th>\n",
              "      <td>2567</td>\n",
              "      <td>Добрый день, я многодетная мама. Младшему ребё...</td>\n",
              "    </tr>\n",
              "  </tbody>\n",
              "</table>\n",
              "<p>1000 rows × 2 columns</p>\n",
              "</div>\n",
              "      <button class=\"colab-df-convert\" onclick=\"convertToInteractive('df-0bc45403-b8bd-4fd9-8090-1f7ed4240cf9')\"\n",
              "              title=\"Convert this dataframe to an interactive table.\"\n",
              "              style=\"display:none;\">\n",
              "        \n",
              "  <svg xmlns=\"http://www.w3.org/2000/svg\" height=\"24px\"viewBox=\"0 0 24 24\"\n",
              "       width=\"24px\">\n",
              "    <path d=\"M0 0h24v24H0V0z\" fill=\"none\"/>\n",
              "    <path d=\"M18.56 5.44l.94 2.06.94-2.06 2.06-.94-2.06-.94-.94-2.06-.94 2.06-2.06.94zm-11 1L8.5 8.5l.94-2.06 2.06-.94-2.06-.94L8.5 2.5l-.94 2.06-2.06.94zm10 10l.94 2.06.94-2.06 2.06-.94-2.06-.94-.94-2.06-.94 2.06-2.06.94z\"/><path d=\"M17.41 7.96l-1.37-1.37c-.4-.4-.92-.59-1.43-.59-.52 0-1.04.2-1.43.59L10.3 9.45l-7.72 7.72c-.78.78-.78 2.05 0 2.83L4 21.41c.39.39.9.59 1.41.59.51 0 1.02-.2 1.41-.59l7.78-7.78 2.81-2.81c.8-.78.8-2.07 0-2.86zM5.41 20L4 18.59l7.72-7.72 1.47 1.35L5.41 20z\"/>\n",
              "  </svg>\n",
              "      </button>\n",
              "      \n",
              "  <style>\n",
              "    .colab-df-container {\n",
              "      display:flex;\n",
              "      flex-wrap:wrap;\n",
              "      gap: 12px;\n",
              "    }\n",
              "\n",
              "    .colab-df-convert {\n",
              "      background-color: #E8F0FE;\n",
              "      border: none;\n",
              "      border-radius: 50%;\n",
              "      cursor: pointer;\n",
              "      display: none;\n",
              "      fill: #1967D2;\n",
              "      height: 32px;\n",
              "      padding: 0 0 0 0;\n",
              "      width: 32px;\n",
              "    }\n",
              "\n",
              "    .colab-df-convert:hover {\n",
              "      background-color: #E2EBFA;\n",
              "      box-shadow: 0px 1px 2px rgba(60, 64, 67, 0.3), 0px 1px 3px 1px rgba(60, 64, 67, 0.15);\n",
              "      fill: #174EA6;\n",
              "    }\n",
              "\n",
              "    [theme=dark] .colab-df-convert {\n",
              "      background-color: #3B4455;\n",
              "      fill: #D2E3FC;\n",
              "    }\n",
              "\n",
              "    [theme=dark] .colab-df-convert:hover {\n",
              "      background-color: #434B5C;\n",
              "      box-shadow: 0px 1px 3px 1px rgba(0, 0, 0, 0.15);\n",
              "      filter: drop-shadow(0px 1px 2px rgba(0, 0, 0, 0.3));\n",
              "      fill: #FFFFFF;\n",
              "    }\n",
              "  </style>\n",
              "\n",
              "      <script>\n",
              "        const buttonEl =\n",
              "          document.querySelector('#df-0bc45403-b8bd-4fd9-8090-1f7ed4240cf9 button.colab-df-convert');\n",
              "        buttonEl.style.display =\n",
              "          google.colab.kernel.accessAllowed ? 'block' : 'none';\n",
              "\n",
              "        async function convertToInteractive(key) {\n",
              "          const element = document.querySelector('#df-0bc45403-b8bd-4fd9-8090-1f7ed4240cf9');\n",
              "          const dataTable =\n",
              "            await google.colab.kernel.invokeFunction('convertToInteractive',\n",
              "                                                     [key], {});\n",
              "          if (!dataTable) return;\n",
              "\n",
              "          const docLinkHtml = 'Like what you see? Visit the ' +\n",
              "            '<a target=\"_blank\" href=https://colab.research.google.com/notebooks/data_table.ipynb>data table notebook</a>'\n",
              "            + ' to learn more about interactive tables.';\n",
              "          element.innerHTML = '';\n",
              "          dataTable['output_type'] = 'display_data';\n",
              "          await google.colab.output.renderOutput(dataTable, element);\n",
              "          const docLink = document.createElement('div');\n",
              "          docLink.innerHTML = docLinkHtml;\n",
              "          element.appendChild(docLink);\n",
              "        }\n",
              "      </script>\n",
              "    </div>\n",
              "  </div>\n",
              "  "
            ]
          },
          "metadata": {},
          "execution_count": 16
        }
      ]
    },
    {
      "cell_type": "code",
      "execution_count": 17,
      "metadata": {
        "id": "vXKQK_ZCIvTZ"
      },
      "outputs": [],
      "source": [
        "morph = pymorphy2.MorphAnalyzer()"
      ]
    },
    {
      "cell_type": "code",
      "execution_count": 18,
      "metadata": {
        "colab": {
          "base_uri": "https://localhost:8080/",
          "height": 36
        },
        "id": "KdrGxfZRIykB",
        "outputId": "c40e4e4a-09c0-4baf-9240-f8b299f203dc"
      },
      "outputs": [
        {
          "output_type": "execute_result",
          "data": {
            "text/plain": [
              "'сдаваться'"
            ],
            "application/vnd.google.colaboratory.intrinsic+json": {
              "type": "string"
            }
          },
          "metadata": {},
          "execution_count": 18
        }
      ],
      "source": [
        "morph.parse('сдаются')[0].normal_form"
      ]
    },
    {
      "cell_type": "code",
      "source": [
        "def clean_text_basic(text):\n",
        "   # Инициализируем инструмент для работы с морфемами и более\n",
        "  cleantext = BeautifulSoup(text, \"lxml\").text\n",
        "  cleantext = cleantext.replace('.', ' ')\n",
        "  cleantext = cleantext.replace(',', ' ')\n",
        "  cleantext = cleantext.replace('!', ' ')\n",
        "  cleantext = cleantext.replace('\"', ' ')\n",
        "  cleantext = cleantext.replace('-', ' ')\n",
        "  cleantext = cleantext.replace(':', ' ')\n",
        "  cleantext = cleantext.replace('(', ' ')\n",
        "  cleantext = cleantext.replace(')', ' ')\n",
        "  cleantext = cleantext.replace('+', ' ')\n",
        "  cleantext = cleantext.replace('\\'', ' ')\n",
        "  cleantext = cleantext.replace('\\t', ' ')\n",
        "  cleantext = cleantext.replace('\\n', ' ')\n",
        "  cleantext = cleantext.replace('\\xa0', ' ')\n",
        "  words = cleantext.split(' ') #  Разделяем текст по средством пробелов\n",
        "  filteredWords = []\n",
        "  for word in words:\n",
        "    if len(word) > 0:\n",
        "      filteredWords.append(word)\n",
        "\n",
        "  return ' '.join(filteredWords)"
      ],
      "metadata": {
        "id": "7qLos9IPqNPq"
      },
      "execution_count": 19,
      "outputs": []
    },
    {
      "cell_type": "code",
      "execution_count": 20,
      "metadata": {
        "id": "fvB9gfoZLZD5"
      },
      "outputs": [],
      "source": [
        "def clean_text(text):\n",
        "   # Инициализируем инструмент для работы с морфемами и более\n",
        "  cleantext = BeautifulSoup(text, \"lxml\").text\n",
        "  cleantext = cleantext.replace('.', ' ')\n",
        "  cleantext = cleantext.replace(',', ' ')\n",
        "  cleantext = cleantext.replace('!', ' ')\n",
        "  cleantext = cleantext.replace('\"', ' ')\n",
        "  cleantext = cleantext.replace('-', ' ')\n",
        "  cleantext = cleantext.replace(':', ' ')\n",
        "  cleantext = cleantext.replace('(', ' ')\n",
        "  cleantext = cleantext.replace(')', ' ')\n",
        "  cleantext = cleantext.replace('+', ' ')\n",
        "  cleantext = cleantext.replace('\\'', ' ')\n",
        "  cleantext = cleantext.replace('\\t', ' ')\n",
        "  cleantext = cleantext.replace('\\n', ' ')\n",
        "  cleantext = cleantext.replace('\\xa0', ' ')\n",
        "  words = cleantext.split(' ') #  Разделяем текст по средством пробелов\n",
        "  filteredWords = []\n",
        "  for word in words:\n",
        "    if len(word) > 0:\n",
        "      #filteredWords.append(word)\n",
        "      filteredWords.append(morph.parse(word)[0].normal_form)\n",
        "\n",
        "  return ' '.join(filteredWords)"
      ]
    },
    {
      "cell_type": "code",
      "source": [
        "df[\"clean_text_basic\"] = df[\"Текст Сообщения\"].apply(clean_text_basic)"
      ],
      "metadata": {
        "id": "SJU0eO7w0N1W"
      },
      "execution_count": 21,
      "outputs": []
    },
    {
      "cell_type": "code",
      "source": [
        "df[\"clean_text\"] = df[\"Текст Сообщения\"].apply(clean_text)"
      ],
      "metadata": {
        "id": "0Iods0gc2BLv"
      },
      "execution_count": 22,
      "outputs": []
    },
    {
      "cell_type": "code",
      "source": [
        "df[\"clean_theme\"] = df[\"Тематика\"].apply(clean_text)"
      ],
      "metadata": {
        "id": "AJSCnHXRtaxZ"
      },
      "execution_count": 23,
      "outputs": []
    },
    {
      "cell_type": "code",
      "execution_count": 24,
      "metadata": {
        "id": "wFSpEy2hOGU-"
      },
      "outputs": [],
      "source": [
        "df_test[\"clean_text_basic\"] = df_test[\"Текст Сообщения\"].apply(clean_text_basic)"
      ]
    },
    {
      "cell_type": "code",
      "source": [
        "df_test[\"clean_text\"] = df_test[\"Текст Сообщения\"].apply(clean_text)"
      ],
      "metadata": {
        "id": "VkqHoJUa2LDT"
      },
      "execution_count": 25,
      "outputs": []
    },
    {
      "cell_type": "code",
      "source": [
        "df_test[\"ru_clean_text\"] = df_test[\"clean_text\"].apply(lambda x: \n",
        "          utils_preprocess_text(x, flg_stemm=False, flg_lemm=False, \n",
        "          lst_stopwords=lst_stopwords))\n"
      ],
      "metadata": {
        "id": "VZ9JfFtG6ShX"
      },
      "execution_count": 26,
      "outputs": []
    },
    {
      "cell_type": "code",
      "source": [
        "df[\"ru_clean_text\"] = df[\"clean_text\"].apply(lambda x: \n",
        "          utils_preprocess_text(x, flg_stemm=False, flg_lemm=False, \n",
        "          lst_stopwords=lst_stopwords))\n"
      ],
      "metadata": {
        "id": "E3w-YS2IFQFj"
      },
      "execution_count": 27,
      "outputs": []
    },
    {
      "cell_type": "code",
      "execution_count": 36,
      "metadata": {
        "colab": {
          "base_uri": "https://localhost:8080/",
          "height": 55
        },
        "id": "27xX0ZQ-ZzKQ",
        "outputId": "ec482429-6c51-4123-c64d-a82d77a073c8"
      },
      "outputs": [
        {
          "output_type": "execute_result",
          "data": {
            "text/plain": [
              "'Прошу Вас убрать мусор в мик не Льгова 2 поворот рядом с магазином МАГНИТ и домом 105 Мусора очень много но никто его не убирает просите учебные заведения что бы они устраивали субботник и что бы все ветки они попилили и убрали весь мусор'"
            ],
            "application/vnd.google.colaboratory.intrinsic+json": {
              "type": "string"
            }
          },
          "metadata": {},
          "execution_count": 36
        }
      ],
      "source": [
        "df['clean_text_basic'][101]"
      ]
    },
    {
      "cell_type": "code",
      "execution_count": 31,
      "metadata": {
        "colab": {
          "base_uri": "https://localhost:8080/",
          "height": 55
        },
        "id": "u3ARvWR0KWwf",
        "outputId": "507ba26f-3639-4c84-ea31-36be618983cc"
      },
      "outputs": [
        {
          "output_type": "execute_result",
          "data": {
            "text/plain": [
              "'просить вы убрать мусор в мик не льгов 2 поворот рядом с магазин магнит и дом 105 мусор очень много но никто он не убирать просить учебный заведение что бы они устраивать субботник и что бы всё ветка они попилить и убрать весь мусор'"
            ],
            "application/vnd.google.colaboratory.intrinsic+json": {
              "type": "string"
            }
          },
          "metadata": {},
          "execution_count": 31
        }
      ],
      "source": [
        "df['clean_text'][101]"
      ]
    },
    {
      "cell_type": "code",
      "source": [
        "df['ru_clean_text'][101]"
      ],
      "metadata": {
        "colab": {
          "base_uri": "https://localhost:8080/",
          "height": 36
        },
        "id": "Jwxu4m_of5Fy",
        "outputId": "a89766ae-81ff-415a-f372-ab478429a95e"
      },
      "execution_count": 28,
      "outputs": [
        {
          "output_type": "execute_result",
          "data": {
            "text/plain": [
              "'убрать мусор мик льгов поворот рядом магазин магнит 105 мусор очень никто убирать учебный заведение устраивать субботник ветка попилить убрать мусор'"
            ],
            "application/vnd.google.colaboratory.intrinsic+json": {
              "type": "string"
            }
          },
          "metadata": {},
          "execution_count": 28
        }
      ]
    },
    {
      "cell_type": "code",
      "source": [
        "keywords = kw_model.extract_keywords(df['clean_text'][101], top_n=10, stop_words=lst_stopwords)"
      ],
      "metadata": {
        "id": "BmDpkwjUFvEl"
      },
      "execution_count": 29,
      "outputs": []
    },
    {
      "cell_type": "code",
      "source": [
        "keywords"
      ],
      "metadata": {
        "colab": {
          "base_uri": "https://localhost:8080/"
        },
        "id": "dxtkDAAFFsgu",
        "outputId": "da95ec32-ffe7-4236-83b1-037dac712f86"
      },
      "execution_count": 30,
      "outputs": [
        {
          "output_type": "execute_result",
          "data": {
            "text/plain": [
              "[('субботник', 0.5251),\n",
              " ('магазин', 0.4841),\n",
              " ('заведение', 0.4616),\n",
              " ('мусор', 0.4538),\n",
              " ('поворот', 0.4448),\n",
              " ('убирать', 0.441),\n",
              " ('льгов', 0.4317),\n",
              " ('устраивать', 0.4297),\n",
              " ('убрать', 0.4294),\n",
              " ('мик', 0.3798)]"
            ]
          },
          "metadata": {},
          "execution_count": 30
        }
      ]
    },
    {
      "cell_type": "code",
      "execution_count": 32,
      "metadata": {
        "colab": {
          "base_uri": "https://localhost:8080/",
          "height": 36
        },
        "id": "j0HXARepOKf4",
        "outputId": "53e0da21-9d87-4d14-9650-fa2a6e51145d"
      },
      "outputs": [
        {
          "output_type": "execute_result",
          "data": {
            "text/plain": [
              "'дорожный покрытие нет совсем в 2019 год обещать внести в проект на 2020 г но ничего не сделать в 2021 г асфальт уложить на всё соседний улица примыкать к мы мы оставить без дорога'"
            ],
            "application/vnd.google.colaboratory.intrinsic+json": {
              "type": "string"
            }
          },
          "metadata": {},
          "execution_count": 32
        }
      ],
      "source": [
        "df_test['clean_text'][101]"
      ]
    },
    {
      "cell_type": "code",
      "execution_count": 33,
      "metadata": {
        "colab": {
          "base_uri": "https://localhost:8080/"
        },
        "id": "r3g_cas0MlgV",
        "outputId": "542e5e59-70b8-4ff4-ebe0-5d203977f906"
      },
      "outputs": [
        {
          "output_type": "execute_result",
          "data": {
            "text/plain": [
              "652    не мочь получить сертификат\n",
              "Name: clean_text, dtype: object"
            ]
          },
          "metadata": {},
          "execution_count": 33
        }
      ],
      "source": [
        "df[df[\"Категория\"] == 12]['clean_text']"
      ]
    },
    {
      "cell_type": "code",
      "execution_count": 34,
      "metadata": {
        "id": "KuCAZw4mNbvR"
      },
      "outputs": [],
      "source": [
        "df.drop(index=652, inplace=True)"
      ]
    },
    {
      "cell_type": "code",
      "source": [
        ""
      ],
      "metadata": {
        "id": "awY_8Niil_TW"
      },
      "execution_count": null,
      "outputs": []
    },
    {
      "cell_type": "code",
      "execution_count": 35,
      "metadata": {
        "id": "5yIzTbCHFu6Y"
      },
      "outputs": [],
      "source": [
        "theme_unique = df['clean_theme'].unique()"
      ]
    },
    {
      "cell_type": "code",
      "source": [
        "text_dict = dict()\n",
        "for index, row in df.iterrows():\n",
        "  key = row['clean_theme']\n",
        "  if key in text_dict:\n",
        "    text_dict[key] += ' ' + row['ru_clean_text']\n",
        "  else:\n",
        "    text_dict[key] = row['ru_clean_text']"
      ],
      "metadata": {
        "id": "B_uzp-BOMhPo"
      },
      "execution_count": 36,
      "outputs": []
    },
    {
      "cell_type": "code",
      "source": [
        "text_dict['вакцинация от covid 19']"
      ],
      "metadata": {
        "colab": {
          "base_uri": "https://localhost:8080/",
          "height": 110
        },
        "id": "89aICnHnOBXh",
        "outputId": "80c6a221-8044-4dd7-ac6e-a8c7ddb9f43c"
      },
      "execution_count": 37,
      "outputs": [
        {
          "output_type": "execute_result",
          "data": {
            "text/plain": [
              "'март сделать прививка горшеченский больница сертификат май сделать второй прививка covid 19 электронный сертификат госуслуга сей пора 17 пройти второй вакцинация covid 19 сертификат портал госуслуга поступить сделать вакцинация ковид 19 место работа медучреждение фгубз мсч 125 фмба россия медико санитарный часть 125 первый вакцинация 17 02 2021г второй вакцинация 03 2021г медучреждение делать вакцинация 307251 обл курчатов пр коммунистический 38 сей пора сертификат пройти месяц скан вакцинация прилагать нужно срочно сертификат еда отпуск вакцинироваться заранее жена вакцинироваться воронеж следующий прийти сертификат вакцинирование второй вакцинация пройти июнь сертификат портал госуслуга появиться понедельник 24 21 заместитель губернатор белостоцкий еженедельный планёрка губернатор озвучить поступление вакцина ковивак центр чумаков подсказать пожалуйста конкретно учреждение здравоохранение поступить вакцина произвести вакцинация именно вакцина ковид19 никакой данные второй вакцина сертификат получить вакцина гам ковид вак льговский поликлиника мочь получить электронный сертификат qr код звонить обещать информация вакцинация госуслуга видеть решение первый вакцинация апрель серия 110121вторать вакцинация 29 апрель 2021серия 11 130321'"
            ],
            "application/vnd.google.colaboratory.intrinsic+json": {
              "type": "string"
            }
          },
          "metadata": {},
          "execution_count": 37
        }
      ]
    },
    {
      "cell_type": "code",
      "source": [
        "text_dict['неоформленный трудовой отношение']"
      ],
      "metadata": {
        "colab": {
          "base_uri": "https://localhost:8080/",
          "height": 91
        },
        "id": "nYNDydaBTJqU",
        "outputId": "b50dad80-6290-4ca1-8f70-a0f10d07a669"
      },
      "execution_count": 38,
      "outputs": [
        {
          "output_type": "execute_result",
          "data": {
            "text/plain": [
              "'подать документ участие конкурс включение резерв руководящий должность госслужба позвонить пригласить тестирование телефон сказать прибыть 18 03 12 00 интернациональный прохождение тест подробный информация указать неверный выясниться прибыть академия госслужба предложить пройти компьютер тест состоять 100 вопрос тест заранее ознакомить тематика итог получить 100 балл 59 отвечать вопрос сталкиваться никак жизнь итог пройти второй этап считать проведение тест цель провести отбор длить галочки вакантный место занять нужные человек коррупция образ победить знать тема тест подготовиться набрать нужный количество балл образование опыт работа личный высокий ответственность мочь пригодиться край оставить внимание письмо'"
            ],
            "application/vnd.google.colaboratory.intrinsic+json": {
              "type": "string"
            }
          },
          "metadata": {},
          "execution_count": 38
        }
      ]
    },
    {
      "cell_type": "code",
      "source": [
        "def find_frequantly_words(text, stop_words, max_words = 10):\n",
        "  word_dict = dict()\n",
        "  word_arr = text.split(' ')\n",
        "  for i in word_arr:\n",
        "    if i not in stop_words:\n",
        "      if i in word_dict:\n",
        "        word_dict[i] += 1\n",
        "      else:\n",
        "        word_dict[i] = 1\n",
        "  \n",
        "  sorted_dict = dict(sorted(word_dict.items(), key=lambda item: -item[1]))\n",
        "  res = []\n",
        "  index = 0\n",
        "  for key,value in sorted_dict.items():\n",
        "    if index < max_words:\n",
        "      res.append(key)\n",
        "    else:\n",
        "      break\n",
        "    index += 1\n",
        "  return res\n"
      ],
      "metadata": {
        "id": "LZO4V11nON9c"
      },
      "execution_count": 39,
      "outputs": []
    },
    {
      "cell_type": "code",
      "source": [
        "find_frequantly_words(text_dict['вакцинация от covid 19'], lst_stopwords, 20)"
      ],
      "metadata": {
        "colab": {
          "base_uri": "https://localhost:8080/"
        },
        "id": "p4fsasGYP7dp",
        "outputId": "c20bae71-8a84-4a03-f02d-079082283d6f"
      },
      "execution_count": 40,
      "outputs": [
        {
          "output_type": "execute_result",
          "data": {
            "text/plain": [
              "['вакцинация',\n",
              " 'сертификат',\n",
              " 'второй',\n",
              " 'вакцина',\n",
              " 'госуслуга',\n",
              " 'сделать',\n",
              " '19',\n",
              " 'пройти',\n",
              " 'прививка',\n",
              " 'covid',\n",
              " 'электронный',\n",
              " 'сей',\n",
              " 'пора',\n",
              " '17',\n",
              " 'портал',\n",
              " 'поступить',\n",
              " 'ковид',\n",
              " 'медучреждение',\n",
              " '125',\n",
              " 'первый']"
            ]
          },
          "metadata": {},
          "execution_count": 40
        }
      ]
    },
    {
      "cell_type": "code",
      "source": [
        "find_frequantly_words(text_dict['неприятный запах'], lst_stopwords, 20)"
      ],
      "metadata": {
        "colab": {
          "base_uri": "https://localhost:8080/"
        },
        "id": "09IPaRc2TA6d",
        "outputId": "d86812d5-5033-4fbd-e637-915cf497098d"
      },
      "execution_count": 41,
      "outputs": [
        {
          "output_type": "execute_result",
          "data": {
            "text/plain": [
              "['запах',\n",
              " 'вонь',\n",
              " 'грибной',\n",
              " 'радуга',\n",
              " 'появиться',\n",
              " 'неприятный',\n",
              " 'отход',\n",
              " 'производство',\n",
              " 'канализация',\n",
              " 'поле',\n",
              " 'дым',\n",
              " 'ребёнок',\n",
              " 'находиться',\n",
              " 'окно',\n",
              " 'открыть',\n",
              " 'появляться',\n",
              " 'территория',\n",
              " 'едкий',\n",
              " 'мочь',\n",
              " 'разный']"
            ]
          },
          "metadata": {},
          "execution_count": 41
        }
      ]
    },
    {
      "cell_type": "code",
      "source": [
        "frequntly_dict = dict()\n",
        "for key,value in text_dict.items():\n",
        "  frequntly_dict[key] = find_frequantly_words(text_dict[key], lst_stopwords, 40)"
      ],
      "metadata": {
        "id": "S83tuO-ZCRG1"
      },
      "execution_count": 42,
      "outputs": []
    },
    {
      "cell_type": "code",
      "source": [
        "val = 1\n",
        "val2 = 1\n",
        "weight = []\n",
        "sum = 0\n",
        "for i in range(40):\n",
        "  val += val2\n",
        "  val2 += 0.055\n",
        "  weight.append(val2)\n",
        "  sum += val2\n",
        "#weight.append(16)\n",
        "sum += 16\n",
        "print(sum)\n",
        "weight.reverse()"
      ],
      "metadata": {
        "id": "yQhea7jMlD8l",
        "colab": {
          "base_uri": "https://localhost:8080/"
        },
        "outputId": "d19083af-c313-4926-a06e-00d7b2793840"
      },
      "execution_count": 43,
      "outputs": [
        {
          "output_type": "stream",
          "name": "stdout",
          "text": [
            "101.09999999999998\n"
          ]
        }
      ]
    },
    {
      "cell_type": "code",
      "source": [
        "weight"
      ],
      "metadata": {
        "colab": {
          "base_uri": "https://localhost:8080/"
        },
        "id": "RgqtIoBQoL7Y",
        "outputId": "7a42af60-ac95-47c5-99b5-0ef0a530e6a2"
      },
      "execution_count": 44,
      "outputs": [
        {
          "output_type": "execute_result",
          "data": {
            "text/plain": [
              "[3.2000000000000024,\n",
              " 3.1450000000000022,\n",
              " 3.090000000000002,\n",
              " 3.035000000000002,\n",
              " 2.9800000000000018,\n",
              " 2.9250000000000016,\n",
              " 2.8700000000000014,\n",
              " 2.8150000000000013,\n",
              " 2.760000000000001,\n",
              " 2.705000000000001,\n",
              " 2.650000000000001,\n",
              " 2.5950000000000006,\n",
              " 2.5400000000000005,\n",
              " 2.4850000000000003,\n",
              " 2.43,\n",
              " 2.375,\n",
              " 2.32,\n",
              " 2.2649999999999997,\n",
              " 2.2099999999999995,\n",
              " 2.1549999999999994,\n",
              " 2.099999999999999,\n",
              " 2.044999999999999,\n",
              " 1.9899999999999989,\n",
              " 1.934999999999999,\n",
              " 1.879999999999999,\n",
              " 1.824999999999999,\n",
              " 1.7699999999999991,\n",
              " 1.7149999999999992,\n",
              " 1.6599999999999993,\n",
              " 1.6049999999999993,\n",
              " 1.5499999999999994,\n",
              " 1.4949999999999994,\n",
              " 1.4399999999999995,\n",
              " 1.3849999999999996,\n",
              " 1.3299999999999996,\n",
              " 1.2749999999999997,\n",
              " 1.2199999999999998,\n",
              " 1.1649999999999998,\n",
              " 1.1099999999999999,\n",
              " 1.055]"
            ]
          },
          "metadata": {},
          "execution_count": 44
        }
      ]
    },
    {
      "cell_type": "code",
      "source": [
        "def find_theme_by_frequntly(text, by_count = True):\n",
        "  word_arr = text.split(' ')\n",
        "  max_words = 0\n",
        "  max_theme = ''\n",
        "  for key,value in frequntly_dict.items():\n",
        "    weight_words = 0\n",
        "    count_words = 0\n",
        "    #print(key)\n",
        "    for word in word_arr:\n",
        "      if word in value:\n",
        "        count_words += 1\n",
        "        word_index = value.index(word)\n",
        "        weight_words += weight[word_index]\n",
        "        #print(' ', word, word_index, weight_words)\n",
        "    if by_count:\n",
        "      if count_words > max_words:\n",
        "        max_words = count_words\n",
        "        max_theme = key\n",
        "    else:\n",
        "      if weight_words > max_words:\n",
        "        max_words = weight_words\n",
        "        max_theme = key\n",
        "  return max_theme\n",
        "    "
      ],
      "metadata": {
        "id": "nhOA2mhDr2oa"
      },
      "execution_count": 45,
      "outputs": []
    },
    {
      "cell_type": "code",
      "source": [
        "def find_theme_by_frequntly2(text):\n",
        "  word_arr = text.split(' ')\n",
        "  max_words = 0\n",
        "  max_theme = ''\n",
        "  for key,value in frequntly_dict.items():\n",
        "    weight_words = 0\n",
        "    count_words = 0\n",
        "    #print(key)\n",
        "    #value = value[:10]\n",
        "    for word in word_arr:\n",
        "      if word in value:\n",
        "        count_words += 1\n",
        "    \n",
        "    if count_words > max_words:\n",
        "      max_words = count_words\n",
        "      max_theme = key\n",
        "    \n",
        "  return max_theme\n",
        "    "
      ],
      "metadata": {
        "id": "9XGWyQ4sk8AG"
      },
      "execution_count": 46,
      "outputs": []
    },
    {
      "cell_type": "code",
      "source": [
        "def find_theme_by_frequntly3(text, by_count = True):\n",
        "  keywords = kw_model.extract_keywords(text, top_n=10, stop_words=lst_stopwords)\n",
        "  word_arr = text.split(' ')\n",
        "  keywords_list = []\n",
        "  for i in keywords:\n",
        "    keywords_list.append(i[0])\n",
        "  max_words = 0\n",
        "  max_theme = ''\n",
        "  for key,value in frequntly_dict.items():\n",
        "    count_words = 0\n",
        "    weight_words = 0\n",
        "    for word in word_arr:\n",
        "      if word in value:\n",
        "        count_words += 1\n",
        "        word_index = value.index(word)\n",
        "        weight_words += weight[word_index]\n",
        "    for word in keywords_list:\n",
        "      if word in value:\n",
        "        count_words += 1\n",
        "        word_index = value.index(word)\n",
        "        weight_words += weight[word_index]\n",
        "    if by_count:\n",
        "      if count_words > max_words:\n",
        "        max_words = count_words\n",
        "        max_theme = key\n",
        "    else:\n",
        "      if weight_words > max_words:\n",
        "        max_words = weight_words\n",
        "        max_theme = key\n",
        "  return max_theme\n",
        "    "
      ],
      "metadata": {
        "id": "x6CV7Q3Ir1lT"
      },
      "execution_count": 47,
      "outputs": []
    },
    {
      "cell_type": "code",
      "source": [
        "df['clean_theme'][4]"
      ],
      "metadata": {
        "colab": {
          "base_uri": "https://localhost:8080/",
          "height": 36
        },
        "id": "upMdaor0aBWm",
        "outputId": "174d1ff5-5f87-44b6-e78b-8ac91842968d"
      },
      "execution_count": 48,
      "outputs": [
        {
          "output_type": "execute_result",
          "data": {
            "text/plain": [
              "'аварийный дерево'"
            ],
            "application/vnd.google.colaboratory.intrinsic+json": {
              "type": "string"
            }
          },
          "metadata": {},
          "execution_count": 48
        }
      ]
    },
    {
      "cell_type": "code",
      "source": [
        "df['ru_clean_text'][3]"
      ],
      "metadata": {
        "colab": {
          "base_uri": "https://localhost:8080/",
          "height": 36
        },
        "id": "NKVzWg2Gg8Eb",
        "outputId": "d81bbdee-8dc3-4bc5-f424-71546104b741"
      },
      "execution_count": 49,
      "outputs": [
        {
          "output_type": "execute_result",
          "data": {
            "text/plain": [
              "'пересечение сосновский береговой завалить песок гравий санитарный зона участок относиться муп кгтпо центральный рынок невозможно пройти проехать коляска'"
            ],
            "application/vnd.google.colaboratory.intrinsic+json": {
              "type": "string"
            }
          },
          "metadata": {},
          "execution_count": 49
        }
      ]
    },
    {
      "cell_type": "code",
      "source": [
        "find_theme_by_frequntly(df['ru_clean_text'][4], False)"
      ],
      "metadata": {
        "colab": {
          "base_uri": "https://localhost:8080/",
          "height": 36
        },
        "id": "vnWWk0IOZ7Sp",
        "outputId": "b2934673-36b0-419f-bf1c-1de33fd9c190"
      },
      "execution_count": 50,
      "outputs": [
        {
          "output_type": "execute_result",
          "data": {
            "text/plain": [
              "'аварийный дерево'"
            ],
            "application/vnd.google.colaboratory.intrinsic+json": {
              "type": "string"
            }
          },
          "metadata": {},
          "execution_count": 50
        }
      ]
    },
    {
      "cell_type": "code",
      "source": [
        "df['find_theme1'] = df['ru_clean_text'].apply(lambda x: find_theme_by_frequntly(x, False))"
      ],
      "metadata": {
        "id": "ZnHlBjPwaK7e"
      },
      "execution_count": 53,
      "outputs": []
    },
    {
      "cell_type": "code",
      "source": [
        "df['find_theme2'] = df['ru_clean_text'].apply(find_theme_by_frequntly2)"
      ],
      "metadata": {
        "id": "6ulq9eELQn_4"
      },
      "execution_count": 54,
      "outputs": []
    },
    {
      "cell_type": "code",
      "source": [
        "df['find_theme3'] = df['ru_clean_text'].apply(lambda x: find_theme_by_frequntly3(x, False))"
      ],
      "metadata": {
        "id": "LFvkvmRb0Ewq"
      },
      "execution_count": 57,
      "outputs": []
    },
    {
      "cell_type": "code",
      "source": [
        "count_theme1 = 0\n",
        "count_theme2 = 0\n",
        "count_theme3 = 0\n",
        "for inx, row in df.iterrows():\n",
        "  if row['clean_theme'] == row['find_theme1']:\n",
        "    count_theme1 += 1\n",
        "  if row['clean_theme'] == row['find_theme2']:\n",
        "    count_theme2 += 1\n",
        "  if row['clean_theme'] == row['find_theme3']:\n",
        "    count_theme3 += 1\n",
        "  "
      ],
      "metadata": {
        "id": "AxlQj0oYsVFs"
      },
      "execution_count": 58,
      "outputs": []
    },
    {
      "cell_type": "code",
      "source": [
        "count_theme1"
      ],
      "metadata": {
        "colab": {
          "base_uri": "https://localhost:8080/"
        },
        "id": "xqDh0xBvssL4",
        "outputId": "6718ef1d-917a-482c-c735-28d4e5fbf13a"
      },
      "execution_count": 59,
      "outputs": [
        {
          "output_type": "execute_result",
          "data": {
            "text/plain": [
              "1436"
            ]
          },
          "metadata": {},
          "execution_count": 59
        }
      ]
    },
    {
      "cell_type": "code",
      "source": [
        "count_theme2 "
      ],
      "metadata": {
        "colab": {
          "base_uri": "https://localhost:8080/"
        },
        "id": "1PuAPZkKstVh",
        "outputId": "40ff69d2-6b7f-451c-b9ec-17e617964a4c"
      },
      "execution_count": 60,
      "outputs": [
        {
          "output_type": "execute_result",
          "data": {
            "text/plain": [
              "1430"
            ]
          },
          "metadata": {},
          "execution_count": 60
        }
      ]
    },
    {
      "cell_type": "code",
      "source": [
        "count_theme3"
      ],
      "metadata": {
        "colab": {
          "base_uri": "https://localhost:8080/"
        },
        "id": "bxN472t00X3c",
        "outputId": "d90f27b5-7df6-4b92-c535-8bdb2813f3f7"
      },
      "execution_count": 61,
      "outputs": [
        {
          "output_type": "execute_result",
          "data": {
            "text/plain": [
              "1436"
            ]
          },
          "metadata": {},
          "execution_count": 61
        }
      ]
    },
    {
      "cell_type": "code",
      "source": [
        "df_test['find_theme1'] = df_test['ru_clean_text'].apply(lambda x: find_theme_by_frequntly(x, False))"
      ],
      "metadata": {
        "id": "WaDHnmVa5JpA"
      },
      "execution_count": 62,
      "outputs": []
    },
    {
      "cell_type": "code",
      "source": [
        "df_test['find_theme2'] = df_test['ru_clean_text'].apply(find_theme_by_frequntly2)"
      ],
      "metadata": {
        "id": "o09Mfa6dvawK"
      },
      "execution_count": 63,
      "outputs": []
    },
    {
      "cell_type": "code",
      "source": [
        "df_test['find_theme3'] = df_test['ru_clean_text'].apply(lambda x: find_theme_by_frequntly3(x, False))"
      ],
      "metadata": {
        "id": "nE-2479rFa4T"
      },
      "execution_count": 64,
      "outputs": []
    },
    {
      "cell_type": "code",
      "source": [
        "df_test"
      ],
      "metadata": {
        "colab": {
          "base_uri": "https://localhost:8080/",
          "height": 676
        },
        "id": "iuY4JazabIdr",
        "outputId": "55974a64-b728-4bb3-b36b-3e987db5020c"
      },
      "execution_count": 65,
      "outputs": [
        {
          "output_type": "execute_result",
          "data": {
            "text/plain": [
              "       id                                    Текст Сообщения  \\\n",
              "0     843  <p>Здравствуйте. На улице Мира &nbsp;было заме...   \n",
              "1    1422  <p>Уже вторую неделю не горит уличное освещени...   \n",
              "2    2782  Не работает освещение во дворе дома 11а по Эне...   \n",
              "3    2704  После покоса сорной растительности на газоне м...   \n",
              "4       1  <p>Прошу принять меры к водителю маршрута 263:...   \n",
              "..    ...                                                ...   \n",
              "995  2619  Добрый день! Я и моя семья жители пос Волокно,...   \n",
              "996  2518  На Лазарева 5 г.Щигры ветка тополя скоро выбье...   \n",
              "997  2524  Перед входом  Комитет образования  Курска  ямы...   \n",
              "998  1577  <p>Доброго времени суток</p><p>У меня на пол г...   \n",
              "999  2567  Добрый день, я многодетная мама. Младшему ребё...   \n",
              "\n",
              "                                      clean_text_basic  \\\n",
              "0    Здравствуйте На улице Мира было заменено наруж...   \n",
              "1         Уже вторую неделю не горит уличное освещение   \n",
              "2    Не работает освещение во дворе дома 11а по Эне...   \n",
              "3    После покоса сорной растительности на газоне м...   \n",
              "4    Прошу принять меры к водителю маршрута 263 пос...   \n",
              "..                                                 ...   \n",
              "995  Добрый день Я и моя семья жители пос Волокно м...   \n",
              "996  На Лазарева 5 г Щигры ветка тополя скоро выбье...   \n",
              "997  Перед входом Комитет образования Курска ямы на...   \n",
              "998  Доброго времени сутокУ меня на пол года был ме...   \n",
              "999  Добрый день я многодетная мама Младшему ребёнк...   \n",
              "\n",
              "                                            clean_text  \\\n",
              "0    здравствуйте на улица мир быть заменить наружн...   \n",
              "1        уже второй неделя не гореть уличный освещение   \n",
              "2    не работать освещение в двор дом 11а по энерге...   \n",
              "3    после покос сорный растительность на газон меж...   \n",
              "4    просить принять мера к водитель маршрут 263 по...   \n",
              "..                                                 ...   \n",
              "995  добрый день я и мой семья житель пос волокно м...   \n",
              "996  на лазарев 5 г щигры ветка тополь скоро выбить...   \n",
              "997  перед вход комитет образование курск ям на дорога   \n",
              "998  добрый время суток я на пол год быть медотвод ...   \n",
              "999  добрый день я многодетный мама младший ребёнок...   \n",
              "\n",
              "                                         ru_clean_text  \\\n",
              "0    мир заменить наружное освещение именно заменит...   \n",
              "1               второй неделя гореть уличный освещение   \n",
              "2    работать освещение двор 11а энергетик световой...   \n",
              "3    покос сорный растительность газон тротуар прое...   \n",
              "4    водитель маршрут 263 пос северный союзный авто...   \n",
              "..                                                 ...   \n",
              "995  семья житель пос волокно просыпаться засыпать ...   \n",
              "996  лазарев щигры ветка тополь скоро выбить стекло...   \n",
              "997                 вход комитет образование ям дорога   \n",
              "998  суток пол медотвод вакцинация перенести заболе...   \n",
              "999  многодетный мама младший ребёнок жить прописат...   \n",
              "\n",
              "                                           find_theme1  \\\n",
              "0                      неработающий наружное освещение   \n",
              "1                      неработающий наружное освещение   \n",
              "2                      неработающий наружное освещение   \n",
              "3       неудовлетворительный содержание клумба и газон   \n",
              "4    недостаточный количество транспорт на маршрут ...   \n",
              "..                                                 ...   \n",
              "995  некачественный водоснабжение в район частное с...   \n",
              "996                                   аварийный дерево   \n",
              "997  нарушение дорожный покрытие ям на дорога в гра...   \n",
              "998                     вопрос оказание помощь беженец   \n",
              "999  нарушение порядок предоставление мера социальн...   \n",
              "\n",
              "                                           find_theme2  \\\n",
              "0                      неработающий наружное освещение   \n",
              "1                      неработающий наружное освещение   \n",
              "2                      неработающий наружное освещение   \n",
              "3       неудовлетворительный содержание клумба и газон   \n",
              "4    нарушение правило посадка и высадка пассажир п...   \n",
              "..                                                 ...   \n",
              "995  некачественный водоснабжение в район частное с...   \n",
              "996                                   аварийный дерево   \n",
              "997  нарушение дорожный покрытие ям на дорога в гра...   \n",
              "998                                   неприятный запах   \n",
              "999  нарушение порядок предоставление мера социальн...   \n",
              "\n",
              "                                           find_theme3  \n",
              "0                      неработающий наружное освещение  \n",
              "1                      неработающий наружное освещение  \n",
              "2                      неработающий наружное освещение  \n",
              "3       неудовлетворительный содержание клумба и газон  \n",
              "4    недостаточный количество транспорт на маршрут ...  \n",
              "..                                                 ...  \n",
              "995  некачественный водоснабжение в район частное с...  \n",
              "996                                   аварийный дерево  \n",
              "997  нарушение дорожный покрытие ям на дорога в гра...  \n",
              "998                     вопрос оказание помощь беженец  \n",
              "999  нарушение порядок предоставление мера социальн...  \n",
              "\n",
              "[1000 rows x 8 columns]"
            ],
            "text/html": [
              "\n",
              "  <div id=\"df-881f831a-2e8b-407a-a350-129758e410c0\">\n",
              "    <div class=\"colab-df-container\">\n",
              "      <div>\n",
              "<style scoped>\n",
              "    .dataframe tbody tr th:only-of-type {\n",
              "        vertical-align: middle;\n",
              "    }\n",
              "\n",
              "    .dataframe tbody tr th {\n",
              "        vertical-align: top;\n",
              "    }\n",
              "\n",
              "    .dataframe thead th {\n",
              "        text-align: right;\n",
              "    }\n",
              "</style>\n",
              "<table border=\"1\" class=\"dataframe\">\n",
              "  <thead>\n",
              "    <tr style=\"text-align: right;\">\n",
              "      <th></th>\n",
              "      <th>id</th>\n",
              "      <th>Текст Сообщения</th>\n",
              "      <th>clean_text_basic</th>\n",
              "      <th>clean_text</th>\n",
              "      <th>ru_clean_text</th>\n",
              "      <th>find_theme1</th>\n",
              "      <th>find_theme2</th>\n",
              "      <th>find_theme3</th>\n",
              "    </tr>\n",
              "  </thead>\n",
              "  <tbody>\n",
              "    <tr>\n",
              "      <th>0</th>\n",
              "      <td>843</td>\n",
              "      <td>&lt;p&gt;Здравствуйте. На улице Мира &amp;nbsp;было заме...</td>\n",
              "      <td>Здравствуйте На улице Мира было заменено наруж...</td>\n",
              "      <td>здравствуйте на улица мир быть заменить наружн...</td>\n",
              "      <td>мир заменить наружное освещение именно заменит...</td>\n",
              "      <td>неработающий наружное освещение</td>\n",
              "      <td>неработающий наружное освещение</td>\n",
              "      <td>неработающий наружное освещение</td>\n",
              "    </tr>\n",
              "    <tr>\n",
              "      <th>1</th>\n",
              "      <td>1422</td>\n",
              "      <td>&lt;p&gt;Уже вторую неделю не горит уличное освещени...</td>\n",
              "      <td>Уже вторую неделю не горит уличное освещение</td>\n",
              "      <td>уже второй неделя не гореть уличный освещение</td>\n",
              "      <td>второй неделя гореть уличный освещение</td>\n",
              "      <td>неработающий наружное освещение</td>\n",
              "      <td>неработающий наружное освещение</td>\n",
              "      <td>неработающий наружное освещение</td>\n",
              "    </tr>\n",
              "    <tr>\n",
              "      <th>2</th>\n",
              "      <td>2782</td>\n",
              "      <td>Не работает освещение во дворе дома 11а по Эне...</td>\n",
              "      <td>Не работает освещение во дворе дома 11а по Эне...</td>\n",
              "      <td>не работать освещение в двор дом 11а по энерге...</td>\n",
              "      <td>работать освещение двор 11а энергетик световой...</td>\n",
              "      <td>неработающий наружное освещение</td>\n",
              "      <td>неработающий наружное освещение</td>\n",
              "      <td>неработающий наружное освещение</td>\n",
              "    </tr>\n",
              "    <tr>\n",
              "      <th>3</th>\n",
              "      <td>2704</td>\n",
              "      <td>После покоса сорной растительности на газоне м...</td>\n",
              "      <td>После покоса сорной растительности на газоне м...</td>\n",
              "      <td>после покос сорный растительность на газон меж...</td>\n",
              "      <td>покос сорный растительность газон тротуар прое...</td>\n",
              "      <td>неудовлетворительный содержание клумба и газон</td>\n",
              "      <td>неудовлетворительный содержание клумба и газон</td>\n",
              "      <td>неудовлетворительный содержание клумба и газон</td>\n",
              "    </tr>\n",
              "    <tr>\n",
              "      <th>4</th>\n",
              "      <td>1</td>\n",
              "      <td>&lt;p&gt;Прошу принять меры к водителю маршрута 263:...</td>\n",
              "      <td>Прошу принять меры к водителю маршрута 263 пос...</td>\n",
              "      <td>просить принять мера к водитель маршрут 263 по...</td>\n",
              "      <td>водитель маршрут 263 пос северный союзный авто...</td>\n",
              "      <td>недостаточный количество транспорт на маршрут ...</td>\n",
              "      <td>нарушение правило посадка и высадка пассажир п...</td>\n",
              "      <td>недостаточный количество транспорт на маршрут ...</td>\n",
              "    </tr>\n",
              "    <tr>\n",
              "      <th>...</th>\n",
              "      <td>...</td>\n",
              "      <td>...</td>\n",
              "      <td>...</td>\n",
              "      <td>...</td>\n",
              "      <td>...</td>\n",
              "      <td>...</td>\n",
              "      <td>...</td>\n",
              "      <td>...</td>\n",
              "    </tr>\n",
              "    <tr>\n",
              "      <th>995</th>\n",
              "      <td>2619</td>\n",
              "      <td>Добрый день! Я и моя семья жители пос Волокно,...</td>\n",
              "      <td>Добрый день Я и моя семья жители пос Волокно м...</td>\n",
              "      <td>добрый день я и мой семья житель пос волокно м...</td>\n",
              "      <td>семья житель пос волокно просыпаться засыпать ...</td>\n",
              "      <td>некачественный водоснабжение в район частное с...</td>\n",
              "      <td>некачественный водоснабжение в район частное с...</td>\n",
              "      <td>некачественный водоснабжение в район частное с...</td>\n",
              "    </tr>\n",
              "    <tr>\n",
              "      <th>996</th>\n",
              "      <td>2518</td>\n",
              "      <td>На Лазарева 5 г.Щигры ветка тополя скоро выбье...</td>\n",
              "      <td>На Лазарева 5 г Щигры ветка тополя скоро выбье...</td>\n",
              "      <td>на лазарев 5 г щигры ветка тополь скоро выбить...</td>\n",
              "      <td>лазарев щигры ветка тополь скоро выбить стекло...</td>\n",
              "      <td>аварийный дерево</td>\n",
              "      <td>аварийный дерево</td>\n",
              "      <td>аварийный дерево</td>\n",
              "    </tr>\n",
              "    <tr>\n",
              "      <th>997</th>\n",
              "      <td>2524</td>\n",
              "      <td>Перед входом  Комитет образования  Курска  ямы...</td>\n",
              "      <td>Перед входом Комитет образования Курска ямы на...</td>\n",
              "      <td>перед вход комитет образование курск ям на дорога</td>\n",
              "      <td>вход комитет образование ям дорога</td>\n",
              "      <td>нарушение дорожный покрытие ям на дорога в гра...</td>\n",
              "      <td>нарушение дорожный покрытие ям на дорога в гра...</td>\n",
              "      <td>нарушение дорожный покрытие ям на дорога в гра...</td>\n",
              "    </tr>\n",
              "    <tr>\n",
              "      <th>998</th>\n",
              "      <td>1577</td>\n",
              "      <td>&lt;p&gt;Доброго времени суток&lt;/p&gt;&lt;p&gt;У меня на пол г...</td>\n",
              "      <td>Доброго времени сутокУ меня на пол года был ме...</td>\n",
              "      <td>добрый время суток я на пол год быть медотвод ...</td>\n",
              "      <td>суток пол медотвод вакцинация перенести заболе...</td>\n",
              "      <td>вопрос оказание помощь беженец</td>\n",
              "      <td>неприятный запах</td>\n",
              "      <td>вопрос оказание помощь беженец</td>\n",
              "    </tr>\n",
              "    <tr>\n",
              "      <th>999</th>\n",
              "      <td>2567</td>\n",
              "      <td>Добрый день, я многодетная мама. Младшему ребё...</td>\n",
              "      <td>Добрый день я многодетная мама Младшему ребёнк...</td>\n",
              "      <td>добрый день я многодетный мама младший ребёнок...</td>\n",
              "      <td>многодетный мама младший ребёнок жить прописат...</td>\n",
              "      <td>нарушение порядок предоставление мера социальн...</td>\n",
              "      <td>нарушение порядок предоставление мера социальн...</td>\n",
              "      <td>нарушение порядок предоставление мера социальн...</td>\n",
              "    </tr>\n",
              "  </tbody>\n",
              "</table>\n",
              "<p>1000 rows × 8 columns</p>\n",
              "</div>\n",
              "      <button class=\"colab-df-convert\" onclick=\"convertToInteractive('df-881f831a-2e8b-407a-a350-129758e410c0')\"\n",
              "              title=\"Convert this dataframe to an interactive table.\"\n",
              "              style=\"display:none;\">\n",
              "        \n",
              "  <svg xmlns=\"http://www.w3.org/2000/svg\" height=\"24px\"viewBox=\"0 0 24 24\"\n",
              "       width=\"24px\">\n",
              "    <path d=\"M0 0h24v24H0V0z\" fill=\"none\"/>\n",
              "    <path d=\"M18.56 5.44l.94 2.06.94-2.06 2.06-.94-2.06-.94-.94-2.06-.94 2.06-2.06.94zm-11 1L8.5 8.5l.94-2.06 2.06-.94-2.06-.94L8.5 2.5l-.94 2.06-2.06.94zm10 10l.94 2.06.94-2.06 2.06-.94-2.06-.94-.94-2.06-.94 2.06-2.06.94z\"/><path d=\"M17.41 7.96l-1.37-1.37c-.4-.4-.92-.59-1.43-.59-.52 0-1.04.2-1.43.59L10.3 9.45l-7.72 7.72c-.78.78-.78 2.05 0 2.83L4 21.41c.39.39.9.59 1.41.59.51 0 1.02-.2 1.41-.59l7.78-7.78 2.81-2.81c.8-.78.8-2.07 0-2.86zM5.41 20L4 18.59l7.72-7.72 1.47 1.35L5.41 20z\"/>\n",
              "  </svg>\n",
              "      </button>\n",
              "      \n",
              "  <style>\n",
              "    .colab-df-container {\n",
              "      display:flex;\n",
              "      flex-wrap:wrap;\n",
              "      gap: 12px;\n",
              "    }\n",
              "\n",
              "    .colab-df-convert {\n",
              "      background-color: #E8F0FE;\n",
              "      border: none;\n",
              "      border-radius: 50%;\n",
              "      cursor: pointer;\n",
              "      display: none;\n",
              "      fill: #1967D2;\n",
              "      height: 32px;\n",
              "      padding: 0 0 0 0;\n",
              "      width: 32px;\n",
              "    }\n",
              "\n",
              "    .colab-df-convert:hover {\n",
              "      background-color: #E2EBFA;\n",
              "      box-shadow: 0px 1px 2px rgba(60, 64, 67, 0.3), 0px 1px 3px 1px rgba(60, 64, 67, 0.15);\n",
              "      fill: #174EA6;\n",
              "    }\n",
              "\n",
              "    [theme=dark] .colab-df-convert {\n",
              "      background-color: #3B4455;\n",
              "      fill: #D2E3FC;\n",
              "    }\n",
              "\n",
              "    [theme=dark] .colab-df-convert:hover {\n",
              "      background-color: #434B5C;\n",
              "      box-shadow: 0px 1px 3px 1px rgba(0, 0, 0, 0.15);\n",
              "      filter: drop-shadow(0px 1px 2px rgba(0, 0, 0, 0.3));\n",
              "      fill: #FFFFFF;\n",
              "    }\n",
              "  </style>\n",
              "\n",
              "      <script>\n",
              "        const buttonEl =\n",
              "          document.querySelector('#df-881f831a-2e8b-407a-a350-129758e410c0 button.colab-df-convert');\n",
              "        buttonEl.style.display =\n",
              "          google.colab.kernel.accessAllowed ? 'block' : 'none';\n",
              "\n",
              "        async function convertToInteractive(key) {\n",
              "          const element = document.querySelector('#df-881f831a-2e8b-407a-a350-129758e410c0');\n",
              "          const dataTable =\n",
              "            await google.colab.kernel.invokeFunction('convertToInteractive',\n",
              "                                                     [key], {});\n",
              "          if (!dataTable) return;\n",
              "\n",
              "          const docLinkHtml = 'Like what you see? Visit the ' +\n",
              "            '<a target=\"_blank\" href=https://colab.research.google.com/notebooks/data_table.ipynb>data table notebook</a>'\n",
              "            + ' to learn more about interactive tables.';\n",
              "          element.innerHTML = '';\n",
              "          dataTable['output_type'] = 'display_data';\n",
              "          await google.colab.output.renderOutput(dataTable, element);\n",
              "          const docLink = document.createElement('div');\n",
              "          docLink.innerHTML = docLinkHtml;\n",
              "          element.appendChild(docLink);\n",
              "        }\n",
              "      </script>\n",
              "    </div>\n",
              "  </div>\n",
              "  "
            ]
          },
          "metadata": {},
          "execution_count": 65
        }
      ]
    },
    {
      "cell_type": "code",
      "execution_count": 66,
      "metadata": {
        "id": "CPwXHQ35Q8R3"
      },
      "outputs": [],
      "source": [
        "def categoryToOHE(cat, len):\n",
        "  ohe = [0.] * len\n",
        "  if cat >= len:\n",
        "    ohe[len - 1] = 1.\n",
        "  else:\n",
        "    ohe[cat] = 1.\n",
        "  return ohe\n"
      ]
    },
    {
      "cell_type": "code",
      "execution_count": 67,
      "metadata": {
        "id": "NuVGVaGgGK0f"
      },
      "outputs": [],
      "source": [
        "theme_dict = dict()\n",
        "index = 0\n",
        "for u in theme_unique:\n",
        "  theme_dict[u] = index\n",
        "  index += 1"
      ]
    },
    {
      "cell_type": "code",
      "execution_count": 68,
      "metadata": {
        "colab": {
          "base_uri": "https://localhost:8080/"
        },
        "id": "A4Ok9A2nGgTR",
        "outputId": "7f0e51c4-f95b-4501-9326-0c1a9bbfadb5"
      },
      "outputs": [
        {
          "output_type": "execute_result",
          "data": {
            "text/plain": [
              "160"
            ]
          },
          "metadata": {},
          "execution_count": 68
        }
      ],
      "source": [
        "len(theme_dict)"
      ]
    },
    {
      "cell_type": "code",
      "source": [
        "theme_dict['нарушение дорожный покрытие ям на дорога в граница городской округ и сельский поселение']"
      ],
      "metadata": {
        "colab": {
          "base_uri": "https://localhost:8080/"
        },
        "id": "uFcMSzYQrcdN",
        "outputId": "58ae59e2-d8c8-44ff-a61c-9ba3a255945b"
      },
      "execution_count": 69,
      "outputs": [
        {
          "output_type": "execute_result",
          "data": {
            "text/plain": [
              "12"
            ]
          },
          "metadata": {},
          "execution_count": 69
        }
      ]
    },
    {
      "cell_type": "code",
      "execution_count": 70,
      "metadata": {
        "id": "u2byvfyJNslf"
      },
      "outputs": [],
      "source": [
        "\n",
        "classes = list(df['Категория'].values) #Извлекаем соответствующие им значения классов (лейблов) столбца Категория\n",
        "classesOHE = []\n",
        "for i in classes:\n",
        "  classesOHE.append(categoryToOHE(i,17))\n",
        "classesOHE = np.array(classesOHE)"
      ]
    },
    {
      "cell_type": "code",
      "execution_count": 71,
      "metadata": {
        "colab": {
          "base_uri": "https://localhost:8080/"
        },
        "id": "aqXPXZvyO8KR",
        "outputId": "38f43be0-b9a3-402b-a7c2-ecb78a5a377c"
      },
      "outputs": [
        {
          "output_type": "execute_result",
          "data": {
            "text/plain": [
              "array([0., 0., 0., 1., 0., 0., 0., 0., 0., 0., 0., 0., 0., 0., 0., 0., 0.])"
            ]
          },
          "metadata": {},
          "execution_count": 71
        }
      ],
      "source": [
        "classesOHE[0]"
      ]
    },
    {
      "cell_type": "code",
      "source": [
        "def themeToOHE(text, len):\n",
        "  arr = [0.0] * len\n",
        "  if text in theme_dict:\n",
        "    idx = theme_dict[text]\n",
        "  else:\n",
        "    idx = 12 ## самая часто всречаемая категория\n",
        "  arr[idx] = 1.0\n",
        "  return arr"
      ],
      "metadata": {
        "id": "ZdUiPatGmZbf"
      },
      "execution_count": 72,
      "outputs": []
    },
    {
      "cell_type": "code",
      "source": [
        "\n",
        "themes = list(df['clean_theme'].values) #Извлекаем соответствующие им значения классов (лейблов) столбца Категория\n",
        "themesOHE = []\n",
        "for i in themes:\n",
        "  themesOHE.append(themeToOHE(i,160))\n",
        "themesOHE = np.array(themesOHE)"
      ],
      "metadata": {
        "id": "JLZVO_iKmUX0"
      },
      "execution_count": 73,
      "outputs": []
    },
    {
      "cell_type": "code",
      "source": [
        "\n",
        "themes_test = list(df_test['find_theme'].values) #Извлекаем соответствующие им значения классов (лейблов) столбца Категория\n",
        "themes_testOHE = []\n",
        "for i in themes_test:\n",
        "  themes_testOHE.append(themeToOHE(i,160))\n",
        "themes_testOHE = np.array(themes_testOHE)"
      ],
      "metadata": {
        "colab": {
          "base_uri": "https://localhost:8080/",
          "height": 528
        },
        "id": "SYbpI4AWqi0D",
        "outputId": "9d581906-2b1d-4857-be79-0bd4e170b213"
      },
      "execution_count": 78,
      "outputs": [
        {
          "output_type": "error",
          "ename": "KeyError",
          "evalue": "ignored",
          "traceback": [
            "\u001b[0;31m---------------------------------------------------------------------------\u001b[0m",
            "\u001b[0;31mKeyError\u001b[0m                                  Traceback (most recent call last)",
            "\u001b[0;32m/usr/local/lib/python3.7/dist-packages/pandas/core/indexes/base.py\u001b[0m in \u001b[0;36mget_loc\u001b[0;34m(self, key, method, tolerance)\u001b[0m\n\u001b[1;32m   3360\u001b[0m             \u001b[0;32mtry\u001b[0m\u001b[0;34m:\u001b[0m\u001b[0;34m\u001b[0m\u001b[0;34m\u001b[0m\u001b[0m\n\u001b[0;32m-> 3361\u001b[0;31m                 \u001b[0;32mreturn\u001b[0m \u001b[0mself\u001b[0m\u001b[0;34m.\u001b[0m\u001b[0m_engine\u001b[0m\u001b[0;34m.\u001b[0m\u001b[0mget_loc\u001b[0m\u001b[0;34m(\u001b[0m\u001b[0mcasted_key\u001b[0m\u001b[0;34m)\u001b[0m\u001b[0;34m\u001b[0m\u001b[0;34m\u001b[0m\u001b[0m\n\u001b[0m\u001b[1;32m   3362\u001b[0m             \u001b[0;32mexcept\u001b[0m \u001b[0mKeyError\u001b[0m \u001b[0;32mas\u001b[0m \u001b[0merr\u001b[0m\u001b[0;34m:\u001b[0m\u001b[0;34m\u001b[0m\u001b[0;34m\u001b[0m\u001b[0m\n",
            "\u001b[0;32m/usr/local/lib/python3.7/dist-packages/pandas/_libs/index.pyx\u001b[0m in \u001b[0;36mpandas._libs.index.IndexEngine.get_loc\u001b[0;34m()\u001b[0m\n",
            "\u001b[0;32m/usr/local/lib/python3.7/dist-packages/pandas/_libs/index.pyx\u001b[0m in \u001b[0;36mpandas._libs.index.IndexEngine.get_loc\u001b[0;34m()\u001b[0m\n",
            "\u001b[0;32mpandas/_libs/hashtable_class_helper.pxi\u001b[0m in \u001b[0;36mpandas._libs.hashtable.PyObjectHashTable.get_item\u001b[0;34m()\u001b[0m\n",
            "\u001b[0;32mpandas/_libs/hashtable_class_helper.pxi\u001b[0m in \u001b[0;36mpandas._libs.hashtable.PyObjectHashTable.get_item\u001b[0;34m()\u001b[0m\n",
            "\u001b[0;31mKeyError\u001b[0m: 'find_theme'",
            "\nThe above exception was the direct cause of the following exception:\n",
            "\u001b[0;31mKeyError\u001b[0m                                  Traceback (most recent call last)",
            "\u001b[0;32m<ipython-input-78-a98366dd6ba4>\u001b[0m in \u001b[0;36m<module>\u001b[0;34m()\u001b[0m\n\u001b[1;32m      1\u001b[0m \u001b[0;34m\u001b[0m\u001b[0m\n\u001b[0;32m----> 2\u001b[0;31m \u001b[0mthemes_test\u001b[0m \u001b[0;34m=\u001b[0m \u001b[0mlist\u001b[0m\u001b[0;34m(\u001b[0m\u001b[0mdf_test\u001b[0m\u001b[0;34m[\u001b[0m\u001b[0;34m'find_theme'\u001b[0m\u001b[0;34m]\u001b[0m\u001b[0;34m.\u001b[0m\u001b[0mvalues\u001b[0m\u001b[0;34m)\u001b[0m \u001b[0;31m#Извлекаем соответствующие им значения классов (лейблов) столбца Категория\u001b[0m\u001b[0;34m\u001b[0m\u001b[0;34m\u001b[0m\u001b[0m\n\u001b[0m\u001b[1;32m      3\u001b[0m \u001b[0mthemes_testOHE\u001b[0m \u001b[0;34m=\u001b[0m \u001b[0;34m[\u001b[0m\u001b[0;34m]\u001b[0m\u001b[0;34m\u001b[0m\u001b[0;34m\u001b[0m\u001b[0m\n\u001b[1;32m      4\u001b[0m \u001b[0;32mfor\u001b[0m \u001b[0mi\u001b[0m \u001b[0;32min\u001b[0m \u001b[0mthemes_test\u001b[0m\u001b[0;34m:\u001b[0m\u001b[0;34m\u001b[0m\u001b[0;34m\u001b[0m\u001b[0m\n\u001b[1;32m      5\u001b[0m   \u001b[0mthemes_testOHE\u001b[0m\u001b[0;34m.\u001b[0m\u001b[0mappend\u001b[0m\u001b[0;34m(\u001b[0m\u001b[0mthemeToOHE\u001b[0m\u001b[0;34m(\u001b[0m\u001b[0mi\u001b[0m\u001b[0;34m,\u001b[0m\u001b[0;36m160\u001b[0m\u001b[0;34m)\u001b[0m\u001b[0;34m)\u001b[0m\u001b[0;34m\u001b[0m\u001b[0;34m\u001b[0m\u001b[0m\n",
            "\u001b[0;32m/usr/local/lib/python3.7/dist-packages/pandas/core/frame.py\u001b[0m in \u001b[0;36m__getitem__\u001b[0;34m(self, key)\u001b[0m\n\u001b[1;32m   3456\u001b[0m             \u001b[0;32mif\u001b[0m \u001b[0mself\u001b[0m\u001b[0;34m.\u001b[0m\u001b[0mcolumns\u001b[0m\u001b[0;34m.\u001b[0m\u001b[0mnlevels\u001b[0m \u001b[0;34m>\u001b[0m \u001b[0;36m1\u001b[0m\u001b[0;34m:\u001b[0m\u001b[0;34m\u001b[0m\u001b[0;34m\u001b[0m\u001b[0m\n\u001b[1;32m   3457\u001b[0m                 \u001b[0;32mreturn\u001b[0m \u001b[0mself\u001b[0m\u001b[0;34m.\u001b[0m\u001b[0m_getitem_multilevel\u001b[0m\u001b[0;34m(\u001b[0m\u001b[0mkey\u001b[0m\u001b[0;34m)\u001b[0m\u001b[0;34m\u001b[0m\u001b[0;34m\u001b[0m\u001b[0m\n\u001b[0;32m-> 3458\u001b[0;31m             \u001b[0mindexer\u001b[0m \u001b[0;34m=\u001b[0m \u001b[0mself\u001b[0m\u001b[0;34m.\u001b[0m\u001b[0mcolumns\u001b[0m\u001b[0;34m.\u001b[0m\u001b[0mget_loc\u001b[0m\u001b[0;34m(\u001b[0m\u001b[0mkey\u001b[0m\u001b[0;34m)\u001b[0m\u001b[0;34m\u001b[0m\u001b[0;34m\u001b[0m\u001b[0m\n\u001b[0m\u001b[1;32m   3459\u001b[0m             \u001b[0;32mif\u001b[0m \u001b[0mis_integer\u001b[0m\u001b[0;34m(\u001b[0m\u001b[0mindexer\u001b[0m\u001b[0;34m)\u001b[0m\u001b[0;34m:\u001b[0m\u001b[0;34m\u001b[0m\u001b[0;34m\u001b[0m\u001b[0m\n\u001b[1;32m   3460\u001b[0m                 \u001b[0mindexer\u001b[0m \u001b[0;34m=\u001b[0m \u001b[0;34m[\u001b[0m\u001b[0mindexer\u001b[0m\u001b[0;34m]\u001b[0m\u001b[0;34m\u001b[0m\u001b[0;34m\u001b[0m\u001b[0m\n",
            "\u001b[0;32m/usr/local/lib/python3.7/dist-packages/pandas/core/indexes/base.py\u001b[0m in \u001b[0;36mget_loc\u001b[0;34m(self, key, method, tolerance)\u001b[0m\n\u001b[1;32m   3361\u001b[0m                 \u001b[0;32mreturn\u001b[0m \u001b[0mself\u001b[0m\u001b[0;34m.\u001b[0m\u001b[0m_engine\u001b[0m\u001b[0;34m.\u001b[0m\u001b[0mget_loc\u001b[0m\u001b[0;34m(\u001b[0m\u001b[0mcasted_key\u001b[0m\u001b[0;34m)\u001b[0m\u001b[0;34m\u001b[0m\u001b[0;34m\u001b[0m\u001b[0m\n\u001b[1;32m   3362\u001b[0m             \u001b[0;32mexcept\u001b[0m \u001b[0mKeyError\u001b[0m \u001b[0;32mas\u001b[0m \u001b[0merr\u001b[0m\u001b[0;34m:\u001b[0m\u001b[0;34m\u001b[0m\u001b[0;34m\u001b[0m\u001b[0m\n\u001b[0;32m-> 3363\u001b[0;31m                 \u001b[0;32mraise\u001b[0m \u001b[0mKeyError\u001b[0m\u001b[0;34m(\u001b[0m\u001b[0mkey\u001b[0m\u001b[0;34m)\u001b[0m \u001b[0;32mfrom\u001b[0m \u001b[0merr\u001b[0m\u001b[0;34m\u001b[0m\u001b[0;34m\u001b[0m\u001b[0m\n\u001b[0m\u001b[1;32m   3364\u001b[0m \u001b[0;34m\u001b[0m\u001b[0m\n\u001b[1;32m   3365\u001b[0m         \u001b[0;32mif\u001b[0m \u001b[0mis_scalar\u001b[0m\u001b[0;34m(\u001b[0m\u001b[0mkey\u001b[0m\u001b[0;34m)\u001b[0m \u001b[0;32mand\u001b[0m \u001b[0misna\u001b[0m\u001b[0;34m(\u001b[0m\u001b[0mkey\u001b[0m\u001b[0;34m)\u001b[0m \u001b[0;32mand\u001b[0m \u001b[0;32mnot\u001b[0m \u001b[0mself\u001b[0m\u001b[0;34m.\u001b[0m\u001b[0mhasnans\u001b[0m\u001b[0;34m:\u001b[0m\u001b[0;34m\u001b[0m\u001b[0;34m\u001b[0m\u001b[0m\n",
            "\u001b[0;31mKeyError\u001b[0m: 'find_theme'"
          ]
        }
      ]
    },
    {
      "cell_type": "code",
      "source": [
        ""
      ],
      "metadata": {
        "id": "Ll6z5pCBJAeR"
      },
      "execution_count": null,
      "outputs": []
    },
    {
      "cell_type": "markdown",
      "metadata": {
        "id": "vSCVqG_DTAzh"
      },
      "source": [
        "## Keras"
      ]
    },
    {
      "cell_type": "code",
      "execution_count": 75,
      "metadata": {
        "id": "L51mowqYTCnR"
      },
      "outputs": [],
      "source": [
        "\n",
        "\n",
        "from tensorflow.keras import utils # Для работы с категориальными данными\n",
        "from tensorflow.keras.models import Sequential # Полносвязная модель\n",
        "from tensorflow.keras.optimizers import Adam\n",
        "from tensorflow.keras.layers import Dense, Dropout, LSTM, Conv1D, MaxPooling1D,GlobalMaxPooling1D, SpatialDropout1D, BatchNormalization, Embedding, Flatten, Activation # Слои для сети\n",
        "\n",
        "from sklearn.preprocessing import LabelEncoder # Метод кодирования тестовых лейблов\n",
        "from sklearn.model_selection import train_test_split # Для разделения выборки на тестовую и обучающую\n",
        "\n",
        "import time # Импортируем библиотеку time"
      ]
    },
    {
      "cell_type": "code",
      "source": [
        "# разбиваем все данные на обучающую и тестовую выборки с помощью метода train_test_split из библиотеки sklearn\n",
        "xTrain, xVal, yTrain, yVal = train_test_split(themesOHE, classesOHE, test_size=0.1, random_state=1313)\n",
        "print(xTrain.shape) #посмотрим на форму текстов из обучающей выборки\n",
        "print(yTrain.shape) #и на форму соответсвующих им классов"
      ],
      "metadata": {
        "colab": {
          "base_uri": "https://localhost:8080/"
        },
        "id": "0wpju5thn95v",
        "outputId": "cca2c54f-d505-47e2-b451-66785108c2a7"
      },
      "execution_count": 76,
      "outputs": [
        {
          "output_type": "stream",
          "name": "stdout",
          "text": [
            "(1799, 160)\n",
            "(1799, 17)\n"
          ]
        }
      ]
    },
    {
      "cell_type": "code",
      "execution_count": 77,
      "metadata": {
        "colab": {
          "base_uri": "https://localhost:8080/"
        },
        "id": "Appe3Sqy9Hl4",
        "outputId": "941513c3-1104-4e07-908b-2a20340c2f3b"
      },
      "outputs": [
        {
          "output_type": "stream",
          "name": "stdout",
          "text": [
            "Epoch 1/100\n",
            "225/225 [==============================] - 2s 3ms/step - loss: 2.5825 - accuracy: 0.4647 - val_loss: 2.3141 - val_accuracy: 0.6000\n",
            "Epoch 2/100\n",
            "225/225 [==============================] - 1s 3ms/step - loss: 1.8563 - accuracy: 0.6148 - val_loss: 1.5467 - val_accuracy: 0.5400\n",
            "Epoch 3/100\n",
            "225/225 [==============================] - 1s 5ms/step - loss: 1.2110 - accuracy: 0.6442 - val_loss: 1.1917 - val_accuracy: 0.6600\n",
            "Epoch 4/100\n",
            "225/225 [==============================] - 1s 3ms/step - loss: 0.9330 - accuracy: 0.7582 - val_loss: 0.9932 - val_accuracy: 0.7150\n",
            "Epoch 5/100\n",
            "225/225 [==============================] - 1s 3ms/step - loss: 0.7615 - accuracy: 0.7993 - val_loss: 0.8382 - val_accuracy: 0.7700\n",
            "Epoch 6/100\n",
            "225/225 [==============================] - 1s 3ms/step - loss: 0.6264 - accuracy: 0.8410 - val_loss: 0.7116 - val_accuracy: 0.8350\n",
            "Epoch 7/100\n",
            "225/225 [==============================] - 1s 3ms/step - loss: 0.5298 - accuracy: 0.8722 - val_loss: 0.6108 - val_accuracy: 0.8450\n",
            "Epoch 8/100\n",
            "225/225 [==============================] - 1s 3ms/step - loss: 0.4468 - accuracy: 0.9005 - val_loss: 0.5307 - val_accuracy: 0.8800\n",
            "Epoch 9/100\n",
            "225/225 [==============================] - 1s 3ms/step - loss: 0.3799 - accuracy: 0.9166 - val_loss: 0.4662 - val_accuracy: 0.8800\n",
            "Epoch 10/100\n",
            "225/225 [==============================] - 1s 3ms/step - loss: 0.3335 - accuracy: 0.9266 - val_loss: 0.4146 - val_accuracy: 0.8900\n",
            "Epoch 11/100\n",
            "225/225 [==============================] - 1s 3ms/step - loss: 0.2885 - accuracy: 0.9350 - val_loss: 0.3746 - val_accuracy: 0.9250\n",
            "Epoch 12/100\n",
            "225/225 [==============================] - 1s 3ms/step - loss: 0.2573 - accuracy: 0.9394 - val_loss: 0.3421 - val_accuracy: 0.9300\n",
            "Epoch 13/100\n",
            "225/225 [==============================] - 1s 3ms/step - loss: 0.2295 - accuracy: 0.9466 - val_loss: 0.3149 - val_accuracy: 0.9300\n",
            "Epoch 14/100\n",
            "225/225 [==============================] - 1s 3ms/step - loss: 0.2095 - accuracy: 0.9483 - val_loss: 0.2916 - val_accuracy: 0.9300\n",
            "Epoch 15/100\n",
            "225/225 [==============================] - 1s 3ms/step - loss: 0.1875 - accuracy: 0.9583 - val_loss: 0.2707 - val_accuracy: 0.9300\n",
            "Epoch 16/100\n",
            "225/225 [==============================] - 1s 3ms/step - loss: 0.1701 - accuracy: 0.9600 - val_loss: 0.2525 - val_accuracy: 0.9350\n",
            "Epoch 17/100\n",
            "225/225 [==============================] - 1s 3ms/step - loss: 0.1585 - accuracy: 0.9655 - val_loss: 0.2373 - val_accuracy: 0.9350\n",
            "Epoch 18/100\n",
            "225/225 [==============================] - 1s 3ms/step - loss: 0.1446 - accuracy: 0.9705 - val_loss: 0.2238 - val_accuracy: 0.9400\n",
            "Epoch 19/100\n",
            "225/225 [==============================] - 1s 3ms/step - loss: 0.1298 - accuracy: 0.9761 - val_loss: 0.2115 - val_accuracy: 0.9450\n",
            "Epoch 20/100\n",
            "225/225 [==============================] - 1s 3ms/step - loss: 0.1203 - accuracy: 0.9783 - val_loss: 0.2006 - val_accuracy: 0.9500\n",
            "Epoch 21/100\n",
            "225/225 [==============================] - 1s 3ms/step - loss: 0.1081 - accuracy: 0.9833 - val_loss: 0.1906 - val_accuracy: 0.9550\n",
            "Epoch 22/100\n",
            "225/225 [==============================] - 1s 3ms/step - loss: 0.0985 - accuracy: 0.9855 - val_loss: 0.1816 - val_accuracy: 0.9600\n",
            "Epoch 23/100\n",
            "225/225 [==============================] - 1s 3ms/step - loss: 0.0918 - accuracy: 0.9850 - val_loss: 0.1730 - val_accuracy: 0.9600\n",
            "Epoch 24/100\n",
            "225/225 [==============================] - 1s 3ms/step - loss: 0.0815 - accuracy: 0.9889 - val_loss: 0.1659 - val_accuracy: 0.9600\n",
            "Epoch 25/100\n",
            "225/225 [==============================] - 1s 3ms/step - loss: 0.0737 - accuracy: 0.9906 - val_loss: 0.1582 - val_accuracy: 0.9600\n",
            "Epoch 26/100\n",
            "225/225 [==============================] - 1s 3ms/step - loss: 0.0666 - accuracy: 0.9894 - val_loss: 0.1516 - val_accuracy: 0.9600\n",
            "Epoch 27/100\n",
            "225/225 [==============================] - 1s 3ms/step - loss: 0.0611 - accuracy: 0.9928 - val_loss: 0.1460 - val_accuracy: 0.9600\n",
            "Epoch 28/100\n",
            "225/225 [==============================] - 1s 3ms/step - loss: 0.0538 - accuracy: 0.9933 - val_loss: 0.1404 - val_accuracy: 0.9650\n",
            "Epoch 29/100\n",
            "225/225 [==============================] - 1s 3ms/step - loss: 0.0494 - accuracy: 0.9944 - val_loss: 0.1350 - val_accuracy: 0.9650\n",
            "Epoch 30/100\n",
            "225/225 [==============================] - 1s 3ms/step - loss: 0.0437 - accuracy: 0.9939 - val_loss: 0.1301 - val_accuracy: 0.9650\n",
            "Epoch 31/100\n",
            "225/225 [==============================] - 1s 3ms/step - loss: 0.0418 - accuracy: 0.9950 - val_loss: 0.1257 - val_accuracy: 0.9700\n",
            "Epoch 32/100\n",
            "225/225 [==============================] - 1s 3ms/step - loss: 0.0383 - accuracy: 0.9961 - val_loss: 0.1222 - val_accuracy: 0.9700\n",
            "Epoch 33/100\n",
            "225/225 [==============================] - 1s 3ms/step - loss: 0.0339 - accuracy: 0.9961 - val_loss: 0.1192 - val_accuracy: 0.9700\n",
            "Epoch 34/100\n",
            "225/225 [==============================] - 1s 3ms/step - loss: 0.0314 - accuracy: 0.9961 - val_loss: 0.1155 - val_accuracy: 0.9700\n",
            "Epoch 35/100\n",
            "225/225 [==============================] - 1s 3ms/step - loss: 0.0271 - accuracy: 0.9983 - val_loss: 0.1130 - val_accuracy: 0.9700\n",
            "Epoch 36/100\n",
            "225/225 [==============================] - 1s 3ms/step - loss: 0.0262 - accuracy: 0.9978 - val_loss: 0.1098 - val_accuracy: 0.9750\n",
            "Epoch 37/100\n",
            "225/225 [==============================] - 1s 3ms/step - loss: 0.0237 - accuracy: 0.9978 - val_loss: 0.1072 - val_accuracy: 0.9750\n",
            "Epoch 38/100\n",
            "225/225 [==============================] - 1s 3ms/step - loss: 0.0208 - accuracy: 0.9983 - val_loss: 0.1055 - val_accuracy: 0.9750\n",
            "Epoch 39/100\n",
            "225/225 [==============================] - 1s 3ms/step - loss: 0.0211 - accuracy: 0.9989 - val_loss: 0.1030 - val_accuracy: 0.9750\n",
            "Epoch 40/100\n",
            "225/225 [==============================] - 1s 3ms/step - loss: 0.0188 - accuracy: 0.9989 - val_loss: 0.1012 - val_accuracy: 0.9750\n",
            "Epoch 41/100\n",
            "225/225 [==============================] - 1s 3ms/step - loss: 0.0165 - accuracy: 0.9994 - val_loss: 0.0993 - val_accuracy: 0.9750\n",
            "Epoch 42/100\n",
            "225/225 [==============================] - 1s 3ms/step - loss: 0.0158 - accuracy: 0.9994 - val_loss: 0.0977 - val_accuracy: 0.9750\n",
            "Epoch 43/100\n",
            "225/225 [==============================] - 1s 4ms/step - loss: 0.0141 - accuracy: 0.9989 - val_loss: 0.0959 - val_accuracy: 0.9750\n",
            "Epoch 44/100\n",
            "225/225 [==============================] - 1s 5ms/step - loss: 0.0123 - accuracy: 1.0000 - val_loss: 0.0941 - val_accuracy: 0.9750\n",
            "Epoch 45/100\n",
            "225/225 [==============================] - 1s 5ms/step - loss: 0.0114 - accuracy: 1.0000 - val_loss: 0.0926 - val_accuracy: 0.9750\n",
            "Epoch 46/100\n",
            "225/225 [==============================] - 1s 5ms/step - loss: 0.0113 - accuracy: 0.9994 - val_loss: 0.0915 - val_accuracy: 0.9750\n",
            "Epoch 47/100\n",
            "225/225 [==============================] - 2s 7ms/step - loss: 0.0108 - accuracy: 1.0000 - val_loss: 0.0901 - val_accuracy: 0.9750\n",
            "Epoch 48/100\n",
            "225/225 [==============================] - 1s 5ms/step - loss: 0.0089 - accuracy: 1.0000 - val_loss: 0.0888 - val_accuracy: 0.9750\n",
            "Epoch 49/100\n",
            "225/225 [==============================] - 1s 3ms/step - loss: 0.0079 - accuracy: 1.0000 - val_loss: 0.0875 - val_accuracy: 0.9750\n",
            "Epoch 50/100\n",
            "225/225 [==============================] - 1s 3ms/step - loss: 0.0071 - accuracy: 1.0000 - val_loss: 0.0866 - val_accuracy: 0.9750\n",
            "Epoch 51/100\n",
            "225/225 [==============================] - 1s 3ms/step - loss: 0.0068 - accuracy: 1.0000 - val_loss: 0.0855 - val_accuracy: 0.9750\n",
            "Epoch 52/100\n",
            "225/225 [==============================] - 1s 3ms/step - loss: 0.0060 - accuracy: 1.0000 - val_loss: 0.0848 - val_accuracy: 0.9750\n",
            "Epoch 53/100\n",
            "225/225 [==============================] - 1s 3ms/step - loss: 0.0063 - accuracy: 1.0000 - val_loss: 0.0837 - val_accuracy: 0.9750\n",
            "Epoch 54/100\n",
            "225/225 [==============================] - 1s 3ms/step - loss: 0.0047 - accuracy: 1.0000 - val_loss: 0.0829 - val_accuracy: 0.9750\n",
            "Epoch 55/100\n",
            "225/225 [==============================] - 1s 3ms/step - loss: 0.0045 - accuracy: 1.0000 - val_loss: 0.0823 - val_accuracy: 0.9750\n",
            "Epoch 56/100\n",
            "225/225 [==============================] - 1s 3ms/step - loss: 0.0039 - accuracy: 1.0000 - val_loss: 0.0814 - val_accuracy: 0.9750\n",
            "Epoch 57/100\n",
            "225/225 [==============================] - 1s 3ms/step - loss: 0.0039 - accuracy: 1.0000 - val_loss: 0.0805 - val_accuracy: 0.9750\n",
            "Epoch 58/100\n",
            "225/225 [==============================] - 1s 3ms/step - loss: 0.0033 - accuracy: 1.0000 - val_loss: 0.0799 - val_accuracy: 0.9750\n",
            "Epoch 59/100\n",
            "225/225 [==============================] - 1s 4ms/step - loss: 0.0028 - accuracy: 1.0000 - val_loss: 0.0793 - val_accuracy: 0.9750\n",
            "Epoch 60/100\n",
            "225/225 [==============================] - 1s 5ms/step - loss: 0.0026 - accuracy: 1.0000 - val_loss: 0.0793 - val_accuracy: 0.9750\n",
            "Epoch 61/100\n",
            "225/225 [==============================] - 1s 6ms/step - loss: 0.0024 - accuracy: 1.0000 - val_loss: 0.0785 - val_accuracy: 0.9750\n",
            "Epoch 62/100\n",
            "225/225 [==============================] - 1s 5ms/step - loss: 0.0027 - accuracy: 1.0000 - val_loss: 0.0781 - val_accuracy: 0.9750\n",
            "Epoch 63/100\n",
            "225/225 [==============================] - 1s 5ms/step - loss: 0.0021 - accuracy: 1.0000 - val_loss: 0.0778 - val_accuracy: 0.9750\n",
            "Epoch 64/100\n",
            "225/225 [==============================] - 1s 3ms/step - loss: 0.0016 - accuracy: 1.0000 - val_loss: 0.0776 - val_accuracy: 0.9750\n",
            "Epoch 65/100\n",
            "225/225 [==============================] - 1s 3ms/step - loss: 0.0014 - accuracy: 1.0000 - val_loss: 0.0775 - val_accuracy: 0.9750\n",
            "Epoch 66/100\n",
            "225/225 [==============================] - 1s 3ms/step - loss: 0.0012 - accuracy: 1.0000 - val_loss: 0.0775 - val_accuracy: 0.9750\n",
            "Epoch 67/100\n",
            "225/225 [==============================] - 1s 3ms/step - loss: 0.0011 - accuracy: 1.0000 - val_loss: 0.0776 - val_accuracy: 0.9750\n",
            "Epoch 68/100\n",
            "225/225 [==============================] - 1s 3ms/step - loss: 0.0012 - accuracy: 1.0000 - val_loss: 0.0770 - val_accuracy: 0.9750\n",
            "Epoch 69/100\n",
            "225/225 [==============================] - 1s 3ms/step - loss: 0.0013 - accuracy: 1.0000 - val_loss: 0.0766 - val_accuracy: 0.9750\n",
            "Epoch 70/100\n",
            "225/225 [==============================] - 1s 3ms/step - loss: 8.6106e-04 - accuracy: 1.0000 - val_loss: 0.0769 - val_accuracy: 0.9750\n",
            "Epoch 71/100\n",
            "225/225 [==============================] - 1s 3ms/step - loss: 7.8762e-04 - accuracy: 1.0000 - val_loss: 0.0767 - val_accuracy: 0.9750\n",
            "Epoch 72/100\n",
            "225/225 [==============================] - 1s 3ms/step - loss: 8.0070e-04 - accuracy: 1.0000 - val_loss: 0.0763 - val_accuracy: 0.9750\n",
            "Epoch 73/100\n",
            "225/225 [==============================] - 1s 3ms/step - loss: 6.0292e-04 - accuracy: 1.0000 - val_loss: 0.0762 - val_accuracy: 0.9750\n",
            "Epoch 74/100\n",
            "225/225 [==============================] - 1s 3ms/step - loss: 6.4480e-04 - accuracy: 1.0000 - val_loss: 0.0756 - val_accuracy: 0.9750\n",
            "Epoch 75/100\n",
            "225/225 [==============================] - 1s 3ms/step - loss: 4.9277e-04 - accuracy: 1.0000 - val_loss: 0.0756 - val_accuracy: 0.9750\n",
            "Epoch 76/100\n",
            "225/225 [==============================] - 1s 3ms/step - loss: 4.6243e-04 - accuracy: 1.0000 - val_loss: 0.0756 - val_accuracy: 0.9750\n",
            "Epoch 77/100\n",
            "225/225 [==============================] - 1s 3ms/step - loss: 3.8873e-04 - accuracy: 1.0000 - val_loss: 0.0753 - val_accuracy: 0.9750\n",
            "Epoch 78/100\n",
            "225/225 [==============================] - 1s 3ms/step - loss: 3.5457e-04 - accuracy: 1.0000 - val_loss: 0.0751 - val_accuracy: 0.9750\n",
            "Epoch 79/100\n",
            "225/225 [==============================] - 1s 3ms/step - loss: 3.4034e-04 - accuracy: 1.0000 - val_loss: 0.0752 - val_accuracy: 0.9750\n",
            "Epoch 80/100\n",
            "225/225 [==============================] - 1s 3ms/step - loss: 2.9860e-04 - accuracy: 1.0000 - val_loss: 0.0755 - val_accuracy: 0.9750\n",
            "Epoch 81/100\n",
            "225/225 [==============================] - 1s 3ms/step - loss: 2.6831e-04 - accuracy: 1.0000 - val_loss: 0.0753 - val_accuracy: 0.9750\n",
            "Epoch 82/100\n",
            "225/225 [==============================] - 1s 3ms/step - loss: 2.9987e-04 - accuracy: 1.0000 - val_loss: 0.0744 - val_accuracy: 0.9750\n",
            "Epoch 83/100\n",
            "225/225 [==============================] - 1s 3ms/step - loss: 2.2556e-04 - accuracy: 1.0000 - val_loss: 0.0740 - val_accuracy: 0.9750\n",
            "Epoch 84/100\n",
            "225/225 [==============================] - 1s 3ms/step - loss: 2.2217e-04 - accuracy: 1.0000 - val_loss: 0.0739 - val_accuracy: 0.9750\n",
            "Epoch 85/100\n",
            "225/225 [==============================] - 1s 3ms/step - loss: 1.4889e-04 - accuracy: 1.0000 - val_loss: 0.0741 - val_accuracy: 0.9750\n",
            "Epoch 86/100\n",
            "225/225 [==============================] - 1s 3ms/step - loss: 1.5152e-04 - accuracy: 1.0000 - val_loss: 0.0739 - val_accuracy: 0.9750\n",
            "Epoch 87/100\n",
            "225/225 [==============================] - 1s 3ms/step - loss: 1.8203e-04 - accuracy: 1.0000 - val_loss: 0.0736 - val_accuracy: 0.9750\n",
            "Epoch 88/100\n",
            "225/225 [==============================] - 1s 3ms/step - loss: 1.3846e-04 - accuracy: 1.0000 - val_loss: 0.0735 - val_accuracy: 0.9750\n",
            "Epoch 89/100\n",
            "225/225 [==============================] - 1s 3ms/step - loss: 1.1530e-04 - accuracy: 1.0000 - val_loss: 0.0735 - val_accuracy: 0.9750\n",
            "Epoch 90/100\n",
            "225/225 [==============================] - 1s 3ms/step - loss: 1.2641e-04 - accuracy: 1.0000 - val_loss: 0.0735 - val_accuracy: 0.9750\n",
            "Epoch 91/100\n",
            "225/225 [==============================] - 1s 3ms/step - loss: 1.2068e-04 - accuracy: 1.0000 - val_loss: 0.0730 - val_accuracy: 0.9750\n",
            "Epoch 92/100\n",
            "225/225 [==============================] - 1s 3ms/step - loss: 9.1741e-05 - accuracy: 1.0000 - val_loss: 0.0733 - val_accuracy: 0.9750\n",
            "Epoch 93/100\n",
            "225/225 [==============================] - 1s 3ms/step - loss: 1.1404e-04 - accuracy: 1.0000 - val_loss: 0.0740 - val_accuracy: 0.9750\n",
            "Epoch 94/100\n",
            "225/225 [==============================] - 1s 3ms/step - loss: 9.3220e-05 - accuracy: 1.0000 - val_loss: 0.0738 - val_accuracy: 0.9750\n",
            "Epoch 95/100\n",
            "225/225 [==============================] - 1s 3ms/step - loss: 6.7534e-05 - accuracy: 1.0000 - val_loss: 0.0736 - val_accuracy: 0.9750\n",
            "Epoch 96/100\n",
            "225/225 [==============================] - 1s 3ms/step - loss: 6.2651e-05 - accuracy: 1.0000 - val_loss: 0.0738 - val_accuracy: 0.9750\n",
            "Epoch 97/100\n",
            "225/225 [==============================] - 1s 3ms/step - loss: 4.7944e-05 - accuracy: 1.0000 - val_loss: 0.0738 - val_accuracy: 0.9750\n",
            "Epoch 98/100\n",
            "225/225 [==============================] - 1s 3ms/step - loss: 6.6393e-05 - accuracy: 1.0000 - val_loss: 0.0738 - val_accuracy: 0.9750\n",
            "Epoch 99/100\n",
            "225/225 [==============================] - 1s 3ms/step - loss: 4.7683e-05 - accuracy: 1.0000 - val_loss: 0.0741 - val_accuracy: 0.9750\n",
            "Epoch 100/100\n",
            "225/225 [==============================] - 1s 3ms/step - loss: 4.3100e-05 - accuracy: 1.0000 - val_loss: 0.0741 - val_accuracy: 0.9750\n"
          ]
        }
      ],
      "source": [
        "#Создаём полносвязную сеть\n",
        "model01 = Sequential()\n",
        "#Входной полносвязный слой\n",
        "model01.add(Dense(100, input_dim=160, activation=\"linear\"))\n",
        "#Слой регуляризации Dropout\n",
        "model01.add(Dropout(0.2))\n",
        "#Третий полносвязный слой\n",
        "model01.add(Dense(100, activation='linear'))\n",
        "#Слой регуляризации Dropout\n",
        "#model01.add(Dropout(0.2))\n",
        "#Выходной полносвязный слой\n",
        "model01.add(Dense(17, activation='softmax'))\n",
        "\n",
        "\n",
        "model01.compile(optimizer=Adam(learning_rate=0.0001), \n",
        "              loss='categorical_crossentropy', \n",
        "              metrics=['accuracy'])\n",
        "\n",
        "#Обучаем сеть на выборке\n",
        "history = model01.fit(xTrain, \n",
        "                    yTrain, \n",
        "                    epochs=100,\n",
        "                    batch_size=8,\n",
        "                    validation_data=(xVal, yVal))\n",
        "\n"
      ]
    },
    {
      "cell_type": "code",
      "source": [
        "from keras import backend as K\n",
        "# Change learning rate to 0.001 and train for 50 more epochs\n",
        "K.set_value(model01.optimizer.learning_rate, 0.00001)\n",
        "print(\"Learning rate before second fit:\", model01.optimizer.learning_rate.numpy())"
      ],
      "metadata": {
        "colab": {
          "base_uri": "https://localhost:8080/"
        },
        "id": "5Ti34q1APAxn",
        "outputId": "56f4e8ff-0796-4da7-a527-aa845bf9255a"
      },
      "execution_count": 174,
      "outputs": [
        {
          "output_type": "stream",
          "name": "stdout",
          "text": [
            "Learning rate before second fit: 1e-05\n"
          ]
        }
      ]
    },
    {
      "cell_type": "code",
      "source": [
        "#Обучаем сеть на выборке\n",
        "history = model01.fit(xTrain, \n",
        "                    yTrain, \n",
        "                    epochs=50,\n",
        "                    batch_size=8,\n",
        "                    validation_data=(xVal, yVal))\n"
      ],
      "metadata": {
        "id": "AUm5ckgx2H4z",
        "colab": {
          "base_uri": "https://localhost:8080/"
        },
        "outputId": "6510d2e6-d71e-4dab-9ed8-25d37788c383"
      },
      "execution_count": 175,
      "outputs": [
        {
          "output_type": "stream",
          "name": "stdout",
          "text": [
            "Epoch 1/100\n",
            "225/225 [==============================] - 1s 3ms/step - loss: 0.0021 - accuracy: 1.0000 - val_loss: 0.0923 - val_accuracy: 0.9700\n",
            "Epoch 2/100\n",
            "225/225 [==============================] - 1s 3ms/step - loss: 0.0021 - accuracy: 1.0000 - val_loss: 0.0923 - val_accuracy: 0.9700\n",
            "Epoch 3/100\n",
            "225/225 [==============================] - 1s 3ms/step - loss: 0.0021 - accuracy: 1.0000 - val_loss: 0.0923 - val_accuracy: 0.9700\n",
            "Epoch 4/100\n",
            "225/225 [==============================] - 1s 3ms/step - loss: 0.0021 - accuracy: 1.0000 - val_loss: 0.0922 - val_accuracy: 0.9700\n",
            "Epoch 5/100\n",
            "225/225 [==============================] - 1s 3ms/step - loss: 0.0021 - accuracy: 1.0000 - val_loss: 0.0922 - val_accuracy: 0.9700\n",
            "Epoch 6/100\n",
            "225/225 [==============================] - 1s 3ms/step - loss: 0.0021 - accuracy: 1.0000 - val_loss: 0.0922 - val_accuracy: 0.9700\n",
            "Epoch 7/100\n",
            "225/225 [==============================] - 1s 3ms/step - loss: 0.0021 - accuracy: 1.0000 - val_loss: 0.0921 - val_accuracy: 0.9700\n",
            "Epoch 8/100\n",
            "225/225 [==============================] - 1s 3ms/step - loss: 0.0020 - accuracy: 1.0000 - val_loss: 0.0921 - val_accuracy: 0.9700\n",
            "Epoch 9/100\n",
            "225/225 [==============================] - 1s 3ms/step - loss: 0.0020 - accuracy: 1.0000 - val_loss: 0.0921 - val_accuracy: 0.9700\n",
            "Epoch 10/100\n",
            "225/225 [==============================] - 1s 3ms/step - loss: 0.0020 - accuracy: 1.0000 - val_loss: 0.0921 - val_accuracy: 0.9700\n",
            "Epoch 11/100\n",
            "225/225 [==============================] - 1s 3ms/step - loss: 0.0020 - accuracy: 1.0000 - val_loss: 0.0920 - val_accuracy: 0.9700\n",
            "Epoch 12/100\n",
            "225/225 [==============================] - 1s 3ms/step - loss: 0.0020 - accuracy: 1.0000 - val_loss: 0.0920 - val_accuracy: 0.9700\n",
            "Epoch 13/100\n",
            "225/225 [==============================] - 1s 3ms/step - loss: 0.0020 - accuracy: 1.0000 - val_loss: 0.0920 - val_accuracy: 0.9700\n",
            "Epoch 14/100\n",
            "225/225 [==============================] - 1s 3ms/step - loss: 0.0019 - accuracy: 1.0000 - val_loss: 0.0919 - val_accuracy: 0.9700\n",
            "Epoch 15/100\n",
            "225/225 [==============================] - 1s 3ms/step - loss: 0.0019 - accuracy: 1.0000 - val_loss: 0.0919 - val_accuracy: 0.9700\n",
            "Epoch 16/100\n",
            "225/225 [==============================] - 1s 3ms/step - loss: 0.0019 - accuracy: 1.0000 - val_loss: 0.0919 - val_accuracy: 0.9700\n",
            "Epoch 17/100\n",
            "225/225 [==============================] - 1s 3ms/step - loss: 0.0019 - accuracy: 1.0000 - val_loss: 0.0919 - val_accuracy: 0.9700\n",
            "Epoch 18/100\n",
            "225/225 [==============================] - 1s 3ms/step - loss: 0.0019 - accuracy: 1.0000 - val_loss: 0.0918 - val_accuracy: 0.9700\n",
            "Epoch 19/100\n",
            "225/225 [==============================] - 1s 3ms/step - loss: 0.0019 - accuracy: 1.0000 - val_loss: 0.0918 - val_accuracy: 0.9700\n",
            "Epoch 20/100\n",
            "225/225 [==============================] - 1s 3ms/step - loss: 0.0018 - accuracy: 1.0000 - val_loss: 0.0918 - val_accuracy: 0.9700\n",
            "Epoch 21/100\n",
            "225/225 [==============================] - 1s 3ms/step - loss: 0.0018 - accuracy: 1.0000 - val_loss: 0.0917 - val_accuracy: 0.9700\n",
            "Epoch 22/100\n",
            "225/225 [==============================] - 1s 3ms/step - loss: 0.0018 - accuracy: 1.0000 - val_loss: 0.0917 - val_accuracy: 0.9700\n",
            "Epoch 23/100\n",
            "225/225 [==============================] - 1s 3ms/step - loss: 0.0018 - accuracy: 1.0000 - val_loss: 0.0917 - val_accuracy: 0.9700\n",
            "Epoch 24/100\n",
            "225/225 [==============================] - 1s 3ms/step - loss: 0.0018 - accuracy: 1.0000 - val_loss: 0.0917 - val_accuracy: 0.9700\n",
            "Epoch 25/100\n",
            "225/225 [==============================] - 1s 3ms/step - loss: 0.0018 - accuracy: 1.0000 - val_loss: 0.0916 - val_accuracy: 0.9700\n",
            "Epoch 26/100\n",
            "225/225 [==============================] - 1s 3ms/step - loss: 0.0018 - accuracy: 1.0000 - val_loss: 0.0916 - val_accuracy: 0.9700\n",
            "Epoch 27/100\n",
            "225/225 [==============================] - 1s 3ms/step - loss: 0.0017 - accuracy: 1.0000 - val_loss: 0.0916 - val_accuracy: 0.9700\n",
            "Epoch 28/100\n",
            "225/225 [==============================] - 1s 3ms/step - loss: 0.0017 - accuracy: 1.0000 - val_loss: 0.0915 - val_accuracy: 0.9700\n",
            "Epoch 29/100\n",
            "225/225 [==============================] - 1s 3ms/step - loss: 0.0017 - accuracy: 1.0000 - val_loss: 0.0915 - val_accuracy: 0.9700\n",
            "Epoch 30/100\n",
            "225/225 [==============================] - 1s 3ms/step - loss: 0.0017 - accuracy: 1.0000 - val_loss: 0.0915 - val_accuracy: 0.9700\n",
            "Epoch 31/100\n",
            "225/225 [==============================] - 1s 3ms/step - loss: 0.0017 - accuracy: 1.0000 - val_loss: 0.0915 - val_accuracy: 0.9700\n",
            "Epoch 32/100\n",
            "225/225 [==============================] - 1s 3ms/step - loss: 0.0017 - accuracy: 1.0000 - val_loss: 0.0914 - val_accuracy: 0.9700\n",
            "Epoch 33/100\n",
            "225/225 [==============================] - 1s 3ms/step - loss: 0.0017 - accuracy: 1.0000 - val_loss: 0.0914 - val_accuracy: 0.9700\n",
            "Epoch 34/100\n",
            "225/225 [==============================] - 1s 3ms/step - loss: 0.0016 - accuracy: 1.0000 - val_loss: 0.0914 - val_accuracy: 0.9700\n",
            "Epoch 35/100\n",
            "225/225 [==============================] - 1s 3ms/step - loss: 0.0016 - accuracy: 1.0000 - val_loss: 0.0914 - val_accuracy: 0.9700\n",
            "Epoch 36/100\n",
            "225/225 [==============================] - 1s 3ms/step - loss: 0.0016 - accuracy: 1.0000 - val_loss: 0.0913 - val_accuracy: 0.9700\n",
            "Epoch 37/100\n",
            "225/225 [==============================] - 1s 3ms/step - loss: 0.0016 - accuracy: 1.0000 - val_loss: 0.0913 - val_accuracy: 0.9700\n",
            "Epoch 38/100\n",
            "225/225 [==============================] - 1s 3ms/step - loss: 0.0016 - accuracy: 1.0000 - val_loss: 0.0913 - val_accuracy: 0.9700\n",
            "Epoch 39/100\n",
            "225/225 [==============================] - 1s 3ms/step - loss: 0.0016 - accuracy: 1.0000 - val_loss: 0.0913 - val_accuracy: 0.9700\n",
            "Epoch 40/100\n",
            "225/225 [==============================] - 1s 3ms/step - loss: 0.0016 - accuracy: 1.0000 - val_loss: 0.0912 - val_accuracy: 0.9700\n",
            "Epoch 41/100\n",
            "225/225 [==============================] - 1s 3ms/step - loss: 0.0015 - accuracy: 1.0000 - val_loss: 0.0912 - val_accuracy: 0.9700\n",
            "Epoch 42/100\n",
            "225/225 [==============================] - 1s 3ms/step - loss: 0.0015 - accuracy: 1.0000 - val_loss: 0.0912 - val_accuracy: 0.9700\n",
            "Epoch 43/100\n",
            "225/225 [==============================] - 1s 3ms/step - loss: 0.0015 - accuracy: 1.0000 - val_loss: 0.0912 - val_accuracy: 0.9700\n",
            "Epoch 44/100\n",
            "225/225 [==============================] - 1s 3ms/step - loss: 0.0015 - accuracy: 1.0000 - val_loss: 0.0911 - val_accuracy: 0.9700\n",
            "Epoch 45/100\n",
            "225/225 [==============================] - 1s 3ms/step - loss: 0.0015 - accuracy: 1.0000 - val_loss: 0.0911 - val_accuracy: 0.9700\n",
            "Epoch 46/100\n",
            "225/225 [==============================] - 1s 3ms/step - loss: 0.0015 - accuracy: 1.0000 - val_loss: 0.0911 - val_accuracy: 0.9700\n",
            "Epoch 47/100\n",
            "225/225 [==============================] - 1s 3ms/step - loss: 0.0015 - accuracy: 1.0000 - val_loss: 0.0911 - val_accuracy: 0.9700\n",
            "Epoch 48/100\n",
            "225/225 [==============================] - 1s 3ms/step - loss: 0.0015 - accuracy: 1.0000 - val_loss: 0.0910 - val_accuracy: 0.9700\n",
            "Epoch 49/100\n",
            "225/225 [==============================] - 1s 3ms/step - loss: 0.0014 - accuracy: 1.0000 - val_loss: 0.0910 - val_accuracy: 0.9700\n",
            "Epoch 50/100\n",
            "225/225 [==============================] - 1s 3ms/step - loss: 0.0014 - accuracy: 1.0000 - val_loss: 0.0910 - val_accuracy: 0.9700\n",
            "Epoch 51/100\n",
            "225/225 [==============================] - 1s 3ms/step - loss: 0.0014 - accuracy: 1.0000 - val_loss: 0.0910 - val_accuracy: 0.9700\n",
            "Epoch 52/100\n",
            "225/225 [==============================] - 1s 3ms/step - loss: 0.0014 - accuracy: 1.0000 - val_loss: 0.0910 - val_accuracy: 0.9700\n",
            "Epoch 53/100\n",
            "225/225 [==============================] - 1s 3ms/step - loss: 0.0014 - accuracy: 1.0000 - val_loss: 0.0909 - val_accuracy: 0.9700\n",
            "Epoch 54/100\n",
            "225/225 [==============================] - 1s 3ms/step - loss: 0.0014 - accuracy: 1.0000 - val_loss: 0.0909 - val_accuracy: 0.9700\n",
            "Epoch 55/100\n",
            "225/225 [==============================] - 1s 3ms/step - loss: 0.0014 - accuracy: 1.0000 - val_loss: 0.0909 - val_accuracy: 0.9700\n",
            "Epoch 56/100\n",
            "225/225 [==============================] - 1s 3ms/step - loss: 0.0014 - accuracy: 1.0000 - val_loss: 0.0909 - val_accuracy: 0.9700\n",
            "Epoch 57/100\n",
            "225/225 [==============================] - 1s 3ms/step - loss: 0.0014 - accuracy: 1.0000 - val_loss: 0.0908 - val_accuracy: 0.9700\n",
            "Epoch 58/100\n",
            "225/225 [==============================] - 1s 3ms/step - loss: 0.0013 - accuracy: 1.0000 - val_loss: 0.0908 - val_accuracy: 0.9700\n",
            "Epoch 59/100\n",
            "225/225 [==============================] - 1s 3ms/step - loss: 0.0013 - accuracy: 1.0000 - val_loss: 0.0908 - val_accuracy: 0.9700\n",
            "Epoch 60/100\n",
            "225/225 [==============================] - 1s 3ms/step - loss: 0.0013 - accuracy: 1.0000 - val_loss: 0.0908 - val_accuracy: 0.9700\n",
            "Epoch 61/100\n",
            "225/225 [==============================] - 1s 3ms/step - loss: 0.0013 - accuracy: 1.0000 - val_loss: 0.0908 - val_accuracy: 0.9700\n",
            "Epoch 62/100\n",
            "225/225 [==============================] - 1s 3ms/step - loss: 0.0013 - accuracy: 1.0000 - val_loss: 0.0907 - val_accuracy: 0.9700\n",
            "Epoch 63/100\n",
            "225/225 [==============================] - 1s 3ms/step - loss: 0.0013 - accuracy: 1.0000 - val_loss: 0.0907 - val_accuracy: 0.9700\n",
            "Epoch 64/100\n",
            "225/225 [==============================] - 1s 3ms/step - loss: 0.0013 - accuracy: 1.0000 - val_loss: 0.0907 - val_accuracy: 0.9700\n",
            "Epoch 65/100\n",
            "225/225 [==============================] - 1s 3ms/step - loss: 0.0013 - accuracy: 1.0000 - val_loss: 0.0907 - val_accuracy: 0.9700\n",
            "Epoch 66/100\n",
            "225/225 [==============================] - 1s 3ms/step - loss: 0.0013 - accuracy: 1.0000 - val_loss: 0.0907 - val_accuracy: 0.9700\n",
            "Epoch 67/100\n",
            "225/225 [==============================] - 1s 3ms/step - loss: 0.0012 - accuracy: 1.0000 - val_loss: 0.0907 - val_accuracy: 0.9700\n",
            "Epoch 68/100\n",
            "225/225 [==============================] - 1s 3ms/step - loss: 0.0012 - accuracy: 1.0000 - val_loss: 0.0906 - val_accuracy: 0.9700\n",
            "Epoch 69/100\n",
            "225/225 [==============================] - 1s 3ms/step - loss: 0.0012 - accuracy: 1.0000 - val_loss: 0.0906 - val_accuracy: 0.9700\n",
            "Epoch 70/100\n",
            "225/225 [==============================] - 1s 3ms/step - loss: 0.0012 - accuracy: 1.0000 - val_loss: 0.0906 - val_accuracy: 0.9700\n",
            "Epoch 71/100\n",
            "225/225 [==============================] - 1s 3ms/step - loss: 0.0012 - accuracy: 1.0000 - val_loss: 0.0906 - val_accuracy: 0.9700\n",
            "Epoch 72/100\n",
            "225/225 [==============================] - 1s 3ms/step - loss: 0.0012 - accuracy: 1.0000 - val_loss: 0.0906 - val_accuracy: 0.9700\n",
            "Epoch 73/100\n",
            "225/225 [==============================] - 1s 3ms/step - loss: 0.0012 - accuracy: 1.0000 - val_loss: 0.0905 - val_accuracy: 0.9700\n",
            "Epoch 74/100\n",
            "225/225 [==============================] - 1s 3ms/step - loss: 0.0012 - accuracy: 1.0000 - val_loss: 0.0905 - val_accuracy: 0.9700\n",
            "Epoch 75/100\n",
            "225/225 [==============================] - 1s 3ms/step - loss: 0.0012 - accuracy: 1.0000 - val_loss: 0.0905 - val_accuracy: 0.9700\n",
            "Epoch 76/100\n",
            "225/225 [==============================] - 1s 3ms/step - loss: 0.0011 - accuracy: 1.0000 - val_loss: 0.0905 - val_accuracy: 0.9700\n",
            "Epoch 77/100\n",
            "225/225 [==============================] - 1s 3ms/step - loss: 0.0011 - accuracy: 1.0000 - val_loss: 0.0905 - val_accuracy: 0.9700\n",
            "Epoch 78/100\n",
            "225/225 [==============================] - 1s 3ms/step - loss: 0.0011 - accuracy: 1.0000 - val_loss: 0.0904 - val_accuracy: 0.9700\n",
            "Epoch 79/100\n",
            "225/225 [==============================] - 1s 3ms/step - loss: 0.0011 - accuracy: 1.0000 - val_loss: 0.0904 - val_accuracy: 0.9700\n",
            "Epoch 80/100\n",
            "225/225 [==============================] - 1s 3ms/step - loss: 0.0011 - accuracy: 1.0000 - val_loss: 0.0904 - val_accuracy: 0.9700\n",
            "Epoch 81/100\n",
            "225/225 [==============================] - 1s 3ms/step - loss: 0.0011 - accuracy: 1.0000 - val_loss: 0.0904 - val_accuracy: 0.9700\n",
            "Epoch 82/100\n",
            "225/225 [==============================] - 1s 3ms/step - loss: 0.0011 - accuracy: 1.0000 - val_loss: 0.0904 - val_accuracy: 0.9700\n",
            "Epoch 83/100\n",
            "225/225 [==============================] - 1s 3ms/step - loss: 0.0011 - accuracy: 1.0000 - val_loss: 0.0904 - val_accuracy: 0.9700\n",
            "Epoch 84/100\n",
            "225/225 [==============================] - 1s 3ms/step - loss: 0.0011 - accuracy: 1.0000 - val_loss: 0.0903 - val_accuracy: 0.9700\n",
            "Epoch 85/100\n",
            "225/225 [==============================] - 1s 3ms/step - loss: 0.0011 - accuracy: 1.0000 - val_loss: 0.0903 - val_accuracy: 0.9700\n",
            "Epoch 86/100\n",
            "225/225 [==============================] - 1s 3ms/step - loss: 0.0011 - accuracy: 1.0000 - val_loss: 0.0903 - val_accuracy: 0.9700\n",
            "Epoch 87/100\n",
            "225/225 [==============================] - 1s 3ms/step - loss: 0.0010 - accuracy: 1.0000 - val_loss: 0.0903 - val_accuracy: 0.9700\n",
            "Epoch 88/100\n",
            "225/225 [==============================] - 1s 3ms/step - loss: 0.0010 - accuracy: 1.0000 - val_loss: 0.0903 - val_accuracy: 0.9700\n",
            "Epoch 89/100\n",
            "225/225 [==============================] - 1s 3ms/step - loss: 0.0010 - accuracy: 1.0000 - val_loss: 0.0903 - val_accuracy: 0.9700\n",
            "Epoch 90/100\n",
            "225/225 [==============================] - 1s 3ms/step - loss: 0.0010 - accuracy: 1.0000 - val_loss: 0.0902 - val_accuracy: 0.9700\n",
            "Epoch 91/100\n",
            "225/225 [==============================] - 1s 3ms/step - loss: 0.0010 - accuracy: 1.0000 - val_loss: 0.0902 - val_accuracy: 0.9700\n",
            "Epoch 92/100\n",
            "225/225 [==============================] - 1s 3ms/step - loss: 0.0010 - accuracy: 1.0000 - val_loss: 0.0902 - val_accuracy: 0.9700\n",
            "Epoch 93/100\n",
            "225/225 [==============================] - 1s 3ms/step - loss: 9.9221e-04 - accuracy: 1.0000 - val_loss: 0.0902 - val_accuracy: 0.9700\n",
            "Epoch 94/100\n",
            "225/225 [==============================] - 1s 3ms/step - loss: 9.8381e-04 - accuracy: 1.0000 - val_loss: 0.0902 - val_accuracy: 0.9700\n",
            "Epoch 95/100\n",
            "225/225 [==============================] - 1s 3ms/step - loss: 9.7554e-04 - accuracy: 1.0000 - val_loss: 0.0902 - val_accuracy: 0.9700\n",
            "Epoch 96/100\n",
            "225/225 [==============================] - 1s 3ms/step - loss: 9.6710e-04 - accuracy: 1.0000 - val_loss: 0.0902 - val_accuracy: 0.9700\n",
            "Epoch 97/100\n",
            "225/225 [==============================] - 1s 3ms/step - loss: 9.5883e-04 - accuracy: 1.0000 - val_loss: 0.0902 - val_accuracy: 0.9700\n",
            "Epoch 98/100\n",
            "225/225 [==============================] - 1s 3ms/step - loss: 9.5053e-04 - accuracy: 1.0000 - val_loss: 0.0901 - val_accuracy: 0.9700\n",
            "Epoch 99/100\n",
            "225/225 [==============================] - 1s 3ms/step - loss: 9.4245e-04 - accuracy: 1.0000 - val_loss: 0.0901 - val_accuracy: 0.9700\n",
            "Epoch 100/100\n",
            "225/225 [==============================] - 1s 3ms/step - loss: 9.3428e-04 - accuracy: 1.0000 - val_loss: 0.0901 - val_accuracy: 0.9700\n"
          ]
        }
      ]
    },
    {
      "cell_type": "code",
      "execution_count": 82,
      "metadata": {
        "colab": {
          "base_uri": "https://localhost:8080/",
          "height": 279
        },
        "id": "Z94XMWpp9WW_",
        "outputId": "525102cf-5ada-47dc-8999-b452bf82d463"
      },
      "outputs": [
        {
          "output_type": "display_data",
          "data": {
            "text/plain": [
              "<Figure size 432x288 with 1 Axes>"
            ],
            "image/png": "[encoded data removed]"
          },
          "metadata": {
            "needs_background": "light"
          }
        }
      ],
      "source": [
        "plt.plot(history.history['accuracy'], \n",
        "         label='Доля верных ответов на обучающем наборе')\n",
        "plt.plot(history.history['val_accuracy'], \n",
        "         label='Доля верных ответов на проверочном наборе')\n",
        "plt.xlabel('Эпоха обучения')\n",
        "plt.ylabel('Доля верных ответов')\n",
        "plt.legend()\n",
        "plt.show()"
      ]
    },
    {
      "cell_type": "code",
      "execution_count": 79,
      "metadata": {
        "id": "a3PDSHWB2Ngx"
      },
      "outputs": [],
      "source": [
        "pred = model01.predict(themes_testOHE)"
      ]
    },
    {
      "cell_type": "code",
      "source": [
        "pred"
      ],
      "metadata": {
        "colab": {
          "base_uri": "https://localhost:8080/"
        },
        "id": "PSrPsvvzr0Sj",
        "outputId": "a1f13db8-1339-4b9a-dd20-ca86d2bdc45e"
      },
      "execution_count": 80,
      "outputs": [
        {
          "output_type": "execute_result",
          "data": {
            "text/plain": [
              "array([[1.1531207e-10, 1.0394793e-10, 6.4041675e-11, ..., 2.2854196e-11,\n",
              "        6.1296178e-13, 5.3560771e-12],\n",
              "       [1.1531207e-10, 1.0394793e-10, 6.4041675e-11, ..., 2.2854196e-11,\n",
              "        6.1296178e-13, 5.3560771e-12],\n",
              "       [1.1531207e-10, 1.0394793e-10, 6.4041675e-11, ..., 2.2854196e-11,\n",
              "        6.1296178e-13, 5.3560771e-12],\n",
              "       ...,\n",
              "       [1.0000000e+00, 2.1463411e-09, 7.5488001e-12, ..., 3.0272776e-12,\n",
              "        1.3590724e-12, 2.8837481e-09],\n",
              "       [4.8394938e-10, 1.0437612e-06, 4.0690898e-05, ..., 4.4424331e-05,\n",
              "        4.6158527e-04, 9.4881003e-08],\n",
              "       [1.1424048e-14, 3.8226347e-09, 5.9702649e-07, ..., 1.7295652e-07,\n",
              "        2.5411580e-06, 1.8747646e-11]], dtype=float32)"
            ]
          },
          "metadata": {},
          "execution_count": 80
        }
      ]
    },
    {
      "cell_type": "code",
      "execution_count": 81,
      "metadata": {
        "id": "m4sN-4D82Ngy"
      },
      "outputs": [],
      "source": [
        "pred_final = np.argmax(pred, axis=1)"
      ]
    },
    {
      "cell_type": "code",
      "source": [
        ""
      ],
      "metadata": {
        "id": "qn07rM6o2axX"
      },
      "execution_count": null,
      "outputs": []
    },
    {
      "cell_type": "code",
      "execution_count": 83,
      "metadata": {
        "colab": {
          "base_uri": "https://localhost:8080/"
        },
        "id": "9p1iR0MaZrQs",
        "outputId": "fd58814e-7203-4209-aa69-b76427b88a6a"
      },
      "outputs": [
        {
          "output_type": "execute_result",
          "data": {
            "text/plain": [
              "array([ 3,  3,  3,  3,  8,  3,  3,  3,  0,  4,  2,  3,  3,  3, 16,  0,  8,\n",
              "        3,  3,  0,  3,  0, 16,  0,  3,  3,  3, 10,  3, 16,  4,  0,  0,  8,\n",
              "        3,  3,  4,  3,  3,  3,  0,  3,  1,  3,  3,  4, 11,  0,  8,  3,  0,\n",
              "        8,  3,  3,  0, 16,  0,  1, 16,  0,  3,  0,  3, 16,  3,  3,  3,  3,\n",
              "        8,  3,  0,  3,  3, 11,  0,  0,  3,  0, 16,  3,  3,  3,  3,  4,  3,\n",
              "        0,  0,  3,  3, 16,  3,  4,  0,  8,  3,  3,  3,  3,  0,  0,  3,  0,\n",
              "        3, 16,  3,  3,  3, 16,  3,  3,  0,  0,  0, 16,  0,  8,  3,  3,  3,\n",
              "        3,  7,  0,  8,  3,  3,  0,  3,  3,  3,  8, 10,  3,  4,  3,  0,  3,\n",
              "        3,  0,  4,  7,  8,  4,  0,  0,  0,  8,  0,  0,  7,  3,  8,  0,  0,\n",
              "        0,  0,  3,  0, 11,  3, 15,  3,  3,  3, 10,  3,  8,  3,  0, 11,  3,\n",
              "        3,  0,  7,  0,  3,  3,  8,  8,  3, 16,  3,  3,  0,  3,  8,  0,  3,\n",
              "        3, 16,  3,  3,  8,  3,  3, 16,  3,  0,  3, 16,  3,  3,  3,  3,  6,\n",
              "        8,  1,  8,  0, 16,  0,  8,  8,  7,  4,  4, 16,  3,  3,  0,  8, 16,\n",
              "        0,  3,  3,  3,  0, 16, 16,  3,  3,  3,  0,  3,  0,  3,  3, 16,  3,\n",
              "       13,  0, 10,  0,  0,  0,  3, 16,  3,  3,  0,  3,  3, 10,  8, 11,  0,\n",
              "        3,  0,  3,  3,  0,  3,  4,  0, 10,  3,  0,  3,  3,  3,  0, 16,  3,\n",
              "        3,  0,  0,  3,  4,  3,  3, 16,  3,  0,  8,  3,  3,  3,  0,  8,  3,\n",
              "        3,  8,  3,  0,  3,  3,  3,  3,  3,  0,  3, 16,  0,  3,  0,  8,  3,\n",
              "        3,  3,  0,  4,  7,  0,  3,  0,  3,  0,  3,  3,  0,  0,  3,  0,  3,\n",
              "        3,  3,  0,  0,  4,  3, 10,  3,  3,  8, 11,  3,  1,  0,  3,  3, 16,\n",
              "        3,  3, 16,  0,  3,  3,  3,  0,  8,  8,  4,  3,  3,  8,  3,  3,  0,\n",
              "        8,  4, 15,  3,  3,  3,  3,  3, 16,  3,  3,  3, 15,  8, 16,  3,  7,\n",
              "       16,  3,  8,  1,  4,  0,  0,  3,  3,  0,  8,  0, 16,  0,  3, 11,  0,\n",
              "        8,  3,  8,  0,  3, 11,  4, 11,  3,  7,  0, 16,  3, 10,  3,  3, 16,\n",
              "        4,  1,  0,  0,  3,  3,  3,  0,  8,  4,  8,  3,  4,  3,  0,  3,  0,\n",
              "        3,  3,  3, 13,  0,  0,  8,  3,  0,  3,  3, 16,  3, 10,  0, 16,  0,\n",
              "        3,  4,  0,  0,  3,  0,  3,  3,  3,  3,  3,  3,  8,  3,  0,  8,  0,\n",
              "        7,  8, 16,  0, 16,  0,  7, 16,  0,  8,  3,  4,  3,  3,  8,  7, 10,\n",
              "        3,  5,  0,  4,  0,  3,  8,  3,  3,  3,  3,  0,  3,  3,  3,  0,  3,\n",
              "       10,  0,  3,  8, 13,  3,  3,  3,  7,  3, 10,  0,  3,  0, 13,  3,  1,\n",
              "        8,  0,  3,  8,  3,  8,  3,  4,  3,  3, 15,  3,  4,  3,  3, 10, 16,\n",
              "        3,  3,  9,  3,  3,  3,  0, 16, 11,  3,  3,  3,  3,  3,  8,  8,  3,\n",
              "        3,  8,  8,  8,  0,  3, 16,  0,  0,  0, 16,  3,  3,  0,  3,  3,  8,\n",
              "       10,  3,  0,  3,  3,  3,  4, 10,  7,  3,  3,  0,  3,  3,  3,  3, 16,\n",
              "        0,  3,  3,  0,  8,  3,  0, 16,  3,  4,  3,  8,  1,  3,  3,  3, 16,\n",
              "        3,  4,  1,  3,  3,  8,  0,  0,  6,  3,  0,  3,  3,  3,  8,  0,  3,\n",
              "        3,  3,  3,  3,  8,  4,  8,  1, 16,  0,  3,  3,  3,  0,  3,  3,  0,\n",
              "        3,  0,  3,  3,  0,  3,  3,  0,  3,  4,  0,  0,  3,  4,  0,  3,  3,\n",
              "        3,  0,  4,  0,  3,  0,  4, 10,  3, 16,  3,  0,  0,  3,  3,  1,  0,\n",
              "        1,  3,  3,  0,  3,  0,  3,  8,  3,  8,  0,  3,  3,  3,  3,  0,  3,\n",
              "        8,  3,  0,  0,  3,  3,  1,  3,  0,  8,  4,  8,  6, 16,  3,  0,  0,\n",
              "        3,  3,  7, 16,  3,  3, 16,  3,  3, 13,  9,  3,  0,  3,  7,  0,  3,\n",
              "        0,  0,  0,  3,  4,  4,  3,  3,  0,  4,  0, 11, 10,  3,  3,  3,  0,\n",
              "        0,  8,  3,  0, 16,  3,  0,  3,  8,  0,  3,  3, 10,  8,  0,  3,  3,\n",
              "        3,  3,  3,  3,  0,  7,  3, 11,  3,  0,  3,  3,  0, 11,  0,  3,  0,\n",
              "        3,  3,  3,  3,  7,  3,  3,  3, 10,  4,  3,  3,  8, 14, 15,  3, 10,\n",
              "        3,  3,  3,  3,  3,  3,  3,  8, 10,  3,  3,  3,  0,  3,  3, 16,  0,\n",
              "        3,  3,  4,  4,  0,  0,  3,  0,  0,  0,  3,  3,  0,  0,  8, 10,  3,\n",
              "       16,  4,  3,  0,  0,  0,  3,  3,  3,  3,  4,  3,  3,  0,  0,  3,  3,\n",
              "        0,  4,  0,  3,  3,  0,  0, 16,  3,  3,  3,  3,  0,  3,  3,  3,  0,\n",
              "        3,  3,  3,  3,  0,  3,  0,  3,  3,  4,  3,  3,  3,  3,  0,  3,  4,\n",
              "        3,  3,  0,  0,  3,  4,  3,  0,  7,  3,  8,  3,  3,  0,  0,  3,  0,\n",
              "        4,  3,  3,  0,  0,  5,  3,  0,  3,  8, 16,  0,  3,  7,  0,  3,  3,\n",
              "        0,  3,  8,  0,  4,  0,  0,  3, 16,  3,  0,  3,  3,  3,  0,  0,  3,\n",
              "        3,  3,  3,  3,  4, 16,  0,  0,  4,  8,  8,  0,  3,  0,  0,  0,  0,\n",
              "        0,  3,  3,  3,  0,  3,  3,  3,  3, 16,  3,  3,  3,  3,  7,  3,  3,\n",
              "        3,  8,  8,  0,  3,  3,  0,  0,  3,  3,  0, 10,  3,  0,  3,  0,  8,\n",
              "        0,  3,  3,  3,  8,  6,  0,  0,  3,  3,  3,  3,  3,  0,  8,  4,  3,\n",
              "        5,  4,  0,  0,  0, 10,  3,  8,  8,  3,  3,  0, 10, 10])"
            ]
          },
          "metadata": {},
          "execution_count": 83
        }
      ],
      "source": [
        "pred_final"
      ]
    },
    {
      "cell_type": "code",
      "execution_count": 84,
      "metadata": {
        "id": "VGJiw_FHPhAd"
      },
      "outputs": [],
      "source": [
        "df_test['pred'] = pred_final"
      ]
    },
    {
      "cell_type": "code",
      "execution_count": 85,
      "metadata": {
        "colab": {
          "base_uri": "https://localhost:8080/",
          "height": 693
        },
        "id": "mP0LmaUAPpfa",
        "outputId": "c309fa36-237b-41e7-8227-0b5ee12a0f69"
      },
      "outputs": [
        {
          "output_type": "execute_result",
          "data": {
            "text/plain": [
              "       id                                    Текст Сообщения  \\\n",
              "0     843  <p>Здравствуйте. На улице Мира &nbsp;было заме...   \n",
              "1    1422  <p>Уже вторую неделю не горит уличное освещени...   \n",
              "2    2782  Не работает освещение во дворе дома 11а по Эне...   \n",
              "3    2704  После покоса сорной растительности на газоне м...   \n",
              "4       1  <p>Прошу принять меры к водителю маршрута 263:...   \n",
              "..    ...                                                ...   \n",
              "995  2619  Добрый день! Я и моя семья жители пос Волокно,...   \n",
              "996  2518  На Лазарева 5 г.Щигры ветка тополя скоро выбье...   \n",
              "997  2524  Перед входом  Комитет образования  Курска  ямы...   \n",
              "998  1577  <p>Доброго времени суток</p><p>У меня на пол г...   \n",
              "999  2567  Добрый день, я многодетная мама. Младшему ребё...   \n",
              "\n",
              "                                      clean_text_basic  \\\n",
              "0    Здравствуйте На улице Мира было заменено наруж...   \n",
              "1         Уже вторую неделю не горит уличное освещение   \n",
              "2    Не работает освещение во дворе дома 11а по Эне...   \n",
              "3    После покоса сорной растительности на газоне м...   \n",
              "4    Прошу принять меры к водителю маршрута 263 пос...   \n",
              "..                                                 ...   \n",
              "995  Добрый день Я и моя семья жители пос Волокно м...   \n",
              "996  На Лазарева 5 г Щигры ветка тополя скоро выбье...   \n",
              "997  Перед входом Комитет образования Курска ямы на...   \n",
              "998  Доброго времени сутокУ меня на пол года был ме...   \n",
              "999  Добрый день я многодетная мама Младшему ребёнк...   \n",
              "\n",
              "                                            clean_text  \\\n",
              "0    здравствуйте на улица мир быть заменить наружн...   \n",
              "1        уже второй неделя не гореть уличный освещение   \n",
              "2    не работать освещение в двор дом 11а по энерге...   \n",
              "3    после покос сорный растительность на газон меж...   \n",
              "4    просить принять мера к водитель маршрут 263 по...   \n",
              "..                                                 ...   \n",
              "995  добрый день я и мой семья житель пос волокно м...   \n",
              "996  на лазарев 5 г щигры ветка тополь скоро выбить...   \n",
              "997  перед вход комитет образование курск ям на дорога   \n",
              "998  добрый время суток я на пол год быть медотвод ...   \n",
              "999  добрый день я многодетный мама младший ребёнок...   \n",
              "\n",
              "                                         ru_clean_text  \\\n",
              "0    мир заменить наружное освещение именно заменит...   \n",
              "1               второй неделя гореть уличный освещение   \n",
              "2    работать освещение двор 11а энергетик световой...   \n",
              "3    покос сорный растительность газон тротуар прое...   \n",
              "4    водитель маршрут 263 пос северный союзный авто...   \n",
              "..                                                 ...   \n",
              "995  семья житель пос волокно просыпаться засыпать ...   \n",
              "996  лазарев щигры ветка тополь скоро выбить стекло...   \n",
              "997                 вход комитет образование ям дорога   \n",
              "998  суток пол медотвод вакцинация перенести заболе...   \n",
              "999  многодетный мама младший ребёнок жить прописат...   \n",
              "\n",
              "                                           find_theme1  \\\n",
              "0                      неработающий наружное освещение   \n",
              "1                      неработающий наружное освещение   \n",
              "2                      неработающий наружное освещение   \n",
              "3       неудовлетворительный содержание клумба и газон   \n",
              "4    недостаточный количество транспорт на маршрут ...   \n",
              "..                                                 ...   \n",
              "995  некачественный водоснабжение в район частное с...   \n",
              "996                                   аварийный дерево   \n",
              "997  нарушение дорожный покрытие ям на дорога в гра...   \n",
              "998                     вопрос оказание помощь беженец   \n",
              "999  нарушение порядок предоставление мера социальн...   \n",
              "\n",
              "                                           find_theme2  \\\n",
              "0                      неработающий наружное освещение   \n",
              "1                      неработающий наружное освещение   \n",
              "2                      неработающий наружное освещение   \n",
              "3       неудовлетворительный содержание клумба и газон   \n",
              "4    нарушение правило посадка и высадка пассажир п...   \n",
              "..                                                 ...   \n",
              "995  некачественный водоснабжение в район частное с...   \n",
              "996                                   аварийный дерево   \n",
              "997  нарушение дорожный покрытие ям на дорога в гра...   \n",
              "998                                   неприятный запах   \n",
              "999  нарушение порядок предоставление мера социальн...   \n",
              "\n",
              "                                           find_theme3  pred  \n",
              "0                      неработающий наружное освещение     3  \n",
              "1                      неработающий наружное освещение     3  \n",
              "2                      неработающий наружное освещение     3  \n",
              "3       неудовлетворительный содержание клумба и газон     3  \n",
              "4    недостаточный количество транспорт на маршрут ...     8  \n",
              "..                                                 ...   ...  \n",
              "995  некачественный водоснабжение в район частное с...     3  \n",
              "996                                   аварийный дерево     3  \n",
              "997  нарушение дорожный покрытие ям на дорога в гра...     0  \n",
              "998                     вопрос оказание помощь беженец    10  \n",
              "999  нарушение порядок предоставление мера социальн...    10  \n",
              "\n",
              "[1000 rows x 9 columns]"
            ],
            "text/html": [
              "\n",
              "  <div id=\"df-cad6aa0d-46f6-47ba-aad8-394c43b8b790\">\n",
              "    <div class=\"colab-df-container\">\n",
              "      <div>\n",
              "<style scoped>\n",
              "    .dataframe tbody tr th:only-of-type {\n",
              "        vertical-align: middle;\n",
              "    }\n",
              "\n",
              "    .dataframe tbody tr th {\n",
              "        vertical-align: top;\n",
              "    }\n",
              "\n",
              "    .dataframe thead th {\n",
              "        text-align: right;\n",
              "    }\n",
              "</style>\n",
              "<table border=\"1\" class=\"dataframe\">\n",
              "  <thead>\n",
              "    <tr style=\"text-align: right;\">\n",
              "      <th></th>\n",
              "      <th>id</th>\n",
              "      <th>Текст Сообщения</th>\n",
              "      <th>clean_text_basic</th>\n",
              "      <th>clean_text</th>\n",
              "      <th>ru_clean_text</th>\n",
              "      <th>find_theme1</th>\n",
              "      <th>find_theme2</th>\n",
              "      <th>find_theme3</th>\n",
              "      <th>pred</th>\n",
              "    </tr>\n",
              "  </thead>\n",
              "  <tbody>\n",
              "    <tr>\n",
              "      <th>0</th>\n",
              "      <td>843</td>\n",
              "      <td>&lt;p&gt;Здравствуйте. На улице Мира &amp;nbsp;было заме...</td>\n",
              "      <td>Здравствуйте На улице Мира было заменено наруж...</td>\n",
              "      <td>здравствуйте на улица мир быть заменить наружн...</td>\n",
              "      <td>мир заменить наружное освещение именно заменит...</td>\n",
              "      <td>неработающий наружное освещение</td>\n",
              "      <td>неработающий наружное освещение</td>\n",
              "      <td>неработающий наружное освещение</td>\n",
              "      <td>3</td>\n",
              "    </tr>\n",
              "    <tr>\n",
              "      <th>1</th>\n",
              "      <td>1422</td>\n",
              "      <td>&lt;p&gt;Уже вторую неделю не горит уличное освещени...</td>\n",
              "      <td>Уже вторую неделю не горит уличное освещение</td>\n",
              "      <td>уже второй неделя не гореть уличный освещение</td>\n",
              "      <td>второй неделя гореть уличный освещение</td>\n",
              "      <td>неработающий наружное освещение</td>\n",
              "      <td>неработающий наружное освещение</td>\n",
              "      <td>неработающий наружное освещение</td>\n",
              "      <td>3</td>\n",
              "    </tr>\n",
              "    <tr>\n",
              "      <th>2</th>\n",
              "      <td>2782</td>\n",
              "      <td>Не работает освещение во дворе дома 11а по Эне...</td>\n",
              "      <td>Не работает освещение во дворе дома 11а по Эне...</td>\n",
              "      <td>не работать освещение в двор дом 11а по энерге...</td>\n",
              "      <td>работать освещение двор 11а энергетик световой...</td>\n",
              "      <td>неработающий наружное освещение</td>\n",
              "      <td>неработающий наружное освещение</td>\n",
              "      <td>неработающий наружное освещение</td>\n",
              "      <td>3</td>\n",
              "    </tr>\n",
              "    <tr>\n",
              "      <th>3</th>\n",
              "      <td>2704</td>\n",
              "      <td>После покоса сорной растительности на газоне м...</td>\n",
              "      <td>После покоса сорной растительности на газоне м...</td>\n",
              "      <td>после покос сорный растительность на газон меж...</td>\n",
              "      <td>покос сорный растительность газон тротуар прое...</td>\n",
              "      <td>неудовлетворительный содержание клумба и газон</td>\n",
              "      <td>неудовлетворительный содержание клумба и газон</td>\n",
              "      <td>неудовлетворительный содержание клумба и газон</td>\n",
              "      <td>3</td>\n",
              "    </tr>\n",
              "    <tr>\n",
              "      <th>4</th>\n",
              "      <td>1</td>\n",
              "      <td>&lt;p&gt;Прошу принять меры к водителю маршрута 263:...</td>\n",
              "      <td>Прошу принять меры к водителю маршрута 263 пос...</td>\n",
              "      <td>просить принять мера к водитель маршрут 263 по...</td>\n",
              "      <td>водитель маршрут 263 пос северный союзный авто...</td>\n",
              "      <td>недостаточный количество транспорт на маршрут ...</td>\n",
              "      <td>нарушение правило посадка и высадка пассажир п...</td>\n",
              "      <td>недостаточный количество транспорт на маршрут ...</td>\n",
              "      <td>8</td>\n",
              "    </tr>\n",
              "    <tr>\n",
              "      <th>...</th>\n",
              "      <td>...</td>\n",
              "      <td>...</td>\n",
              "      <td>...</td>\n",
              "      <td>...</td>\n",
              "      <td>...</td>\n",
              "      <td>...</td>\n",
              "      <td>...</td>\n",
              "      <td>...</td>\n",
              "      <td>...</td>\n",
              "    </tr>\n",
              "    <tr>\n",
              "      <th>995</th>\n",
              "      <td>2619</td>\n",
              "      <td>Добрый день! Я и моя семья жители пос Волокно,...</td>\n",
              "      <td>Добрый день Я и моя семья жители пос Волокно м...</td>\n",
              "      <td>добрый день я и мой семья житель пос волокно м...</td>\n",
              "      <td>семья житель пос волокно просыпаться засыпать ...</td>\n",
              "      <td>некачественный водоснабжение в район частное с...</td>\n",
              "      <td>некачественный водоснабжение в район частное с...</td>\n",
              "      <td>некачественный водоснабжение в район частное с...</td>\n",
              "      <td>3</td>\n",
              "    </tr>\n",
              "    <tr>\n",
              "      <th>996</th>\n",
              "      <td>2518</td>\n",
              "      <td>На Лазарева 5 г.Щигры ветка тополя скоро выбье...</td>\n",
              "      <td>На Лазарева 5 г Щигры ветка тополя скоро выбье...</td>\n",
              "      <td>на лазарев 5 г щигры ветка тополь скоро выбить...</td>\n",
              "      <td>лазарев щигры ветка тополь скоро выбить стекло...</td>\n",
              "      <td>аварийный дерево</td>\n",
              "      <td>аварийный дерево</td>\n",
              "      <td>аварийный дерево</td>\n",
              "      <td>3</td>\n",
              "    </tr>\n",
              "    <tr>\n",
              "      <th>997</th>\n",
              "      <td>2524</td>\n",
              "      <td>Перед входом  Комитет образования  Курска  ямы...</td>\n",
              "      <td>Перед входом Комитет образования Курска ямы на...</td>\n",
              "      <td>перед вход комитет образование курск ям на дорога</td>\n",
              "      <td>вход комитет образование ям дорога</td>\n",
              "      <td>нарушение дорожный покрытие ям на дорога в гра...</td>\n",
              "      <td>нарушение дорожный покрытие ям на дорога в гра...</td>\n",
              "      <td>нарушение дорожный покрытие ям на дорога в гра...</td>\n",
              "      <td>0</td>\n",
              "    </tr>\n",
              "    <tr>\n",
              "      <th>998</th>\n",
              "      <td>1577</td>\n",
              "      <td>&lt;p&gt;Доброго времени суток&lt;/p&gt;&lt;p&gt;У меня на пол г...</td>\n",
              "      <td>Доброго времени сутокУ меня на пол года был ме...</td>\n",
              "      <td>добрый время суток я на пол год быть медотвод ...</td>\n",
              "      <td>суток пол медотвод вакцинация перенести заболе...</td>\n",
              "      <td>вопрос оказание помощь беженец</td>\n",
              "      <td>неприятный запах</td>\n",
              "      <td>вопрос оказание помощь беженец</td>\n",
              "      <td>10</td>\n",
              "    </tr>\n",
              "    <tr>\n",
              "      <th>999</th>\n",
              "      <td>2567</td>\n",
              "      <td>Добрый день, я многодетная мама. Младшему ребё...</td>\n",
              "      <td>Добрый день я многодетная мама Младшему ребёнк...</td>\n",
              "      <td>добрый день я многодетный мама младший ребёнок...</td>\n",
              "      <td>многодетный мама младший ребёнок жить прописат...</td>\n",
              "      <td>нарушение порядок предоставление мера социальн...</td>\n",
              "      <td>нарушение порядок предоставление мера социальн...</td>\n",
              "      <td>нарушение порядок предоставление мера социальн...</td>\n",
              "      <td>10</td>\n",
              "    </tr>\n",
              "  </tbody>\n",
              "</table>\n",
              "<p>1000 rows × 9 columns</p>\n",
              "</div>\n",
              "      <button class=\"colab-df-convert\" onclick=\"convertToInteractive('df-cad6aa0d-46f6-47ba-aad8-394c43b8b790')\"\n",
              "              title=\"Convert this dataframe to an interactive table.\"\n",
              "              style=\"display:none;\">\n",
              "        \n",
              "  <svg xmlns=\"http://www.w3.org/2000/svg\" height=\"24px\"viewBox=\"0 0 24 24\"\n",
              "       width=\"24px\">\n",
              "    <path d=\"M0 0h24v24H0V0z\" fill=\"none\"/>\n",
              "    <path d=\"M18.56 5.44l.94 2.06.94-2.06 2.06-.94-2.06-.94-.94-2.06-.94 2.06-2.06.94zm-11 1L8.5 8.5l.94-2.06 2.06-.94-2.06-.94L8.5 2.5l-.94 2.06-2.06.94zm10 10l.94 2.06.94-2.06 2.06-.94-2.06-.94-.94-2.06-.94 2.06-2.06.94z\"/><path d=\"M17.41 7.96l-1.37-1.37c-.4-.4-.92-.59-1.43-.59-.52 0-1.04.2-1.43.59L10.3 9.45l-7.72 7.72c-.78.78-.78 2.05 0 2.83L4 21.41c.39.39.9.59 1.41.59.51 0 1.02-.2 1.41-.59l7.78-7.78 2.81-2.81c.8-.78.8-2.07 0-2.86zM5.41 20L4 18.59l7.72-7.72 1.47 1.35L5.41 20z\"/>\n",
              "  </svg>\n",
              "      </button>\n",
              "      \n",
              "  <style>\n",
              "    .colab-df-container {\n",
              "      display:flex;\n",
              "      flex-wrap:wrap;\n",
              "      gap: 12px;\n",
              "    }\n",
              "\n",
              "    .colab-df-convert {\n",
              "      background-color: #E8F0FE;\n",
              "      border: none;\n",
              "      border-radius: 50%;\n",
              "      cursor: pointer;\n",
              "      display: none;\n",
              "      fill: #1967D2;\n",
              "      height: 32px;\n",
              "      padding: 0 0 0 0;\n",
              "      width: 32px;\n",
              "    }\n",
              "\n",
              "    .colab-df-convert:hover {\n",
              "      background-color: #E2EBFA;\n",
              "      box-shadow: 0px 1px 2px rgba(60, 64, 67, 0.3), 0px 1px 3px 1px rgba(60, 64, 67, 0.15);\n",
              "      fill: #174EA6;\n",
              "    }\n",
              "\n",
              "    [theme=dark] .colab-df-convert {\n",
              "      background-color: #3B4455;\n",
              "      fill: #D2E3FC;\n",
              "    }\n",
              "\n",
              "    [theme=dark] .colab-df-convert:hover {\n",
              "      background-color: #434B5C;\n",
              "      box-shadow: 0px 1px 3px 1px rgba(0, 0, 0, 0.15);\n",
              "      filter: drop-shadow(0px 1px 2px rgba(0, 0, 0, 0.3));\n",
              "      fill: #FFFFFF;\n",
              "    }\n",
              "  </style>\n",
              "\n",
              "      <script>\n",
              "        const buttonEl =\n",
              "          document.querySelector('#df-cad6aa0d-46f6-47ba-aad8-394c43b8b790 button.colab-df-convert');\n",
              "        buttonEl.style.display =\n",
              "          google.colab.kernel.accessAllowed ? 'block' : 'none';\n",
              "\n",
              "        async function convertToInteractive(key) {\n",
              "          const element = document.querySelector('#df-cad6aa0d-46f6-47ba-aad8-394c43b8b790');\n",
              "          const dataTable =\n",
              "            await google.colab.kernel.invokeFunction('convertToInteractive',\n",
              "                                                     [key], {});\n",
              "          if (!dataTable) return;\n",
              "\n",
              "          const docLinkHtml = 'Like what you see? Visit the ' +\n",
              "            '<a target=\"_blank\" href=https://colab.research.google.com/notebooks/data_table.ipynb>data table notebook</a>'\n",
              "            + ' to learn more about interactive tables.';\n",
              "          element.innerHTML = '';\n",
              "          dataTable['output_type'] = 'display_data';\n",
              "          await google.colab.output.renderOutput(dataTable, element);\n",
              "          const docLink = document.createElement('div');\n",
              "          docLink.innerHTML = docLinkHtml;\n",
              "          element.appendChild(docLink);\n",
              "        }\n",
              "      </script>\n",
              "    </div>\n",
              "  </div>\n",
              "  "
            ]
          },
          "metadata": {},
          "execution_count": 85
        }
      ],
      "source": [
        "df_test"
      ]
    },
    {
      "cell_type": "code",
      "execution_count": 86,
      "metadata": {
        "id": "xgftRyGEPwQ0"
      },
      "outputs": [],
      "source": [
        "data = [df_test[\"id\"], df_test[\"pred\"]]\n",
        "\n",
        "headers = [\"id\", \"Категория\"]\n",
        "\n",
        "df_submit = pd.concat(data, axis=1, keys=headers)"
      ]
    },
    {
      "cell_type": "code",
      "execution_count": 87,
      "metadata": {
        "colab": {
          "base_uri": "https://localhost:8080/",
          "height": 423
        },
        "id": "4BWqE7GcQZvo",
        "outputId": "d3736102-99d2-41de-8819-8f8567eb54c1"
      },
      "outputs": [
        {
          "output_type": "execute_result",
          "data": {
            "text/plain": [
              "       id  Категория\n",
              "0     843          3\n",
              "1    1422          3\n",
              "2    2782          3\n",
              "3    2704          3\n",
              "4       1          8\n",
              "..    ...        ...\n",
              "995  2619          3\n",
              "996  2518          3\n",
              "997  2524          0\n",
              "998  1577         10\n",
              "999  2567         10\n",
              "\n",
              "[1000 rows x 2 columns]"
            ],
            "text/html": [
              "\n",
              "  <div id=\"df-5281de0a-9f3f-4e71-b55b-e4a05049bc50\">\n",
              "    <div class=\"colab-df-container\">\n",
              "      <div>\n",
              "<style scoped>\n",
              "    .dataframe tbody tr th:only-of-type {\n",
              "        vertical-align: middle;\n",
              "    }\n",
              "\n",
              "    .dataframe tbody tr th {\n",
              "        vertical-align: top;\n",
              "    }\n",
              "\n",
              "    .dataframe thead th {\n",
              "        text-align: right;\n",
              "    }\n",
              "</style>\n",
              "<table border=\"1\" class=\"dataframe\">\n",
              "  <thead>\n",
              "    <tr style=\"text-align: right;\">\n",
              "      <th></th>\n",
              "      <th>id</th>\n",
              "      <th>Категория</th>\n",
              "    </tr>\n",
              "  </thead>\n",
              "  <tbody>\n",
              "    <tr>\n",
              "      <th>0</th>\n",
              "      <td>843</td>\n",
              "      <td>3</td>\n",
              "    </tr>\n",
              "    <tr>\n",
              "      <th>1</th>\n",
              "      <td>1422</td>\n",
              "      <td>3</td>\n",
              "    </tr>\n",
              "    <tr>\n",
              "      <th>2</th>\n",
              "      <td>2782</td>\n",
              "      <td>3</td>\n",
              "    </tr>\n",
              "    <tr>\n",
              "      <th>3</th>\n",
              "      <td>2704</td>\n",
              "      <td>3</td>\n",
              "    </tr>\n",
              "    <tr>\n",
              "      <th>4</th>\n",
              "      <td>1</td>\n",
              "      <td>8</td>\n",
              "    </tr>\n",
              "    <tr>\n",
              "      <th>...</th>\n",
              "      <td>...</td>\n",
              "      <td>...</td>\n",
              "    </tr>\n",
              "    <tr>\n",
              "      <th>995</th>\n",
              "      <td>2619</td>\n",
              "      <td>3</td>\n",
              "    </tr>\n",
              "    <tr>\n",
              "      <th>996</th>\n",
              "      <td>2518</td>\n",
              "      <td>3</td>\n",
              "    </tr>\n",
              "    <tr>\n",
              "      <th>997</th>\n",
              "      <td>2524</td>\n",
              "      <td>0</td>\n",
              "    </tr>\n",
              "    <tr>\n",
              "      <th>998</th>\n",
              "      <td>1577</td>\n",
              "      <td>10</td>\n",
              "    </tr>\n",
              "    <tr>\n",
              "      <th>999</th>\n",
              "      <td>2567</td>\n",
              "      <td>10</td>\n",
              "    </tr>\n",
              "  </tbody>\n",
              "</table>\n",
              "<p>1000 rows × 2 columns</p>\n",
              "</div>\n",
              "      <button class=\"colab-df-convert\" onclick=\"convertToInteractive('df-5281de0a-9f3f-4e71-b55b-e4a05049bc50')\"\n",
              "              title=\"Convert this dataframe to an interactive table.\"\n",
              "              style=\"display:none;\">\n",
              "        \n",
              "  <svg xmlns=\"http://www.w3.org/2000/svg\" height=\"24px\"viewBox=\"0 0 24 24\"\n",
              "       width=\"24px\">\n",
              "    <path d=\"M0 0h24v24H0V0z\" fill=\"none\"/>\n",
              "    <path d=\"M18.56 5.44l.94 2.06.94-2.06 2.06-.94-2.06-.94-.94-2.06-.94 2.06-2.06.94zm-11 1L8.5 8.5l.94-2.06 2.06-.94-2.06-.94L8.5 2.5l-.94 2.06-2.06.94zm10 10l.94 2.06.94-2.06 2.06-.94-2.06-.94-.94-2.06-.94 2.06-2.06.94z\"/><path d=\"M17.41 7.96l-1.37-1.37c-.4-.4-.92-.59-1.43-.59-.52 0-1.04.2-1.43.59L10.3 9.45l-7.72 7.72c-.78.78-.78 2.05 0 2.83L4 21.41c.39.39.9.59 1.41.59.51 0 1.02-.2 1.41-.59l7.78-7.78 2.81-2.81c.8-.78.8-2.07 0-2.86zM5.41 20L4 18.59l7.72-7.72 1.47 1.35L5.41 20z\"/>\n",
              "  </svg>\n",
              "      </button>\n",
              "      \n",
              "  <style>\n",
              "    .colab-df-container {\n",
              "      display:flex;\n",
              "      flex-wrap:wrap;\n",
              "      gap: 12px;\n",
              "    }\n",
              "\n",
              "    .colab-df-convert {\n",
              "      background-color: #E8F0FE;\n",
              "      border: none;\n",
              "      border-radius: 50%;\n",
              "      cursor: pointer;\n",
              "      display: none;\n",
              "      fill: #1967D2;\n",
              "      height: 32px;\n",
              "      padding: 0 0 0 0;\n",
              "      width: 32px;\n",
              "    }\n",
              "\n",
              "    .colab-df-convert:hover {\n",
              "      background-color: #E2EBFA;\n",
              "      box-shadow: 0px 1px 2px rgba(60, 64, 67, 0.3), 0px 1px 3px 1px rgba(60, 64, 67, 0.15);\n",
              "      fill: #174EA6;\n",
              "    }\n",
              "\n",
              "    [theme=dark] .colab-df-convert {\n",
              "      background-color: #3B4455;\n",
              "      fill: #D2E3FC;\n",
              "    }\n",
              "\n",
              "    [theme=dark] .colab-df-convert:hover {\n",
              "      background-color: #434B5C;\n",
              "      box-shadow: 0px 1px 3px 1px rgba(0, 0, 0, 0.15);\n",
              "      filter: drop-shadow(0px 1px 2px rgba(0, 0, 0, 0.3));\n",
              "      fill: #FFFFFF;\n",
              "    }\n",
              "  </style>\n",
              "\n",
              "      <script>\n",
              "        const buttonEl =\n",
              "          document.querySelector('#df-5281de0a-9f3f-4e71-b55b-e4a05049bc50 button.colab-df-convert');\n",
              "        buttonEl.style.display =\n",
              "          google.colab.kernel.accessAllowed ? 'block' : 'none';\n",
              "\n",
              "        async function convertToInteractive(key) {\n",
              "          const element = document.querySelector('#df-5281de0a-9f3f-4e71-b55b-e4a05049bc50');\n",
              "          const dataTable =\n",
              "            await google.colab.kernel.invokeFunction('convertToInteractive',\n",
              "                                                     [key], {});\n",
              "          if (!dataTable) return;\n",
              "\n",
              "          const docLinkHtml = 'Like what you see? Visit the ' +\n",
              "            '<a target=\"_blank\" href=https://colab.research.google.com/notebooks/data_table.ipynb>data table notebook</a>'\n",
              "            + ' to learn more about interactive tables.';\n",
              "          element.innerHTML = '';\n",
              "          dataTable['output_type'] = 'display_data';\n",
              "          await google.colab.output.renderOutput(dataTable, element);\n",
              "          const docLink = document.createElement('div');\n",
              "          docLink.innerHTML = docLinkHtml;\n",
              "          element.appendChild(docLink);\n",
              "        }\n",
              "      </script>\n",
              "    </div>\n",
              "  </div>\n",
              "  "
            ]
          },
          "metadata": {},
          "execution_count": 87
        }
      ],
      "source": [
        "df_submit"
      ]
    },
    {
      "cell_type": "code",
      "execution_count": 88,
      "metadata": {
        "id": "83gESyCJQcnq"
      },
      "outputs": [],
      "source": [
        "df_submit.to_csv('submit.csv', index=False)"
      ]
    }
  ],
  "metadata": {
    "colab": {
      "collapsed_sections": [],
      "name": "Копия блокнота \"Курск_bert.ipynb\"",
      "provenance": []
    },
    "kernelspec": {
      "display_name": "Python 3",
      "name": "python3"
    },
    "language_info": {
      "name": "python"
    },
    "widgets": {
      "application/vnd.jupyter.widget-state+json": {
        "3f9864f7448c45d79dd0cb5927431bb9": {
          "model_module": "@jupyter-widgets/controls",
          "model_name": "HBoxModel",
          "model_module_version": "1.5.0",
          "state": {
            "_dom_classes": [],
            "_model_module": "@jupyter-widgets/controls",
            "_model_module_version": "1.5.0",
            "_model_name": "HBoxModel",
            "_view_count": null,
            "_view_module": "@jupyter-widgets/controls",
            "_view_module_version": "1.5.0",
            "_view_name": "HBoxView",
            "box_style": "",
            "children": [
              "IPY_MODEL_12ccf4f6b09945d18049ce8942bf48a0",
              "IPY_MODEL_2c6a0a61f8b34ce3b88bbcf2a4a927ab",
              "IPY_MODEL_60a8eec06f964d8c8b02c861d5c9ffa7"
            ],
            "layout": "IPY_MODEL_8415c5a0b79c4be797a909e44c975f53"
          }
        },
        "12ccf4f6b09945d18049ce8942bf48a0": {
          "model_module": "@jupyter-widgets/controls",
          "model_name": "HTMLModel",
          "model_module_version": "1.5.0",
          "state": {
            "_dom_classes": [],
            "_model_module": "@jupyter-widgets/controls",
            "_model_module_version": "1.5.0",
            "_model_name": "HTMLModel",
            "_view_count": null,
            "_view_module": "@jupyter-widgets/controls",
            "_view_module_version": "1.5.0",
            "_view_name": "HTMLView",
            "description": "",
            "description_tooltip": null,
            "layout": "IPY_MODEL_d7b993dd872245c092f1518e1a5d64e1",
            "placeholder": "​",
            "style": "IPY_MODEL_52b25dd5622b4fa0bcc00f0dfa05409f",
            "value": "Downloading: 100%"
          }
        },
        "2c6a0a61f8b34ce3b88bbcf2a4a927ab": {
          "model_module": "@jupyter-widgets/controls",
          "model_name": "FloatProgressModel",
          "model_module_version": "1.5.0",
          "state": {
            "_dom_classes": [],
            "_model_module": "@jupyter-widgets/controls",
            "_model_module_version": "1.5.0",
            "_model_name": "FloatProgressModel",
            "_view_count": null,
            "_view_module": "@jupyter-widgets/controls",
            "_view_module_version": "1.5.0",
            "_view_name": "ProgressView",
            "bar_style": "success",
            "description": "",
            "description_tooltip": null,
            "layout": "IPY_MODEL_740d00d09d834f64bc0ae3690eb3cfed",
            "max": 690,
            "min": 0,
            "orientation": "horizontal",
            "style": "IPY_MODEL_8b537e95198b440093f3f07eb4de44a3",
            "value": 690
          }
        },
        "60a8eec06f964d8c8b02c861d5c9ffa7": {
          "model_module": "@jupyter-widgets/controls",
          "model_name": "HTMLModel",
          "model_module_version": "1.5.0",
          "state": {
            "_dom_classes": [],
            "_model_module": "@jupyter-widgets/controls",
            "_model_module_version": "1.5.0",
            "_model_name": "HTMLModel",
            "_view_count": null,
            "_view_module": "@jupyter-widgets/controls",
            "_view_module_version": "1.5.0",
            "_view_name": "HTMLView",
            "description": "",
            "description_tooltip": null,
            "layout": "IPY_MODEL_75da6ea9876e427288addcf86f64c220",
            "placeholder": "​",
            "style": "IPY_MODEL_8fd7b392c36c4e4b82cfaa0fc7f722aa",
            "value": " 690/690 [00:00&lt;00:00, 23.6kB/s]"
          }
        },
        "8415c5a0b79c4be797a909e44c975f53": {
          "model_module": "@jupyter-widgets/base",
          "model_name": "LayoutModel",
          "model_module_version": "1.2.0",
          "state": {
            "_model_module": "@jupyter-widgets/base",
            "_model_module_version": "1.2.0",
            "_model_name": "LayoutModel",
            "_view_count": null,
            "_view_module": "@jupyter-widgets/base",
            "_view_module_version": "1.2.0",
            "_view_name": "LayoutView",
            "align_content": null,
            "align_items": null,
            "align_self": null,
            "border": null,
            "bottom": null,
            "display": null,
            "flex": null,
            "flex_flow": null,
            "grid_area": null,
            "grid_auto_columns": null,
            "grid_auto_flow": null,
            "grid_auto_rows": null,
            "grid_column": null,
            "grid_gap": null,
            "grid_row": null,
            "grid_template_areas": null,
            "grid_template_columns": null,
            "grid_template_rows": null,
            "height": null,
            "justify_content": null,
            "justify_items": null,
            "left": null,
            "margin": null,
            "max_height": null,
            "max_width": null,
            "min_height": null,
            "min_width": null,
            "object_fit": null,
            "object_position": null,
            "order": null,
            "overflow": null,
            "overflow_x": null,
            "overflow_y": null,
            "padding": null,
            "right": null,
            "top": null,
            "visibility": null,
            "width": null
          }
        },
        "d7b993dd872245c092f1518e1a5d64e1": {
          "model_module": "@jupyter-widgets/base",
          "model_name": "LayoutModel",
          "model_module_version": "1.2.0",
          "state": {
            "_model_module": "@jupyter-widgets/base",
            "_model_module_version": "1.2.0",
            "_model_name": "LayoutModel",
            "_view_count": null,
            "_view_module": "@jupyter-widgets/base",
            "_view_module_version": "1.2.0",
            "_view_name": "LayoutView",
            "align_content": null,
            "align_items": null,
            "align_self": null,
            "border": null,
            "bottom": null,
            "display": null,
            "flex": null,
            "flex_flow": null,
            "grid_area": null,
            "grid_auto_columns": null,
            "grid_auto_flow": null,
            "grid_auto_rows": null,
            "grid_column": null,
            "grid_gap": null,
            "grid_row": null,
            "grid_template_areas": null,
            "grid_template_columns": null,
            "grid_template_rows": null,
            "height": null,
            "justify_content": null,
            "justify_items": null,
            "left": null,
            "margin": null,
            "max_height": null,
            "max_width": null,
            "min_height": null,
            "min_width": null,
            "object_fit": null,
            "object_position": null,
            "order": null,
            "overflow": null,
            "overflow_x": null,
            "overflow_y": null,
            "padding": null,
            "right": null,
            "top": null,
            "visibility": null,
            "width": null
          }
        },
        "52b25dd5622b4fa0bcc00f0dfa05409f": {
          "model_module": "@jupyter-widgets/controls",
          "model_name": "DescriptionStyleModel",
          "model_module_version": "1.5.0",
          "state": {
            "_model_module": "@jupyter-widgets/controls",
            "_model_module_version": "1.5.0",
            "_model_name": "DescriptionStyleModel",
            "_view_count": null,
            "_view_module": "@jupyter-widgets/base",
            "_view_module_version": "1.2.0",
            "_view_name": "StyleView",
            "description_width": ""
          }
        },
        "740d00d09d834f64bc0ae3690eb3cfed": {
          "model_module": "@jupyter-widgets/base",
          "model_name": "LayoutModel",
          "model_module_version": "1.2.0",
          "state": {
            "_model_module": "@jupyter-widgets/base",
            "_model_module_version": "1.2.0",
            "_model_name": "LayoutModel",
            "_view_count": null,
            "_view_module": "@jupyter-widgets/base",
            "_view_module_version": "1.2.0",
            "_view_name": "LayoutView",
            "align_content": null,
            "align_items": null,
            "align_self": null,
            "border": null,
            "bottom": null,
            "display": null,
            "flex": null,
            "flex_flow": null,
            "grid_area": null,
            "grid_auto_columns": null,
            "grid_auto_flow": null,
            "grid_auto_rows": null,
            "grid_column": null,
            "grid_gap": null,
            "grid_row": null,
            "grid_template_areas": null,
            "grid_template_columns": null,
            "grid_template_rows": null,
            "height": null,
            "justify_content": null,
            "justify_items": null,
            "left": null,
            "margin": null,
            "max_height": null,
            "max_width": null,
            "min_height": null,
            "min_width": null,
            "object_fit": null,
            "object_position": null,
            "order": null,
            "overflow": null,
            "overflow_x": null,
            "overflow_y": null,
            "padding": null,
            "right": null,
            "top": null,
            "visibility": null,
            "width": null
          }
        },
        "8b537e95198b440093f3f07eb4de44a3": {
          "model_module": "@jupyter-widgets/controls",
          "model_name": "ProgressStyleModel",
          "model_module_version": "1.5.0",
          "state": {
            "_model_module": "@jupyter-widgets/controls",
            "_model_module_version": "1.5.0",
            "_model_name": "ProgressStyleModel",
            "_view_count": null,
            "_view_module": "@jupyter-widgets/base",
            "_view_module_version": "1.2.0",
            "_view_name": "StyleView",
            "bar_color": null,
            "description_width": ""
          }
        },
        "75da6ea9876e427288addcf86f64c220": {
          "model_module": "@jupyter-widgets/base",
          "model_name": "LayoutModel",
          "model_module_version": "1.2.0",
          "state": {
            "_model_module": "@jupyter-widgets/base",
            "_model_module_version": "1.2.0",
            "_model_name": "LayoutModel",
            "_view_count": null,
            "_view_module": "@jupyter-widgets/base",
            "_view_module_version": "1.2.0",
            "_view_name": "LayoutView",
            "align_content": null,
            "align_items": null,
            "align_self": null,
            "border": null,
            "bottom": null,
            "display": null,
            "flex": null,
            "flex_flow": null,
            "grid_area": null,
            "grid_auto_columns": null,
            "grid_auto_flow": null,
            "grid_auto_rows": null,
            "grid_column": null,
            "grid_gap": null,
            "grid_row": null,
            "grid_template_areas": null,
            "grid_template_columns": null,
            "grid_template_rows": null,
            "height": null,
            "justify_content": null,
            "justify_items": null,
            "left": null,
            "margin": null,
            "max_height": null,
            "max_width": null,
            "min_height": null,
            "min_width": null,
            "object_fit": null,
            "object_position": null,
            "order": null,
            "overflow": null,
            "overflow_x": null,
            "overflow_y": null,
            "padding": null,
            "right": null,
            "top": null,
            "visibility": null,
            "width": null
          }
        },
        "8fd7b392c36c4e4b82cfaa0fc7f722aa": {
          "model_module": "@jupyter-widgets/controls",
          "model_name": "DescriptionStyleModel",
          "model_module_version": "1.5.0",
          "state": {
            "_model_module": "@jupyter-widgets/controls",
            "_model_module_version": "1.5.0",
            "_model_name": "DescriptionStyleModel",
            "_view_count": null,
            "_view_module": "@jupyter-widgets/base",
            "_view_module_version": "1.2.0",
            "_view_name": "StyleView",
            "description_width": ""
          }
        },
        "c283a8cfc3684b2ca8820540be020ca8": {
          "model_module": "@jupyter-widgets/controls",
          "model_name": "HBoxModel",
          "model_module_version": "1.5.0",
          "state": {
            "_dom_classes": [],
            "_model_module": "@jupyter-widgets/controls",
            "_model_module_version": "1.5.0",
            "_model_name": "HBoxModel",
            "_view_count": null,
            "_view_module": "@jupyter-widgets/controls",
            "_view_module_version": "1.5.0",
            "_view_name": "HBoxView",
            "box_style": "",
            "children": [
              "IPY_MODEL_5767433a05a748c99929e0765dc7e9ef",
              "IPY_MODEL_4cc37d6284804663a7d15f5eba73ccb6",
              "IPY_MODEL_1fb9363edaee4a0d85c9bae179125857"
            ],
            "layout": "IPY_MODEL_b120abe4115f49ab865d6b1b71578235"
          }
        },
        "5767433a05a748c99929e0765dc7e9ef": {
          "model_module": "@jupyter-widgets/controls",
          "model_name": "HTMLModel",
          "model_module_version": "1.5.0",
          "state": {
            "_dom_classes": [],
            "_model_module": "@jupyter-widgets/controls",
            "_model_module_version": "1.5.0",
            "_model_name": "HTMLModel",
            "_view_count": null,
            "_view_module": "@jupyter-widgets/controls",
            "_view_module_version": "1.5.0",
            "_view_name": "HTMLView",
            "description": "",
            "description_tooltip": null,
            "layout": "IPY_MODEL_ed267096c17d4510bfb460a3a4f2595c",
            "placeholder": "​",
            "style": "IPY_MODEL_726e107991b84eb0abd6bc84cc6d711e",
            "value": "Downloading: 100%"
          }
        },
        "4cc37d6284804663a7d15f5eba73ccb6": {
          "model_module": "@jupyter-widgets/controls",
          "model_name": "FloatProgressModel",
          "model_module_version": "1.5.0",
          "state": {
            "_dom_classes": [],
            "_model_module": "@jupyter-widgets/controls",
            "_model_module_version": "1.5.0",
            "_model_name": "FloatProgressModel",
            "_view_count": null,
            "_view_module": "@jupyter-widgets/controls",
            "_view_module_version": "1.5.0",
            "_view_name": "ProgressView",
            "bar_style": "success",
            "description": "",
            "description_tooltip": null,
            "layout": "IPY_MODEL_611eccf7ca7e4a0a89d4b8d6732657a1",
            "max": 3223,
            "min": 0,
            "orientation": "horizontal",
            "style": "IPY_MODEL_c296e0abcacb42a999e579a459d7b2c6",
            "value": 3223
          }
        },
        "1fb9363edaee4a0d85c9bae179125857": {
          "model_module": "@jupyter-widgets/controls",
          "model_name": "HTMLModel",
          "model_module_version": "1.5.0",
          "state": {
            "_dom_classes": [],
            "_model_module": "@jupyter-widgets/controls",
            "_model_module_version": "1.5.0",
            "_model_name": "HTMLModel",
            "_view_count": null,
            "_view_module": "@jupyter-widgets/controls",
            "_view_module_version": "1.5.0",
            "_view_name": "HTMLView",
            "description": "",
            "description_tooltip": null,
            "layout": "IPY_MODEL_652492647d7a444b918149dff17d3c04",
            "placeholder": "​",
            "style": "IPY_MODEL_7aa5a972813242e1ab4327da1abad055",
            "value": " 3.22k/3.22k [00:00&lt;00:00, 79.3kB/s]"
          }
        },
        "b120abe4115f49ab865d6b1b71578235": {
          "model_module": "@jupyter-widgets/base",
          "model_name": "LayoutModel",
          "model_module_version": "1.2.0",
          "state": {
            "_model_module": "@jupyter-widgets/base",
            "_model_module_version": "1.2.0",
            "_model_name": "LayoutModel",
            "_view_count": null,
            "_view_module": "@jupyter-widgets/base",
            "_view_module_version": "1.2.0",
            "_view_name": "LayoutView",
            "align_content": null,
            "align_items": null,
            "align_self": null,
            "border": null,
            "bottom": null,
            "display": null,
            "flex": null,
            "flex_flow": null,
            "grid_area": null,
            "grid_auto_columns": null,
            "grid_auto_flow": null,
            "grid_auto_rows": null,
            "grid_column": null,
            "grid_gap": null,
            "grid_row": null,
            "grid_template_areas": null,
            "grid_template_columns": null,
            "grid_template_rows": null,
            "height": null,
            "justify_content": null,
            "justify_items": null,
            "left": null,
            "margin": null,
            "max_height": null,
            "max_width": null,
            "min_height": null,
            "min_width": null,
            "object_fit": null,
            "object_position": null,
            "order": null,
            "overflow": null,
            "overflow_x": null,
            "overflow_y": null,
            "padding": null,
            "right": null,
            "top": null,
            "visibility": null,
            "width": null
          }
        },
        "ed267096c17d4510bfb460a3a4f2595c": {
          "model_module": "@jupyter-widgets/base",
          "model_name": "LayoutModel",
          "model_module_version": "1.2.0",
          "state": {
            "_model_module": "@jupyter-widgets/base",
            "_model_module_version": "1.2.0",
            "_model_name": "LayoutModel",
            "_view_count": null,
            "_view_module": "@jupyter-widgets/base",
            "_view_module_version": "1.2.0",
            "_view_name": "LayoutView",
            "align_content": null,
            "align_items": null,
            "align_self": null,
            "border": null,
            "bottom": null,
            "display": null,
            "flex": null,
            "flex_flow": null,
            "grid_area": null,
            "grid_auto_columns": null,
            "grid_auto_flow": null,
            "grid_auto_rows": null,
            "grid_column": null,
            "grid_gap": null,
            "grid_row": null,
            "grid_template_areas": null,
            "grid_template_columns": null,
            "grid_template_rows": null,
            "height": null,
            "justify_content": null,
            "justify_items": null,
            "left": null,
            "margin": null,
            "max_height": null,
            "max_width": null,
            "min_height": null,
            "min_width": null,
            "object_fit": null,
            "object_position": null,
            "order": null,
            "overflow": null,
            "overflow_x": null,
            "overflow_y": null,
            "padding": null,
            "right": null,
            "top": null,
            "visibility": null,
            "width": null
          }
        },
        "726e107991b84eb0abd6bc84cc6d711e": {
          "model_module": "@jupyter-widgets/controls",
          "model_name": "DescriptionStyleModel",
          "model_module_version": "1.5.0",
          "state": {
            "_model_module": "@jupyter-widgets/controls",
            "_model_module_version": "1.5.0",
            "_model_name": "DescriptionStyleModel",
            "_view_count": null,
            "_view_module": "@jupyter-widgets/base",
            "_view_module_version": "1.2.0",
            "_view_name": "StyleView",
            "description_width": ""
          }
        },
        "611eccf7ca7e4a0a89d4b8d6732657a1": {
          "model_module": "@jupyter-widgets/base",
          "model_name": "LayoutModel",
          "model_module_version": "1.2.0",
          "state": {
            "_model_module": "@jupyter-widgets/base",
            "_model_module_version": "1.2.0",
            "_model_name": "LayoutModel",
            "_view_count": null,
            "_view_module": "@jupyter-widgets/base",
            "_view_module_version": "1.2.0",
            "_view_name": "LayoutView",
            "align_content": null,
            "align_items": null,
            "align_self": null,
            "border": null,
            "bottom": null,
            "display": null,
            "flex": null,
            "flex_flow": null,
            "grid_area": null,
            "grid_auto_columns": null,
            "grid_auto_flow": null,
            "grid_auto_rows": null,
            "grid_column": null,
            "grid_gap": null,
            "grid_row": null,
            "grid_template_areas": null,
            "grid_template_columns": null,
            "grid_template_rows": null,
            "height": null,
            "justify_content": null,
            "justify_items": null,
            "left": null,
            "margin": null,
            "max_height": null,
            "max_width": null,
            "min_height": null,
            "min_width": null,
            "object_fit": null,
            "object_position": null,
            "order": null,
            "overflow": null,
            "overflow_x": null,
            "overflow_y": null,
            "padding": null,
            "right": null,
            "top": null,
            "visibility": null,
            "width": null
          }
        },
        "c296e0abcacb42a999e579a459d7b2c6": {
          "model_module": "@jupyter-widgets/controls",
          "model_name": "ProgressStyleModel",
          "model_module_version": "1.5.0",
          "state": {
            "_model_module": "@jupyter-widgets/controls",
            "_model_module_version": "1.5.0",
            "_model_name": "ProgressStyleModel",
            "_view_count": null,
            "_view_module": "@jupyter-widgets/base",
            "_view_module_version": "1.2.0",
            "_view_name": "StyleView",
            "bar_color": null,
            "description_width": ""
          }
        },
        "652492647d7a444b918149dff17d3c04": {
          "model_module": "@jupyter-widgets/base",
          "model_name": "LayoutModel",
          "model_module_version": "1.2.0",
          "state": {
            "_model_module": "@jupyter-widgets/base",
            "_model_module_version": "1.2.0",
            "_model_name": "LayoutModel",
            "_view_count": null,
            "_view_module": "@jupyter-widgets/base",
            "_view_module_version": "1.2.0",
            "_view_name": "LayoutView",
            "align_content": null,
            "align_items": null,
            "align_self": null,
            "border": null,
            "bottom": null,
            "display": null,
            "flex": null,
            "flex_flow": null,
            "grid_area": null,
            "grid_auto_columns": null,
            "grid_auto_flow": null,
            "grid_auto_rows": null,
            "grid_column": null,
            "grid_gap": null,
            "grid_row": null,
            "grid_template_areas": null,
            "grid_template_columns": null,
            "grid_template_rows": null,
            "height": null,
            "justify_content": null,
            "justify_items": null,
            "left": null,
            "margin": null,
            "max_height": null,
            "max_width": null,
            "min_height": null,
            "min_width": null,
            "object_fit": null,
            "object_position": null,
            "order": null,
            "overflow": null,
            "overflow_x": null,
            "overflow_y": null,
            "padding": null,
            "right": null,
            "top": null,
            "visibility": null,
            "width": null
          }
        },
        "7aa5a972813242e1ab4327da1abad055": {
          "model_module": "@jupyter-widgets/controls",
          "model_name": "DescriptionStyleModel",
          "model_module_version": "1.5.0",
          "state": {
            "_model_module": "@jupyter-widgets/controls",
            "_model_module_version": "1.5.0",
            "_model_name": "DescriptionStyleModel",
            "_view_count": null,
            "_view_module": "@jupyter-widgets/base",
            "_view_module_version": "1.2.0",
            "_view_name": "StyleView",
            "description_width": ""
          }
        },
        "2f666bf56e1f43a7803d409a5f9b2801": {
          "model_module": "@jupyter-widgets/controls",
          "model_name": "HBoxModel",
          "model_module_version": "1.5.0",
          "state": {
            "_dom_classes": [],
            "_model_module": "@jupyter-widgets/controls",
            "_model_module_version": "1.5.0",
            "_model_name": "HBoxModel",
            "_view_count": null,
            "_view_module": "@jupyter-widgets/controls",
            "_view_module_version": "1.5.0",
            "_view_name": "HBoxView",
            "box_style": "",
            "children": [
              "IPY_MODEL_1646235e17034d57ac85129b6703d216",
              "IPY_MODEL_0e677488143e480993541d4f1c8f453b",
              "IPY_MODEL_da13f3cb72c349b4ab0d237c30fa3c6c"
            ],
            "layout": "IPY_MODEL_3a15abc7172e4e38a1914c73e19778f4"
          }
        },
        "1646235e17034d57ac85129b6703d216": {
          "model_module": "@jupyter-widgets/controls",
          "model_name": "HTMLModel",
          "model_module_version": "1.5.0",
          "state": {
            "_dom_classes": [],
            "_model_module": "@jupyter-widgets/controls",
            "_model_module_version": "1.5.0",
            "_model_name": "HTMLModel",
            "_view_count": null,
            "_view_module": "@jupyter-widgets/controls",
            "_view_module_version": "1.5.0",
            "_view_name": "HTMLView",
            "description": "",
            "description_tooltip": null,
            "layout": "IPY_MODEL_dc0a2bd8348d4badb019fcc17a5b672f",
            "placeholder": "​",
            "style": "IPY_MODEL_4b3c531b13a546feab8a0f7656498e2d",
            "value": "Downloading: 100%"
          }
        },
        "0e677488143e480993541d4f1c8f453b": {
          "model_module": "@jupyter-widgets/controls",
          "model_name": "FloatProgressModel",
          "model_module_version": "1.5.0",
          "state": {
            "_dom_classes": [],
            "_model_module": "@jupyter-widgets/controls",
            "_model_module_version": "1.5.0",
            "_model_name": "FloatProgressModel",
            "_view_count": null,
            "_view_module": "@jupyter-widgets/controls",
            "_view_module_version": "1.5.0",
            "_view_name": "ProgressView",
            "bar_style": "success",
            "description": "",
            "description_tooltip": null,
            "layout": "IPY_MODEL_fe30b24998d344608a363f24077a24fb",
            "max": 538,
            "min": 0,
            "orientation": "horizontal",
            "style": "IPY_MODEL_42c075a44a734405a335d907537b1639",
            "value": 538
          }
        },
        "da13f3cb72c349b4ab0d237c30fa3c6c": {
          "model_module": "@jupyter-widgets/controls",
          "model_name": "HTMLModel",
          "model_module_version": "1.5.0",
          "state": {
            "_dom_classes": [],
            "_model_module": "@jupyter-widgets/controls",
            "_model_module_version": "1.5.0",
            "_model_name": "HTMLModel",
            "_view_count": null,
            "_view_module": "@jupyter-widgets/controls",
            "_view_module_version": "1.5.0",
            "_view_name": "HTMLView",
            "description": "",
            "description_tooltip": null,
            "layout": "IPY_MODEL_f94f858190b546b2b6f9f18fa171cbbd",
            "placeholder": "​",
            "style": "IPY_MODEL_496188686a7a4f7aa93de3194a9d471c",
            "value": " 538/538 [00:00&lt;00:00, 15.3kB/s]"
          }
        },
        "3a15abc7172e4e38a1914c73e19778f4": {
          "model_module": "@jupyter-widgets/base",
          "model_name": "LayoutModel",
          "model_module_version": "1.2.0",
          "state": {
            "_model_module": "@jupyter-widgets/base",
            "_model_module_version": "1.2.0",
            "_model_name": "LayoutModel",
            "_view_count": null,
            "_view_module": "@jupyter-widgets/base",
            "_view_module_version": "1.2.0",
            "_view_name": "LayoutView",
            "align_content": null,
            "align_items": null,
            "align_self": null,
            "border": null,
            "bottom": null,
            "display": null,
            "flex": null,
            "flex_flow": null,
            "grid_area": null,
            "grid_auto_columns": null,
            "grid_auto_flow": null,
            "grid_auto_rows": null,
            "grid_column": null,
            "grid_gap": null,
            "grid_row": null,
            "grid_template_areas": null,
            "grid_template_columns": null,
            "grid_template_rows": null,
            "height": null,
            "justify_content": null,
            "justify_items": null,
            "left": null,
            "margin": null,
            "max_height": null,
            "max_width": null,
            "min_height": null,
            "min_width": null,
            "object_fit": null,
            "object_position": null,
            "order": null,
            "overflow": null,
            "overflow_x": null,
            "overflow_y": null,
            "padding": null,
            "right": null,
            "top": null,
            "visibility": null,
            "width": null
          }
        },
        "dc0a2bd8348d4badb019fcc17a5b672f": {
          "model_module": "@jupyter-widgets/base",
          "model_name": "LayoutModel",
          "model_module_version": "1.2.0",
          "state": {
            "_model_module": "@jupyter-widgets/base",
            "_model_module_version": "1.2.0",
            "_model_name": "LayoutModel",
            "_view_count": null,
            "_view_module": "@jupyter-widgets/base",
            "_view_module_version": "1.2.0",
            "_view_name": "LayoutView",
            "align_content": null,
            "align_items": null,
            "align_self": null,
            "border": null,
            "bottom": null,
            "display": null,
            "flex": null,
            "flex_flow": null,
            "grid_area": null,
            "grid_auto_columns": null,
            "grid_auto_flow": null,
            "grid_auto_rows": null,
            "grid_column": null,
            "grid_gap": null,
            "grid_row": null,
            "grid_template_areas": null,
            "grid_template_columns": null,
            "grid_template_rows": null,
            "height": null,
            "justify_content": null,
            "justify_items": null,
            "left": null,
            "margin": null,
            "max_height": null,
            "max_width": null,
            "min_height": null,
            "min_width": null,
            "object_fit": null,
            "object_position": null,
            "order": null,
            "overflow": null,
            "overflow_x": null,
            "overflow_y": null,
            "padding": null,
            "right": null,
            "top": null,
            "visibility": null,
            "width": null
          }
        },
        "4b3c531b13a546feab8a0f7656498e2d": {
          "model_module": "@jupyter-widgets/controls",
          "model_name": "DescriptionStyleModel",
          "model_module_version": "1.5.0",
          "state": {
            "_model_module": "@jupyter-widgets/controls",
            "_model_module_version": "1.5.0",
            "_model_name": "DescriptionStyleModel",
            "_view_count": null,
            "_view_module": "@jupyter-widgets/base",
            "_view_module_version": "1.2.0",
            "_view_name": "StyleView",
            "description_width": ""
          }
        },
        "fe30b24998d344608a363f24077a24fb": {
          "model_module": "@jupyter-widgets/base",
          "model_name": "LayoutModel",
          "model_module_version": "1.2.0",
          "state": {
            "_model_module": "@jupyter-widgets/base",
            "_model_module_version": "1.2.0",
            "_model_name": "LayoutModel",
            "_view_count": null,
            "_view_module": "@jupyter-widgets/base",
            "_view_module_version": "1.2.0",
            "_view_name": "LayoutView",
            "align_content": null,
            "align_items": null,
            "align_self": null,
            "border": null,
            "bottom": null,
            "display": null,
            "flex": null,
            "flex_flow": null,
            "grid_area": null,
            "grid_auto_columns": null,
            "grid_auto_flow": null,
            "grid_auto_rows": null,
            "grid_column": null,
            "grid_gap": null,
            "grid_row": null,
            "grid_template_areas": null,
            "grid_template_columns": null,
            "grid_template_rows": null,
            "height": null,
            "justify_content": null,
            "justify_items": null,
            "left": null,
            "margin": null,
            "max_height": null,
            "max_width": null,
            "min_height": null,
            "min_width": null,
            "object_fit": null,
            "object_position": null,
            "order": null,
            "overflow": null,
            "overflow_x": null,
            "overflow_y": null,
            "padding": null,
            "right": null,
            "top": null,
            "visibility": null,
            "width": null
          }
        },
        "42c075a44a734405a335d907537b1639": {
          "model_module": "@jupyter-widgets/controls",
          "model_name": "ProgressStyleModel",
          "model_module_version": "1.5.0",
          "state": {
            "_model_module": "@jupyter-widgets/controls",
            "_model_module_version": "1.5.0",
            "_model_name": "ProgressStyleModel",
            "_view_count": null,
            "_view_module": "@jupyter-widgets/base",
            "_view_module_version": "1.2.0",
            "_view_name": "StyleView",
            "bar_color": null,
            "description_width": ""
          }
        },
        "f94f858190b546b2b6f9f18fa171cbbd": {
          "model_module": "@jupyter-widgets/base",
          "model_name": "LayoutModel",
          "model_module_version": "1.2.0",
          "state": {
            "_model_module": "@jupyter-widgets/base",
            "_model_module_version": "1.2.0",
            "_model_name": "LayoutModel",
            "_view_count": null,
            "_view_module": "@jupyter-widgets/base",
            "_view_module_version": "1.2.0",
            "_view_name": "LayoutView",
            "align_content": null,
            "align_items": null,
            "align_self": null,
            "border": null,
            "bottom": null,
            "display": null,
            "flex": null,
            "flex_flow": null,
            "grid_area": null,
            "grid_auto_columns": null,
            "grid_auto_flow": null,
            "grid_auto_rows": null,
            "grid_column": null,
            "grid_gap": null,
            "grid_row": null,
            "grid_template_areas": null,
            "grid_template_columns": null,
            "grid_template_rows": null,
            "height": null,
            "justify_content": null,
            "justify_items": null,
            "left": null,
            "margin": null,
            "max_height": null,
            "max_width": null,
            "min_height": null,
            "min_width": null,
            "object_fit": null,
            "object_position": null,
            "order": null,
            "overflow": null,
            "overflow_x": null,
            "overflow_y": null,
            "padding": null,
            "right": null,
            "top": null,
            "visibility": null,
            "width": null
          }
        },
        "496188686a7a4f7aa93de3194a9d471c": {
          "model_module": "@jupyter-widgets/controls",
          "model_name": "DescriptionStyleModel",
          "model_module_version": "1.5.0",
          "state": {
            "_model_module": "@jupyter-widgets/controls",
            "_model_module_version": "1.5.0",
            "_model_name": "DescriptionStyleModel",
            "_view_count": null,
            "_view_module": "@jupyter-widgets/base",
            "_view_module_version": "1.2.0",
            "_view_name": "StyleView",
            "description_width": ""
          }
        },
        "bce1b3a6f0e141859155a05f3dc7092c": {
          "model_module": "@jupyter-widgets/controls",
          "model_name": "HBoxModel",
          "model_module_version": "1.5.0",
          "state": {
            "_dom_classes": [],
            "_model_module": "@jupyter-widgets/controls",
            "_model_module_version": "1.5.0",
            "_model_name": "HBoxModel",
            "_view_count": null,
            "_view_module": "@jupyter-widgets/controls",
            "_view_module_version": "1.5.0",
            "_view_name": "HBoxView",
            "box_style": "",
            "children": [
              "IPY_MODEL_f5569ec32e934c1d8be590c1907dcd71",
              "IPY_MODEL_cda4dcd2da9948f5958a79744b9fd82c",
              "IPY_MODEL_51406694f2194bce9b86d162888ae247"
            ],
            "layout": "IPY_MODEL_9f1e567c43db4545aa4649c743337954"
          }
        },
        "f5569ec32e934c1d8be590c1907dcd71": {
          "model_module": "@jupyter-widgets/controls",
          "model_name": "HTMLModel",
          "model_module_version": "1.5.0",
          "state": {
            "_dom_classes": [],
            "_model_module": "@jupyter-widgets/controls",
            "_model_module_version": "1.5.0",
            "_model_name": "HTMLModel",
            "_view_count": null,
            "_view_module": "@jupyter-widgets/controls",
            "_view_module_version": "1.5.0",
            "_view_name": "HTMLView",
            "description": "",
            "description_tooltip": null,
            "layout": "IPY_MODEL_c3d5f6fc33f349e2bddba63d9b71b739",
            "placeholder": "​",
            "style": "IPY_MODEL_3b6dd1dfaf464b66843dfe3a52559657",
            "value": "Downloading: 100%"
          }
        },
        "cda4dcd2da9948f5958a79744b9fd82c": {
          "model_module": "@jupyter-widgets/controls",
          "model_name": "FloatProgressModel",
          "model_module_version": "1.5.0",
          "state": {
            "_dom_classes": [],
            "_model_module": "@jupyter-widgets/controls",
            "_model_module_version": "1.5.0",
            "_model_name": "FloatProgressModel",
            "_view_count": null,
            "_view_module": "@jupyter-widgets/controls",
            "_view_module_version": "1.5.0",
            "_view_name": "ProgressView",
            "bar_style": "success",
            "description": "",
            "description_tooltip": null,
            "layout": "IPY_MODEL_dbfd06c5eba74bf1ac64c1a304bb4798",
            "max": 541826656,
            "min": 0,
            "orientation": "horizontal",
            "style": "IPY_MODEL_06b8d825ac7e4a0184d39bdb0e76f752",
            "value": 541826656
          }
        },
        "51406694f2194bce9b86d162888ae247": {
          "model_module": "@jupyter-widgets/controls",
          "model_name": "HTMLModel",
          "model_module_version": "1.5.0",
          "state": {
            "_dom_classes": [],
            "_model_module": "@jupyter-widgets/controls",
            "_model_module_version": "1.5.0",
            "_model_name": "HTMLModel",
            "_view_count": null,
            "_view_module": "@jupyter-widgets/controls",
            "_view_module_version": "1.5.0",
            "_view_name": "HTMLView",
            "description": "",
            "description_tooltip": null,
            "layout": "IPY_MODEL_e983dfbcbbe042d2b34289b5e977b641",
            "placeholder": "​",
            "style": "IPY_MODEL_5ad75d6aa75c431381d23b83f55c4d7c",
            "value": " 542M/542M [00:09&lt;00:00, 60.4MB/s]"
          }
        },
        "9f1e567c43db4545aa4649c743337954": {
          "model_module": "@jupyter-widgets/base",
          "model_name": "LayoutModel",
          "model_module_version": "1.2.0",
          "state": {
            "_model_module": "@jupyter-widgets/base",
            "_model_module_version": "1.2.0",
            "_model_name": "LayoutModel",
            "_view_count": null,
            "_view_module": "@jupyter-widgets/base",
            "_view_module_version": "1.2.0",
            "_view_name": "LayoutView",
            "align_content": null,
            "align_items": null,
            "align_self": null,
            "border": null,
            "bottom": null,
            "display": null,
            "flex": null,
            "flex_flow": null,
            "grid_area": null,
            "grid_auto_columns": null,
            "grid_auto_flow": null,
            "grid_auto_rows": null,
            "grid_column": null,
            "grid_gap": null,
            "grid_row": null,
            "grid_template_areas": null,
            "grid_template_columns": null,
            "grid_template_rows": null,
            "height": null,
            "justify_content": null,
            "justify_items": null,
            "left": null,
            "margin": null,
            "max_height": null,
            "max_width": null,
            "min_height": null,
            "min_width": null,
            "object_fit": null,
            "object_position": null,
            "order": null,
            "overflow": null,
            "overflow_x": null,
            "overflow_y": null,
            "padding": null,
            "right": null,
            "top": null,
            "visibility": null,
            "width": null
          }
        },
        "c3d5f6fc33f349e2bddba63d9b71b739": {
          "model_module": "@jupyter-widgets/base",
          "model_name": "LayoutModel",
          "model_module_version": "1.2.0",
          "state": {
            "_model_module": "@jupyter-widgets/base",
            "_model_module_version": "1.2.0",
            "_model_name": "LayoutModel",
            "_view_count": null,
            "_view_module": "@jupyter-widgets/base",
            "_view_module_version": "1.2.0",
            "_view_name": "LayoutView",
            "align_content": null,
            "align_items": null,
            "align_self": null,
            "border": null,
            "bottom": null,
            "display": null,
            "flex": null,
            "flex_flow": null,
            "grid_area": null,
            "grid_auto_columns": null,
            "grid_auto_flow": null,
            "grid_auto_rows": null,
            "grid_column": null,
            "grid_gap": null,
            "grid_row": null,
            "grid_template_areas": null,
            "grid_template_columns": null,
            "grid_template_rows": null,
            "height": null,
            "justify_content": null,
            "justify_items": null,
            "left": null,
            "margin": null,
            "max_height": null,
            "max_width": null,
            "min_height": null,
            "min_width": null,
            "object_fit": null,
            "object_position": null,
            "order": null,
            "overflow": null,
            "overflow_x": null,
            "overflow_y": null,
            "padding": null,
            "right": null,
            "top": null,
            "visibility": null,
            "width": null
          }
        },
        "3b6dd1dfaf464b66843dfe3a52559657": {
          "model_module": "@jupyter-widgets/controls",
          "model_name": "DescriptionStyleModel",
          "model_module_version": "1.5.0",
          "state": {
            "_model_module": "@jupyter-widgets/controls",
            "_model_module_version": "1.5.0",
            "_model_name": "DescriptionStyleModel",
            "_view_count": null,
            "_view_module": "@jupyter-widgets/base",
            "_view_module_version": "1.2.0",
            "_view_name": "StyleView",
            "description_width": ""
          }
        },
        "dbfd06c5eba74bf1ac64c1a304bb4798": {
          "model_module": "@jupyter-widgets/base",
          "model_name": "LayoutModel",
          "model_module_version": "1.2.0",
          "state": {
            "_model_module": "@jupyter-widgets/base",
            "_model_module_version": "1.2.0",
            "_model_name": "LayoutModel",
            "_view_count": null,
            "_view_module": "@jupyter-widgets/base",
            "_view_module_version": "1.2.0",
            "_view_name": "LayoutView",
            "align_content": null,
            "align_items": null,
            "align_self": null,
            "border": null,
            "bottom": null,
            "display": null,
            "flex": null,
            "flex_flow": null,
            "grid_area": null,
            "grid_auto_columns": null,
            "grid_auto_flow": null,
            "grid_auto_rows": null,
            "grid_column": null,
            "grid_gap": null,
            "grid_row": null,
            "grid_template_areas": null,
            "grid_template_columns": null,
            "grid_template_rows": null,
            "height": null,
            "justify_content": null,
            "justify_items": null,
            "left": null,
            "margin": null,
            "max_height": null,
            "max_width": null,
            "min_height": null,
            "min_width": null,
            "object_fit": null,
            "object_position": null,
            "order": null,
            "overflow": null,
            "overflow_x": null,
            "overflow_y": null,
            "padding": null,
            "right": null,
            "top": null,
            "visibility": null,
            "width": null
          }
        },
        "06b8d825ac7e4a0184d39bdb0e76f752": {
          "model_module": "@jupyter-widgets/controls",
          "model_name": "ProgressStyleModel",
          "model_module_version": "1.5.0",
          "state": {
            "_model_module": "@jupyter-widgets/controls",
            "_model_module_version": "1.5.0",
            "_model_name": "ProgressStyleModel",
            "_view_count": null,
            "_view_module": "@jupyter-widgets/base",
            "_view_module_version": "1.2.0",
            "_view_name": "StyleView",
            "bar_color": null,
            "description_width": ""
          }
        },
        "e983dfbcbbe042d2b34289b5e977b641": {
          "model_module": "@jupyter-widgets/base",
          "model_name": "LayoutModel",
          "model_module_version": "1.2.0",
          "state": {
            "_model_module": "@jupyter-widgets/base",
            "_model_module_version": "1.2.0",
            "_model_name": "LayoutModel",
            "_view_count": null,
            "_view_module": "@jupyter-widgets/base",
            "_view_module_version": "1.2.0",
            "_view_name": "LayoutView",
            "align_content": null,
            "align_items": null,
            "align_self": null,
            "border": null,
            "bottom": null,
            "display": null,
            "flex": null,
            "flex_flow": null,
            "grid_area": null,
            "grid_auto_columns": null,
            "grid_auto_flow": null,
            "grid_auto_rows": null,
            "grid_column": null,
            "grid_gap": null,
            "grid_row": null,
            "grid_template_areas": null,
            "grid_template_columns": null,
            "grid_template_rows": null,
            "height": null,
            "justify_content": null,
            "justify_items": null,
            "left": null,
            "margin": null,
            "max_height": null,
            "max_width": null,
            "min_height": null,
            "min_width": null,
            "object_fit": null,
            "object_position": null,
            "order": null,
            "overflow": null,
            "overflow_x": null,
            "overflow_y": null,
            "padding": null,
            "right": null,
            "top": null,
            "visibility": null,
            "width": null
          }
        },
        "5ad75d6aa75c431381d23b83f55c4d7c": {
          "model_module": "@jupyter-widgets/controls",
          "model_name": "DescriptionStyleModel",
          "model_module_version": "1.5.0",
          "state": {
            "_model_module": "@jupyter-widgets/controls",
            "_model_module_version": "1.5.0",
            "_model_name": "DescriptionStyleModel",
            "_view_count": null,
            "_view_module": "@jupyter-widgets/base",
            "_view_module_version": "1.2.0",
            "_view_name": "StyleView",
            "description_width": ""
          }
        },
        "07c0f89356904649b363cbce1480de68": {
          "model_module": "@jupyter-widgets/controls",
          "model_name": "HBoxModel",
          "model_module_version": "1.5.0",
          "state": {
            "_dom_classes": [],
            "_model_module": "@jupyter-widgets/controls",
            "_model_module_version": "1.5.0",
            "_model_name": "HBoxModel",
            "_view_count": null,
            "_view_module": "@jupyter-widgets/controls",
            "_view_module_version": "1.5.0",
            "_view_name": "HBoxView",
            "box_style": "",
            "children": [
              "IPY_MODEL_fcb7434414644df6af4b06e4379bae46",
              "IPY_MODEL_7ecc2e293fa046178ab9323a8a4dd4bd",
              "IPY_MODEL_e62a7f6f87c047338f6cfc6dc5b941b0"
            ],
            "layout": "IPY_MODEL_0a1007a3492c44c2a040c66e3ee832cb"
          }
        },
        "fcb7434414644df6af4b06e4379bae46": {
          "model_module": "@jupyter-widgets/controls",
          "model_name": "HTMLModel",
          "model_module_version": "1.5.0",
          "state": {
            "_dom_classes": [],
            "_model_module": "@jupyter-widgets/controls",
            "_model_module_version": "1.5.0",
            "_model_name": "HTMLModel",
            "_view_count": null,
            "_view_module": "@jupyter-widgets/controls",
            "_view_module_version": "1.5.0",
            "_view_name": "HTMLView",
            "description": "",
            "description_tooltip": null,
            "layout": "IPY_MODEL_71a44b1493b3473f80f4a9eac4d3c658",
            "placeholder": "​",
            "style": "IPY_MODEL_884b6ecf7447452ebf356d10f9b6f4cc",
            "value": "Downloading: 100%"
          }
        },
        "7ecc2e293fa046178ab9323a8a4dd4bd": {
          "model_module": "@jupyter-widgets/controls",
          "model_name": "FloatProgressModel",
          "model_module_version": "1.5.0",
          "state": {
            "_dom_classes": [],
            "_model_module": "@jupyter-widgets/controls",
            "_model_module_version": "1.5.0",
            "_model_name": "FloatProgressModel",
            "_view_count": null,
            "_view_module": "@jupyter-widgets/controls",
            "_view_module_version": "1.5.0",
            "_view_name": "ProgressView",
            "bar_style": "success",
            "description": "",
            "description_tooltip": null,
            "layout": "IPY_MODEL_5cee584043f34b9e912beff791249865",
            "max": 112,
            "min": 0,
            "orientation": "horizontal",
            "style": "IPY_MODEL_4498655449964f8d9cda3b9e44bef441",
            "value": 112
          }
        },
        "e62a7f6f87c047338f6cfc6dc5b941b0": {
          "model_module": "@jupyter-widgets/controls",
          "model_name": "HTMLModel",
          "model_module_version": "1.5.0",
          "state": {
            "_dom_classes": [],
            "_model_module": "@jupyter-widgets/controls",
            "_model_module_version": "1.5.0",
            "_model_name": "HTMLModel",
            "_view_count": null,
            "_view_module": "@jupyter-widgets/controls",
            "_view_module_version": "1.5.0",
            "_view_name": "HTMLView",
            "description": "",
            "description_tooltip": null,
            "layout": "IPY_MODEL_a60a47c9abef4f7bb309f7069a268a0f",
            "placeholder": "​",
            "style": "IPY_MODEL_1e9ba0d48158482dae804673ee21c08b",
            "value": " 112/112 [00:00&lt;00:00, 3.37kB/s]"
          }
        },
        "0a1007a3492c44c2a040c66e3ee832cb": {
          "model_module": "@jupyter-widgets/base",
          "model_name": "LayoutModel",
          "model_module_version": "1.2.0",
          "state": {
            "_model_module": "@jupyter-widgets/base",
            "_model_module_version": "1.2.0",
            "_model_name": "LayoutModel",
            "_view_count": null,
            "_view_module": "@jupyter-widgets/base",
            "_view_module_version": "1.2.0",
            "_view_name": "LayoutView",
            "align_content": null,
            "align_items": null,
            "align_self": null,
            "border": null,
            "bottom": null,
            "display": null,
            "flex": null,
            "flex_flow": null,
            "grid_area": null,
            "grid_auto_columns": null,
            "grid_auto_flow": null,
            "grid_auto_rows": null,
            "grid_column": null,
            "grid_gap": null,
            "grid_row": null,
            "grid_template_areas": null,
            "grid_template_columns": null,
            "grid_template_rows": null,
            "height": null,
            "justify_content": null,
            "justify_items": null,
            "left": null,
            "margin": null,
            "max_height": null,
            "max_width": null,
            "min_height": null,
            "min_width": null,
            "object_fit": null,
            "object_position": null,
            "order": null,
            "overflow": null,
            "overflow_x": null,
            "overflow_y": null,
            "padding": null,
            "right": null,
            "top": null,
            "visibility": null,
            "width": null
          }
        },
        "71a44b1493b3473f80f4a9eac4d3c658": {
          "model_module": "@jupyter-widgets/base",
          "model_name": "LayoutModel",
          "model_module_version": "1.2.0",
          "state": {
            "_model_module": "@jupyter-widgets/base",
            "_model_module_version": "1.2.0",
            "_model_name": "LayoutModel",
            "_view_count": null,
            "_view_module": "@jupyter-widgets/base",
            "_view_module_version": "1.2.0",
            "_view_name": "LayoutView",
            "align_content": null,
            "align_items": null,
            "align_self": null,
            "border": null,
            "bottom": null,
            "display": null,
            "flex": null,
            "flex_flow": null,
            "grid_area": null,
            "grid_auto_columns": null,
            "grid_auto_flow": null,
            "grid_auto_rows": null,
            "grid_column": null,
            "grid_gap": null,
            "grid_row": null,
            "grid_template_areas": null,
            "grid_template_columns": null,
            "grid_template_rows": null,
            "height": null,
            "justify_content": null,
            "justify_items": null,
            "left": null,
            "margin": null,
            "max_height": null,
            "max_width": null,
            "min_height": null,
            "min_width": null,
            "object_fit": null,
            "object_position": null,
            "order": null,
            "overflow": null,
            "overflow_x": null,
            "overflow_y": null,
            "padding": null,
            "right": null,
            "top": null,
            "visibility": null,
            "width": null
          }
        },
        "884b6ecf7447452ebf356d10f9b6f4cc": {
          "model_module": "@jupyter-widgets/controls",
          "model_name": "DescriptionStyleModel",
          "model_module_version": "1.5.0",
          "state": {
            "_model_module": "@jupyter-widgets/controls",
            "_model_module_version": "1.5.0",
            "_model_name": "DescriptionStyleModel",
            "_view_count": null,
            "_view_module": "@jupyter-widgets/base",
            "_view_module_version": "1.2.0",
            "_view_name": "StyleView",
            "description_width": ""
          }
        },
        "5cee584043f34b9e912beff791249865": {
          "model_module": "@jupyter-widgets/base",
          "model_name": "LayoutModel",
          "model_module_version": "1.2.0",
          "state": {
            "_model_module": "@jupyter-widgets/base",
            "_model_module_version": "1.2.0",
            "_model_name": "LayoutModel",
            "_view_count": null,
            "_view_module": "@jupyter-widgets/base",
            "_view_module_version": "1.2.0",
            "_view_name": "LayoutView",
            "align_content": null,
            "align_items": null,
            "align_self": null,
            "border": null,
            "bottom": null,
            "display": null,
            "flex": null,
            "flex_flow": null,
            "grid_area": null,
            "grid_auto_columns": null,
            "grid_auto_flow": null,
            "grid_auto_rows": null,
            "grid_column": null,
            "grid_gap": null,
            "grid_row": null,
            "grid_template_areas": null,
            "grid_template_columns": null,
            "grid_template_rows": null,
            "height": null,
            "justify_content": null,
            "justify_items": null,
            "left": null,
            "margin": null,
            "max_height": null,
            "max_width": null,
            "min_height": null,
            "min_width": null,
            "object_fit": null,
            "object_position": null,
            "order": null,
            "overflow": null,
            "overflow_x": null,
            "overflow_y": null,
            "padding": null,
            "right": null,
            "top": null,
            "visibility": null,
            "width": null
          }
        },
        "4498655449964f8d9cda3b9e44bef441": {
          "model_module": "@jupyter-widgets/controls",
          "model_name": "ProgressStyleModel",
          "model_module_version": "1.5.0",
          "state": {
            "_model_module": "@jupyter-widgets/controls",
            "_model_module_version": "1.5.0",
            "_model_name": "ProgressStyleModel",
            "_view_count": null,
            "_view_module": "@jupyter-widgets/base",
            "_view_module_version": "1.2.0",
            "_view_name": "StyleView",
            "bar_color": null,
            "description_width": ""
          }
        },
        "a60a47c9abef4f7bb309f7069a268a0f": {
          "model_module": "@jupyter-widgets/base",
          "model_name": "LayoutModel",
          "model_module_version": "1.2.0",
          "state": {
            "_model_module": "@jupyter-widgets/base",
            "_model_module_version": "1.2.0",
            "_model_name": "LayoutModel",
            "_view_count": null,
            "_view_module": "@jupyter-widgets/base",
            "_view_module_version": "1.2.0",
            "_view_name": "LayoutView",
            "align_content": null,
            "align_items": null,
            "align_self": null,
            "border": null,
            "bottom": null,
            "display": null,
            "flex": null,
            "flex_flow": null,
            "grid_area": null,
            "grid_auto_columns": null,
            "grid_auto_flow": null,
            "grid_auto_rows": null,
            "grid_column": null,
            "grid_gap": null,
            "grid_row": null,
            "grid_template_areas": null,
            "grid_template_columns": null,
            "grid_template_rows": null,
            "height": null,
            "justify_content": null,
            "justify_items": null,
            "left": null,
            "margin": null,
            "max_height": null,
            "max_width": null,
            "min_height": null,
            "min_width": null,
            "object_fit": null,
            "object_position": null,
            "order": null,
            "overflow": null,
            "overflow_x": null,
            "overflow_y": null,
            "padding": null,
            "right": null,
            "top": null,
            "visibility": null,
            "width": null
          }
        },
        "1e9ba0d48158482dae804673ee21c08b": {
          "model_module": "@jupyter-widgets/controls",
          "model_name": "DescriptionStyleModel",
          "model_module_version": "1.5.0",
          "state": {
            "_model_module": "@jupyter-widgets/controls",
            "_model_module_version": "1.5.0",
            "_model_name": "DescriptionStyleModel",
            "_view_count": null,
            "_view_module": "@jupyter-widgets/base",
            "_view_module_version": "1.2.0",
            "_view_name": "StyleView",
            "description_width": ""
          }
        },
        "396276275c254166beaa5e72cf173c94": {
          "model_module": "@jupyter-widgets/controls",
          "model_name": "HBoxModel",
          "model_module_version": "1.5.0",
          "state": {
            "_dom_classes": [],
            "_model_module": "@jupyter-widgets/controls",
            "_model_module_version": "1.5.0",
            "_model_name": "HBoxModel",
            "_view_count": null,
            "_view_module": "@jupyter-widgets/controls",
            "_view_module_version": "1.5.0",
            "_view_name": "HBoxView",
            "box_style": "",
            "children": [
              "IPY_MODEL_bfd0b2546bb941c5890ce3def45da4af",
              "IPY_MODEL_86cd8dd3a90a4b01b23fe81ca47f69ba",
              "IPY_MODEL_6fb8c85ba69b45179b0ef26363339be1"
            ],
            "layout": "IPY_MODEL_ba001b5071c84239b2a6393c0932dfd7"
          }
        },
        "bfd0b2546bb941c5890ce3def45da4af": {
          "model_module": "@jupyter-widgets/controls",
          "model_name": "HTMLModel",
          "model_module_version": "1.5.0",
          "state": {
            "_dom_classes": [],
            "_model_module": "@jupyter-widgets/controls",
            "_model_module_version": "1.5.0",
            "_model_name": "HTMLModel",
            "_view_count": null,
            "_view_module": "@jupyter-widgets/controls",
            "_view_module_version": "1.5.0",
            "_view_name": "HTMLView",
            "description": "",
            "description_tooltip": null,
            "layout": "IPY_MODEL_af294f93d6134909a52f45d563380eff",
            "placeholder": "​",
            "style": "IPY_MODEL_7f084ff0116940c0bccdc51a4262ecae",
            "value": "Downloading: 100%"
          }
        },
        "86cd8dd3a90a4b01b23fe81ca47f69ba": {
          "model_module": "@jupyter-widgets/controls",
          "model_name": "FloatProgressModel",
          "model_module_version": "1.5.0",
          "state": {
            "_dom_classes": [],
            "_model_module": "@jupyter-widgets/controls",
            "_model_module_version": "1.5.0",
            "_model_name": "FloatProgressModel",
            "_view_count": null,
            "_view_module": "@jupyter-widgets/controls",
            "_view_module_version": "1.5.0",
            "_view_name": "ProgressView",
            "bar_style": "success",
            "description": "",
            "description_tooltip": null,
            "layout": "IPY_MODEL_5529ec4d8fe84c17a3ca90533a67af02",
            "max": 24,
            "min": 0,
            "orientation": "horizontal",
            "style": "IPY_MODEL_a01239c9ca60416588d4ea0758f86dcb",
            "value": 24
          }
        },
        "6fb8c85ba69b45179b0ef26363339be1": {
          "model_module": "@jupyter-widgets/controls",
          "model_name": "HTMLModel",
          "model_module_version": "1.5.0",
          "state": {
            "_dom_classes": [],
            "_model_module": "@jupyter-widgets/controls",
            "_model_module_version": "1.5.0",
            "_model_name": "HTMLModel",
            "_view_count": null,
            "_view_module": "@jupyter-widgets/controls",
            "_view_module_version": "1.5.0",
            "_view_name": "HTMLView",
            "description": "",
            "description_tooltip": null,
            "layout": "IPY_MODEL_912a7150f31146ed99d58b3ee559a967",
            "placeholder": "​",
            "style": "IPY_MODEL_ae88abaf7fe04a86b126eb1be4851592",
            "value": " 24.0/24.0 [00:00&lt;00:00, 867B/s]"
          }
        },
        "ba001b5071c84239b2a6393c0932dfd7": {
          "model_module": "@jupyter-widgets/base",
          "model_name": "LayoutModel",
          "model_module_version": "1.2.0",
          "state": {
            "_model_module": "@jupyter-widgets/base",
            "_model_module_version": "1.2.0",
            "_model_name": "LayoutModel",
            "_view_count": null,
            "_view_module": "@jupyter-widgets/base",
            "_view_module_version": "1.2.0",
            "_view_name": "LayoutView",
            "align_content": null,
            "align_items": null,
            "align_self": null,
            "border": null,
            "bottom": null,
            "display": null,
            "flex": null,
            "flex_flow": null,
            "grid_area": null,
            "grid_auto_columns": null,
            "grid_auto_flow": null,
            "grid_auto_rows": null,
            "grid_column": null,
            "grid_gap": null,
            "grid_row": null,
            "grid_template_areas": null,
            "grid_template_columns": null,
            "grid_template_rows": null,
            "height": null,
            "justify_content": null,
            "justify_items": null,
            "left": null,
            "margin": null,
            "max_height": null,
            "max_width": null,
            "min_height": null,
            "min_width": null,
            "object_fit": null,
            "object_position": null,
            "order": null,
            "overflow": null,
            "overflow_x": null,
            "overflow_y": null,
            "padding": null,
            "right": null,
            "top": null,
            "visibility": null,
            "width": null
          }
        },
        "af294f93d6134909a52f45d563380eff": {
          "model_module": "@jupyter-widgets/base",
          "model_name": "LayoutModel",
          "model_module_version": "1.2.0",
          "state": {
            "_model_module": "@jupyter-widgets/base",
            "_model_module_version": "1.2.0",
            "_model_name": "LayoutModel",
            "_view_count": null,
            "_view_module": "@jupyter-widgets/base",
            "_view_module_version": "1.2.0",
            "_view_name": "LayoutView",
            "align_content": null,
            "align_items": null,
            "align_self": null,
            "border": null,
            "bottom": null,
            "display": null,
            "flex": null,
            "flex_flow": null,
            "grid_area": null,
            "grid_auto_columns": null,
            "grid_auto_flow": null,
            "grid_auto_rows": null,
            "grid_column": null,
            "grid_gap": null,
            "grid_row": null,
            "grid_template_areas": null,
            "grid_template_columns": null,
            "grid_template_rows": null,
            "height": null,
            "justify_content": null,
            "justify_items": null,
            "left": null,
            "margin": null,
            "max_height": null,
            "max_width": null,
            "min_height": null,
            "min_width": null,
            "object_fit": null,
            "object_position": null,
            "order": null,
            "overflow": null,
            "overflow_x": null,
            "overflow_y": null,
            "padding": null,
            "right": null,
            "top": null,
            "visibility": null,
            "width": null
          }
        },
        "7f084ff0116940c0bccdc51a4262ecae": {
          "model_module": "@jupyter-widgets/controls",
          "model_name": "DescriptionStyleModel",
          "model_module_version": "1.5.0",
          "state": {
            "_model_module": "@jupyter-widgets/controls",
            "_model_module_version": "1.5.0",
            "_model_name": "DescriptionStyleModel",
            "_view_count": null,
            "_view_module": "@jupyter-widgets/base",
            "_view_module_version": "1.2.0",
            "_view_name": "StyleView",
            "description_width": ""
          }
        },
        "5529ec4d8fe84c17a3ca90533a67af02": {
          "model_module": "@jupyter-widgets/base",
          "model_name": "LayoutModel",
          "model_module_version": "1.2.0",
          "state": {
            "_model_module": "@jupyter-widgets/base",
            "_model_module_version": "1.2.0",
            "_model_name": "LayoutModel",
            "_view_count": null,
            "_view_module": "@jupyter-widgets/base",
            "_view_module_version": "1.2.0",
            "_view_name": "LayoutView",
            "align_content": null,
            "align_items": null,
            "align_self": null,
            "border": null,
            "bottom": null,
            "display": null,
            "flex": null,
            "flex_flow": null,
            "grid_area": null,
            "grid_auto_columns": null,
            "grid_auto_flow": null,
            "grid_auto_rows": null,
            "grid_column": null,
            "grid_gap": null,
            "grid_row": null,
            "grid_template_areas": null,
            "grid_template_columns": null,
            "grid_template_rows": null,
            "height": null,
            "justify_content": null,
            "justify_items": null,
            "left": null,
            "margin": null,
            "max_height": null,
            "max_width": null,
            "min_height": null,
            "min_width": null,
            "object_fit": null,
            "object_position": null,
            "order": null,
            "overflow": null,
            "overflow_x": null,
            "overflow_y": null,
            "padding": null,
            "right": null,
            "top": null,
            "visibility": null,
            "width": null
          }
        },
        "a01239c9ca60416588d4ea0758f86dcb": {
          "model_module": "@jupyter-widgets/controls",
          "model_name": "ProgressStyleModel",
          "model_module_version": "1.5.0",
          "state": {
            "_model_module": "@jupyter-widgets/controls",
            "_model_module_version": "1.5.0",
            "_model_name": "ProgressStyleModel",
            "_view_count": null,
            "_view_module": "@jupyter-widgets/base",
            "_view_module_version": "1.2.0",
            "_view_name": "StyleView",
            "bar_color": null,
            "description_width": ""
          }
        },
        "912a7150f31146ed99d58b3ee559a967": {
          "model_module": "@jupyter-widgets/base",
          "model_name": "LayoutModel",
          "model_module_version": "1.2.0",
          "state": {
            "_model_module": "@jupyter-widgets/base",
            "_model_module_version": "1.2.0",
            "_model_name": "LayoutModel",
            "_view_count": null,
            "_view_module": "@jupyter-widgets/base",
            "_view_module_version": "1.2.0",
            "_view_name": "LayoutView",
            "align_content": null,
            "align_items": null,
            "align_self": null,
            "border": null,
            "bottom": null,
            "display": null,
            "flex": null,
            "flex_flow": null,
            "grid_area": null,
            "grid_auto_columns": null,
            "grid_auto_flow": null,
            "grid_auto_rows": null,
            "grid_column": null,
            "grid_gap": null,
            "grid_row": null,
            "grid_template_areas": null,
            "grid_template_columns": null,
            "grid_template_rows": null,
            "height": null,
            "justify_content": null,
            "justify_items": null,
            "left": null,
            "margin": null,
            "max_height": null,
            "max_width": null,
            "min_height": null,
            "min_width": null,
            "object_fit": null,
            "object_position": null,
            "order": null,
            "overflow": null,
            "overflow_x": null,
            "overflow_y": null,
            "padding": null,
            "right": null,
            "top": null,
            "visibility": null,
            "width": null
          }
        },
        "ae88abaf7fe04a86b126eb1be4851592": {
          "model_module": "@jupyter-widgets/controls",
          "model_name": "DescriptionStyleModel",
          "model_module_version": "1.5.0",
          "state": {
            "_model_module": "@jupyter-widgets/controls",
            "_model_module_version": "1.5.0",
            "_model_name": "DescriptionStyleModel",
            "_view_count": null,
            "_view_module": "@jupyter-widgets/base",
            "_view_module_version": "1.2.0",
            "_view_name": "StyleView",
            "description_width": ""
          }
        },
        "a4470092e8214f8d811db6b02fa59687": {
          "model_module": "@jupyter-widgets/controls",
          "model_name": "HBoxModel",
          "model_module_version": "1.5.0",
          "state": {
            "_dom_classes": [],
            "_model_module": "@jupyter-widgets/controls",
            "_model_module_version": "1.5.0",
            "_model_name": "HBoxModel",
            "_view_count": null,
            "_view_module": "@jupyter-widgets/controls",
            "_view_module_version": "1.5.0",
            "_view_name": "HBoxView",
            "box_style": "",
            "children": [
              "IPY_MODEL_f062c8f574d943e182163b9d0ccc5398",
              "IPY_MODEL_397a992f3861440e8985a228a39729c0",
              "IPY_MODEL_99081521d7a74cf68f6c460236d0eadd"
            ],
            "layout": "IPY_MODEL_70616076c99b46bd87259cc2cd231c13"
          }
        },
        "f062c8f574d943e182163b9d0ccc5398": {
          "model_module": "@jupyter-widgets/controls",
          "model_name": "HTMLModel",
          "model_module_version": "1.5.0",
          "state": {
            "_dom_classes": [],
            "_model_module": "@jupyter-widgets/controls",
            "_model_module_version": "1.5.0",
            "_model_name": "HTMLModel",
            "_view_count": null,
            "_view_module": "@jupyter-widgets/controls",
            "_view_module_version": "1.5.0",
            "_view_name": "HTMLView",
            "description": "",
            "description_tooltip": null,
            "layout": "IPY_MODEL_6730af8ca1fe4ff9a4158c4fd78c7137",
            "placeholder": "​",
            "style": "IPY_MODEL_0d2a0c01fcc445858e7af4a76787e2b9",
            "value": "Downloading: 100%"
          }
        },
        "397a992f3861440e8985a228a39729c0": {
          "model_module": "@jupyter-widgets/controls",
          "model_name": "FloatProgressModel",
          "model_module_version": "1.5.0",
          "state": {
            "_dom_classes": [],
            "_model_module": "@jupyter-widgets/controls",
            "_model_module_version": "1.5.0",
            "_model_name": "FloatProgressModel",
            "_view_count": null,
            "_view_module": "@jupyter-widgets/controls",
            "_view_module_version": "1.5.0",
            "_view_name": "ProgressView",
            "bar_style": "success",
            "description": "",
            "description_tooltip": null,
            "layout": "IPY_MODEL_c91e9025c93a4139a481ad45677dbc8b",
            "max": 1404983,
            "min": 0,
            "orientation": "horizontal",
            "style": "IPY_MODEL_8d773d0e6034404e8c98641241d88add",
            "value": 1404983
          }
        },
        "99081521d7a74cf68f6c460236d0eadd": {
          "model_module": "@jupyter-widgets/controls",
          "model_name": "HTMLModel",
          "model_module_version": "1.5.0",
          "state": {
            "_dom_classes": [],
            "_model_module": "@jupyter-widgets/controls",
            "_model_module_version": "1.5.0",
            "_model_name": "HTMLModel",
            "_view_count": null,
            "_view_module": "@jupyter-widgets/controls",
            "_view_module_version": "1.5.0",
            "_view_name": "HTMLView",
            "description": "",
            "description_tooltip": null,
            "layout": "IPY_MODEL_e8187a79aa6f43f6b9f11c8368b2f850",
            "placeholder": "​",
            "style": "IPY_MODEL_b50d461d75e3456d911d1dd397b1086b",
            "value": " 1.40M/1.40M [00:00&lt;00:00, 2.86MB/s]"
          }
        },
        "70616076c99b46bd87259cc2cd231c13": {
          "model_module": "@jupyter-widgets/base",
          "model_name": "LayoutModel",
          "model_module_version": "1.2.0",
          "state": {
            "_model_module": "@jupyter-widgets/base",
            "_model_module_version": "1.2.0",
            "_model_name": "LayoutModel",
            "_view_count": null,
            "_view_module": "@jupyter-widgets/base",
            "_view_module_version": "1.2.0",
            "_view_name": "LayoutView",
            "align_content": null,
            "align_items": null,
            "align_self": null,
            "border": null,
            "bottom": null,
            "display": null,
            "flex": null,
            "flex_flow": null,
            "grid_area": null,
            "grid_auto_columns": null,
            "grid_auto_flow": null,
            "grid_auto_rows": null,
            "grid_column": null,
            "grid_gap": null,
            "grid_row": null,
            "grid_template_areas": null,
            "grid_template_columns": null,
            "grid_template_rows": null,
            "height": null,
            "justify_content": null,
            "justify_items": null,
            "left": null,
            "margin": null,
            "max_height": null,
            "max_width": null,
            "min_height": null,
            "min_width": null,
            "object_fit": null,
            "object_position": null,
            "order": null,
            "overflow": null,
            "overflow_x": null,
            "overflow_y": null,
            "padding": null,
            "right": null,
            "top": null,
            "visibility": null,
            "width": null
          }
        },
        "6730af8ca1fe4ff9a4158c4fd78c7137": {
          "model_module": "@jupyter-widgets/base",
          "model_name": "LayoutModel",
          "model_module_version": "1.2.0",
          "state": {
            "_model_module": "@jupyter-widgets/base",
            "_model_module_version": "1.2.0",
            "_model_name": "LayoutModel",
            "_view_count": null,
            "_view_module": "@jupyter-widgets/base",
            "_view_module_version": "1.2.0",
            "_view_name": "LayoutView",
            "align_content": null,
            "align_items": null,
            "align_self": null,
            "border": null,
            "bottom": null,
            "display": null,
            "flex": null,
            "flex_flow": null,
            "grid_area": null,
            "grid_auto_columns": null,
            "grid_auto_flow": null,
            "grid_auto_rows": null,
            "grid_column": null,
            "grid_gap": null,
            "grid_row": null,
            "grid_template_areas": null,
            "grid_template_columns": null,
            "grid_template_rows": null,
            "height": null,
            "justify_content": null,
            "justify_items": null,
            "left": null,
            "margin": null,
            "max_height": null,
            "max_width": null,
            "min_height": null,
            "min_width": null,
            "object_fit": null,
            "object_position": null,
            "order": null,
            "overflow": null,
            "overflow_x": null,
            "overflow_y": null,
            "padding": null,
            "right": null,
            "top": null,
            "visibility": null,
            "width": null
          }
        },
        "0d2a0c01fcc445858e7af4a76787e2b9": {
          "model_module": "@jupyter-widgets/controls",
          "model_name": "DescriptionStyleModel",
          "model_module_version": "1.5.0",
          "state": {
            "_model_module": "@jupyter-widgets/controls",
            "_model_module_version": "1.5.0",
            "_model_name": "DescriptionStyleModel",
            "_view_count": null,
            "_view_module": "@jupyter-widgets/base",
            "_view_module_version": "1.2.0",
            "_view_name": "StyleView",
            "description_width": ""
          }
        },
        "c91e9025c93a4139a481ad45677dbc8b": {
          "model_module": "@jupyter-widgets/base",
          "model_name": "LayoutModel",
          "model_module_version": "1.2.0",
          "state": {
            "_model_module": "@jupyter-widgets/base",
            "_model_module_version": "1.2.0",
            "_model_name": "LayoutModel",
            "_view_count": null,
            "_view_module": "@jupyter-widgets/base",
            "_view_module_version": "1.2.0",
            "_view_name": "LayoutView",
            "align_content": null,
            "align_items": null,
            "align_self": null,
            "border": null,
            "bottom": null,
            "display": null,
            "flex": null,
            "flex_flow": null,
            "grid_area": null,
            "grid_auto_columns": null,
            "grid_auto_flow": null,
            "grid_auto_rows": null,
            "grid_column": null,
            "grid_gap": null,
            "grid_row": null,
            "grid_template_areas": null,
            "grid_template_columns": null,
            "grid_template_rows": null,
            "height": null,
            "justify_content": null,
            "justify_items": null,
            "left": null,
            "margin": null,
            "max_height": null,
            "max_width": null,
            "min_height": null,
            "min_width": null,
            "object_fit": null,
            "object_position": null,
            "order": null,
            "overflow": null,
            "overflow_x": null,
            "overflow_y": null,
            "padding": null,
            "right": null,
            "top": null,
            "visibility": null,
            "width": null
          }
        },
        "8d773d0e6034404e8c98641241d88add": {
          "model_module": "@jupyter-widgets/controls",
          "model_name": "ProgressStyleModel",
          "model_module_version": "1.5.0",
          "state": {
            "_model_module": "@jupyter-widgets/controls",
            "_model_module_version": "1.5.0",
            "_model_name": "ProgressStyleModel",
            "_view_count": null,
            "_view_module": "@jupyter-widgets/base",
            "_view_module_version": "1.2.0",
            "_view_name": "StyleView",
            "bar_color": null,
            "description_width": ""
          }
        },
        "e8187a79aa6f43f6b9f11c8368b2f850": {
          "model_module": "@jupyter-widgets/base",
          "model_name": "LayoutModel",
          "model_module_version": "1.2.0",
          "state": {
            "_model_module": "@jupyter-widgets/base",
            "_model_module_version": "1.2.0",
            "_model_name": "LayoutModel",
            "_view_count": null,
            "_view_module": "@jupyter-widgets/base",
            "_view_module_version": "1.2.0",
            "_view_name": "LayoutView",
            "align_content": null,
            "align_items": null,
            "align_self": null,
            "border": null,
            "bottom": null,
            "display": null,
            "flex": null,
            "flex_flow": null,
            "grid_area": null,
            "grid_auto_columns": null,
            "grid_auto_flow": null,
            "grid_auto_rows": null,
            "grid_column": null,
            "grid_gap": null,
            "grid_row": null,
            "grid_template_areas": null,
            "grid_template_columns": null,
            "grid_template_rows": null,
            "height": null,
            "justify_content": null,
            "justify_items": null,
            "left": null,
            "margin": null,
            "max_height": null,
            "max_width": null,
            "min_height": null,
            "min_width": null,
            "object_fit": null,
            "object_position": null,
            "order": null,
            "overflow": null,
            "overflow_x": null,
            "overflow_y": null,
            "padding": null,
            "right": null,
            "top": null,
            "visibility": null,
            "width": null
          }
        },
        "b50d461d75e3456d911d1dd397b1086b": {
          "model_module": "@jupyter-widgets/controls",
          "model_name": "DescriptionStyleModel",
          "model_module_version": "1.5.0",
          "state": {
            "_model_module": "@jupyter-widgets/controls",
            "_model_module_version": "1.5.0",
            "_model_name": "DescriptionStyleModel",
            "_view_count": null,
            "_view_module": "@jupyter-widgets/base",
            "_view_module_version": "1.2.0",
            "_view_name": "StyleView",
            "description_width": ""
          }
        }
      }
    },
    "accelerator": "GPU",
    "gpuClass": "standard"
  },
  "nbformat": 4,
  "nbformat_minor": 0
}